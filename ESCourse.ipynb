{
 "cells": [
  {
   "cell_type": "markdown",
   "id": "06f6acbb-c090-46c0-a22b-62a1412c6709",
   "metadata": {},
   "source": [
    "Nawet nie wiem jak, ale udalo mi sie to odpalic XD"
   ]
  },
  {
   "cell_type": "code",
   "execution_count": 1,
   "id": "0b898f6f-c952-45a4-928d-a1827ef52aed",
   "metadata": {},
   "outputs": [],
   "source": [
    "from pprint import pprint\n",
    "from elasticsearch import Elasticsearch"
   ]
  },
  {
   "cell_type": "code",
   "execution_count": 2,
   "id": "da25ea4a-f177-4bc4-889a-ad93cbbdfcd5",
   "metadata": {},
   "outputs": [
    {
     "name": "stdout",
     "output_type": "stream",
     "text": [
      "Connected to Elasticsearch!\n",
      "{'cluster_name': 'docker-cluster',\n",
      " 'cluster_uuid': 'Hb6aErwaQCmhnl_0DbAbbA',\n",
      " 'name': '250e5fef5db6',\n",
      " 'tagline': 'You Know, for Search',\n",
      " 'version': {'build_date': '2024-08-05T10:05:34.233336849Z',\n",
      "             'build_flavor': 'default',\n",
      "             'build_hash': '1a77947f34deddb41af25e6f0ddb8e830159c179',\n",
      "             'build_snapshot': False,\n",
      "             'build_type': 'docker',\n",
      "             'lucene_version': '9.11.1',\n",
      "             'minimum_index_compatibility_version': '7.0.0',\n",
      "             'minimum_wire_compatibility_version': '7.17.0',\n",
      "             'number': '8.15.0'}}\n"
     ]
    }
   ],
   "source": [
    "es = Elasticsearch('http://localhost:9200')\n",
    "client_info = es.info()\n",
    "print('Connected to Elasticsearch!')\n",
    "pprint(client_info.body)"
   ]
  },
  {
   "cell_type": "markdown",
   "id": "7a3724cd-1b2a-43ec-b131-f53365c4dc85",
   "metadata": {},
   "source": [
    "Udało nam się połączyć, wyprintowało to samo info jakbyśmy kliknęli w tego linka wyżej"
   ]
  },
  {
   "cell_type": "markdown",
   "id": "7a10524d-7c00-44c6-945d-7d28472a804f",
   "metadata": {},
   "source": [
    "### Stwórzmy sobie index"
   ]
  },
  {
   "cell_type": "code",
   "execution_count": 20,
   "id": "dba3fe4b-4e3d-43d2-aa6d-74dc9aebbd27",
   "metadata": {},
   "outputs": [
    {
     "data": {
      "text/plain": [
       "ObjectApiResponse({'acknowledged': True, 'shards_acknowledged': True, 'index': 'my_index'})"
      ]
     },
     "execution_count": 20,
     "metadata": {},
     "output_type": "execute_result"
    }
   ],
   "source": [
    "es.indices.create(index='my_index')"
   ]
  },
  {
   "cell_type": "markdown",
   "id": "2f46bbe0-eae7-4754-8599-c5667b100636",
   "metadata": {},
   "source": [
    "okej, udało nam się stworzyć index"
   ]
  },
  {
   "cell_type": "markdown",
   "id": "c477015a-5454-4928-851e-70fa64cdf7c4",
   "metadata": {},
   "source": [
    "### Replicas and Shards"
   ]
  },
  {
   "cell_type": "code",
   "execution_count": 19,
   "id": "ffd47c45-37bc-47aa-91a9-b75b0e83ccc8",
   "metadata": {},
   "outputs": [
    {
     "data": {
      "text/plain": [
       "' es.indices.create(\\n    index=\\'my_index\\',\\n    settings={\\n    \"index\": {\\n    \"number_of_shards\": 2,\\n    \"number_of_replicas\": 2\\n}\\n    },\\n)'"
      ]
     },
     "execution_count": 19,
     "metadata": {},
     "output_type": "execute_result"
    }
   ],
   "source": [
    "# usuwamy poprzedni, zeby moc stworzyc nowy\n",
    "es.indices.delete(index='my_index', ignore_unavailable=True)\n",
    "''' es.indices.create(\n",
    "    index='my_index',\n",
    "    settings={\n",
    "    \"index\": {\n",
    "    \"number_of_shards\": 2,\n",
    "    \"number_of_replicas\": 2\n",
    "}\n",
    "    },\n",
    ")''' "
   ]
  },
  {
   "cell_type": "markdown",
   "id": "d6c14f54-e370-4b1a-99e3-c48f57a9ba97",
   "metadata": {},
   "source": [
    "### Create a document"
   ]
  },
  {
   "cell_type": "code",
   "execution_count": 21,
   "id": "1bfa0b88-af4b-468b-acf6-4d01910b11cf",
   "metadata": {},
   "outputs": [
    {
     "data": {
      "text/plain": [
       "ObjectApiResponse({'_index': 'my_index', '_id': 'XjlN-pQBLPyNZVTB9V0a', '_version': 1, 'result': 'created', '_shards': {'total': 2, 'successful': 1, 'failed': 0}, '_seq_no': 0, '_primary_term': 1})"
      ]
     },
     "execution_count": 21,
     "metadata": {},
     "output_type": "execute_result"
    }
   ],
   "source": [
    "document = {\n",
    "    'title': 'title',\n",
    "    'text': 'text',\n",
    "    'created_on': '2025-02-12',\n",
    "}\n",
    "response = es.index(index='my_index', body=document)\n",
    "response"
   ]
  },
  {
   "cell_type": "code",
   "execution_count": 22,
   "id": "c87b07c1-d4b0-493f-abb1-331da831fa9a",
   "metadata": {},
   "outputs": [
    {
     "name": "stdout",
     "output_type": "stream",
     "text": [
      "created\n"
     ]
    }
   ],
   "source": [
    "print(response['result'])"
   ]
  },
  {
   "cell_type": "markdown",
   "id": "761237f1-a677-4c70-a8c3-cedba3bead1a",
   "metadata": {},
   "source": [
    "created oznacza, ze sie udalo essa"
   ]
  },
  {
   "cell_type": "code",
   "execution_count": 23,
   "id": "75476bd8-ef99-4a8b-b891-fad2d489db3b",
   "metadata": {},
   "outputs": [
    {
     "name": "stdout",
     "output_type": "stream",
     "text": [
      "{'total': 2, 'successful': 1, 'failed': 0}\n"
     ]
    }
   ],
   "source": [
    "print(response['_shards'])"
   ]
  },
  {
   "cell_type": "markdown",
   "id": "42e57345-7a8d-4f82-8e57-92c46bc9cc0f",
   "metadata": {},
   "source": [
    "tak jak ustalilismy wczesniej, dokument zostal podzielony na 3 czesci"
   ]
  },
  {
   "cell_type": "code",
   "execution_count": 24,
   "id": "60ce1573-70bb-4165-8a7f-fbd63db86d5f",
   "metadata": {},
   "outputs": [
    {
     "name": "stdout",
     "output_type": "stream",
     "text": [
      "XjlN-pQBLPyNZVTB9V0a\n"
     ]
    }
   ],
   "source": [
    "print(response['_id'])"
   ]
  },
  {
   "cell_type": "markdown",
   "id": "c0b72a07-0824-42b9-9272-5edbd17fad44",
   "metadata": {},
   "source": [
    "tutaj wiadomo, id "
   ]
  },
  {
   "cell_type": "code",
   "execution_count": 25,
   "id": "64eedf39-19d2-407e-b3c3-2e88d9d5c3d5",
   "metadata": {},
   "outputs": [
    {
     "name": "stdout",
     "output_type": "stream",
     "text": [
      "my_index\n"
     ]
    }
   ],
   "source": [
    "print(response['_index'])"
   ]
  },
  {
   "cell_type": "code",
   "execution_count": 26,
   "id": "e2c4f97c-1dbe-4752-981d-8df0585493f8",
   "metadata": {},
   "outputs": [
    {
     "data": {
      "text/plain": [
       "[{'title': 'Sample Title 1',\n",
       "  'text': 'This is the first sample document text.',\n",
       "  'created_on': '2025-02-12'},\n",
       " {'title': 'Sample Title 2',\n",
       "  'text': 'Here is another example of a document.',\n",
       "  'created_on': '2025-02-12'},\n",
       " {'title': 'Sample Title 3',\n",
       "  'text': 'The content of the third document goes here.',\n",
       "  'created_on': '2025-02-12'}]"
      ]
     },
     "execution_count": 26,
     "metadata": {},
     "output_type": "execute_result"
    }
   ],
   "source": [
    "import json \n",
    "dummy_data = json.load(open(\"dummy_data.json\"))\n",
    "dummy_data"
   ]
  },
  {
   "cell_type": "markdown",
   "id": "c1c85bda-4829-41db-92c8-c2ee130eaf55",
   "metadata": {},
   "source": [
    "### Insert multiple documents"
   ]
  },
  {
   "cell_type": "code",
   "execution_count": 27,
   "id": "705ec2a7-f825-44e1-b24d-b27078d1477f",
   "metadata": {},
   "outputs": [
    {
     "name": "stdout",
     "output_type": "stream",
     "text": [
      "\"Document ID: XzlQ-pQBLPyNZVTBcl31 is 'created' and is split into 2 shards.\"\n",
      "\"Document ID: YDlQ-pQBLPyNZVTBc10Z is 'created' and is split into 2 shards.\"\n",
      "\"Document ID: YTlQ-pQBLPyNZVTBc10p is 'created' and is split into 2 shards.\"\n"
     ]
    }
   ],
   "source": [
    "def insert_documents(document):\n",
    "    response = es.index(index='my_index', body=document)\n",
    "    return response\n",
    "\n",
    "def print_info(response):\n",
    "    pprint(f\"\"\"Document ID: {response['_id']} is '{\n",
    "    response['result']}' and is split into {response['_shards']['total']} shards.\"\"\")\n",
    "\n",
    "for document in dummy_data:\n",
    "    response = insert_documents(document)\n",
    "    print_info(response)"
   ]
  },
  {
   "cell_type": "markdown",
   "id": "405e3af3-7fc3-4feb-b885-eca270ec5cf5",
   "metadata": {},
   "source": [
    "### Print mapping"
   ]
  },
  {
   "cell_type": "code",
   "execution_count": 28,
   "id": "0c3ad8ce-c933-49ee-a124-fa1b53648b9f",
   "metadata": {},
   "outputs": [
    {
     "name": "stdout",
     "output_type": "stream",
     "text": [
      "{'created_on': {'type': 'date'},\n",
      " 'text': {'fields': {'keyword': {'ignore_above': 256, 'type': 'keyword'}},\n",
      "          'type': 'text'},\n",
      " 'title': {'fields': {'keyword': {'ignore_above': 256, 'type': 'keyword'}},\n",
      "           'type': 'text'}}\n"
     ]
    }
   ],
   "source": [
    "index_mapping = es.indices.get_mapping(index='my_index')\n",
    "pprint(index_mapping['my_index']['mappings']['properties'])"
   ]
  },
  {
   "cell_type": "markdown",
   "id": "58af1093-2c5f-4c51-8f41-5e5bbbdd9be0",
   "metadata": {},
   "source": [
    "## Common types\n",
    "### Binary"
   ]
  },
  {
   "cell_type": "code",
   "execution_count": 31,
   "id": "b4882a57-3c0f-466b-ac43-85295af5b4cd",
   "metadata": {},
   "outputs": [
    {
     "data": {
      "text/plain": [
       "ObjectApiResponse({'acknowledged': True, 'shards_acknowledged': True, 'index': 'binary_index'})"
      ]
     },
     "execution_count": 31,
     "metadata": {},
     "output_type": "execute_result"
    }
   ],
   "source": [
    "es.indices.delete(index='binary_index', ignore_unavailable=True)\n",
    "es.indices.create(\n",
    "    index='binary_index',\n",
    "    mappings={\n",
    "        \"properties\": {\n",
    "            \"image_data\": {\n",
    "                \"type\": \"binary\"\n",
    "            }\n",
    "        }\n",
    "    }\n",
    ")"
   ]
  },
  {
   "cell_type": "markdown",
   "id": "a0a53e8f-ba68-43c3-83f0-b1aa27ac987e",
   "metadata": {},
   "source": [
    "Stworzyliśmy sobie indeks na typ binarny np. na zdjecie"
   ]
  },
  {
   "cell_type": "code",
   "execution_count": 34,
   "id": "b4dd3319-8a6e-4b5b-b334-971cda8c2af2",
   "metadata": {},
   "outputs": [
    {
     "data": {
      "text/plain": [
       "'iVBORw0KGgoAAAANSUhEUgAAAWgAAAFGCAMAAABwnfWhAAACnVBMVEXu7u4LEyoNER7+BCQEBw8HDBoIECP///8BAgYGChYNFzP+'"
      ]
     },
     "execution_count": 34,
     "metadata": {},
     "output_type": "execute_result"
    }
   ],
   "source": [
    "import base64\n",
    "\n",
    "image_path = \"image.png\"\n",
    "with open(image_path, \"rb\") as image_file:\n",
    "    image_bytes = image_file.read()\n",
    "    image_base64 = base64.b64encode(image_bytes).decode(\"utf-8\")\n",
    "\n",
    "image_base64[:100]"
   ]
  },
  {
   "cell_type": "markdown",
   "id": "3eb154f1-64eb-4175-9f34-d034fb89249c",
   "metadata": {},
   "source": [
    "Stworzyliśmy teraz ?obiekt?, w sensie zapisalismy to zdjecie binarnie zakodowane i w ogole super"
   ]
  },
  {
   "cell_type": "code",
   "execution_count": 35,
   "id": "ab077c84-2a2c-4254-b4f4-4e71791c9ab9",
   "metadata": {},
   "outputs": [
    {
     "data": {
      "text/plain": [
       "ObjectApiResponse({'_index': 'binary_index', '_id': 'Yjlf-pQBLPyNZVTBv12Q', '_version': 1, 'result': 'created', '_shards': {'total': 2, 'successful': 1, 'failed': 0}, '_seq_no': 0, '_primary_term': 1})"
      ]
     },
     "execution_count": 35,
     "metadata": {},
     "output_type": "execute_result"
    }
   ],
   "source": [
    "document = {\n",
    "    \"image_data\": image_base64\n",
    "}\n",
    "response = es.index(index='binary_index', body=document)\n",
    "response"
   ]
  },
  {
   "cell_type": "markdown",
   "id": "ad2af383-e0d1-4516-91c2-c3ada0db6d0e",
   "metadata": {},
   "source": [
    "teraz stworzyliśmy dokument w którym jest ten nasz obraz zapisany"
   ]
  },
  {
   "cell_type": "code",
   "execution_count": 37,
   "id": "e42b80b3-c283-497f-bcf9-0918267778aa",
   "metadata": {},
   "outputs": [
    {
     "data": {
      "text/plain": [
       "'created'"
      ]
     },
     "execution_count": 37,
     "metadata": {},
     "output_type": "execute_result"
    }
   ],
   "source": [
    "response['result']\n",
    "# czyli jest ok"
   ]
  },
  {
   "cell_type": "markdown",
   "id": "dbdf67d3-83c5-4bf7-a8ce-2f0265bfb6f6",
   "metadata": {},
   "source": [
    "### Others"
   ]
  },
  {
   "cell_type": "code",
   "execution_count": 38,
   "id": "b8a8c48b-8091-4205-99fd-2991b759aeea",
   "metadata": {},
   "outputs": [
    {
     "data": {
      "text/plain": [
       "ObjectApiResponse({'acknowledged': True, 'shards_acknowledged': True, 'index': 'other_common_data_types_index'})"
      ]
     },
     "execution_count": 38,
     "metadata": {},
     "output_type": "execute_result"
    }
   ],
   "source": [
    "es.indices.delete(index='other_common_data_types_index', ignore_unavailable=True)\n",
    "es.indices.create(\n",
    "    index='other_common_data_types_index',\n",
    "    mappings={\n",
    "        \"properties\": {\n",
    "            \"book_reference\": {\n",
    "                \"type\": \"keyword\"\n",
    "            },\n",
    "            \"price\": {\n",
    "                \"type\": \"float\"\n",
    "            },\n",
    "            \"publish_data\": {\n",
    "                \"type\": \"date\"\n",
    "            },\n",
    "            \"is_available\": {\n",
    "                \"type\": \"boolean\"\n",
    "            },\n",
    "        }\n",
    "    }\n",
    ")"
   ]
  },
  {
   "cell_type": "markdown",
   "id": "8b3d2d2c-e0c5-4b05-83a3-56e8fc89e64e",
   "metadata": {},
   "source": [
    "stworzyliśmy index dla tych różnych fikuśnych typów danych, teraz pora na dokument"
   ]
  },
  {
   "cell_type": "code",
   "execution_count": 40,
   "id": "74e959d4-b3c5-4642-8d7d-fbdc0f3e78b4",
   "metadata": {},
   "outputs": [
    {
     "data": {
      "text/plain": [
       "ObjectApiResponse({'_index': 'other_common_data_types_index', '_id': 'Yzll-pQBLPyNZVTBJl14', '_version': 1, 'result': 'created', '_shards': {'total': 2, 'successful': 1, 'failed': 0}, '_seq_no': 0, '_primary_term': 1})"
      ]
     },
     "execution_count": 40,
     "metadata": {},
     "output_type": "execute_result"
    }
   ],
   "source": [
    "document = {\n",
    "    \"book_reference\": \"978-1234567\",\n",
    "    \"price\": 47.99,\n",
    "    \"publish_data\": \"2025-02-12\",\n",
    "    \"is_available\": True\n",
    "}\n",
    "response = es.index(index='other_common_data_types_index', body=document)\n",
    "response"
   ]
  },
  {
   "cell_type": "markdown",
   "id": "56b8b7b1-57db-4cae-b7d6-66f4f65b2c82",
   "metadata": {},
   "source": [
    "### Object"
   ]
  },
  {
   "cell_type": "code",
   "execution_count": 41,
   "id": "ece39241-17a8-4d48-8af9-a316db93cc1e",
   "metadata": {},
   "outputs": [
    {
     "data": {
      "text/plain": [
       "ObjectApiResponse({'acknowledged': True, 'shards_acknowledged': True, 'index': 'object_index'})"
      ]
     },
     "execution_count": 41,
     "metadata": {},
     "output_type": "execute_result"
    }
   ],
   "source": [
    "es.indices.delete(index='object_index', ignore_unavailable=True)\n",
    "es.indices.create(\n",
    "    index='object_index',\n",
    "    mappings={\n",
    "        \"properties\": {\n",
    "            \"author\": {\n",
    "                \"properties\": {\n",
    "                    \"first_name\": {\n",
    "                        \"type\": \"text\"\n",
    "                    },\n",
    "                    \"last_name\": {\n",
    "                        \"type\": \"text\"\n",
    "                    }\n",
    "                }\n",
    "            }\n",
    "        }\n",
    "    }\n",
    ")"
   ]
  },
  {
   "cell_type": "code",
   "execution_count": 43,
   "id": "e1ade9c4-268c-4778-b63e-710480ba5a64",
   "metadata": {},
   "outputs": [
    {
     "data": {
      "text/plain": [
       "ObjectApiResponse({'_index': 'object_index', '_id': 'ZDmp-pQBLPyNZVTBD12P', '_version': 1, 'result': 'created', '_shards': {'total': 2, 'successful': 1, 'failed': 0}, '_seq_no': 0, '_primary_term': 1})"
      ]
     },
     "execution_count": 43,
     "metadata": {},
     "output_type": "execute_result"
    }
   ],
   "source": [
    "document = {\n",
    "    \"author\": {\n",
    "        \"first_name\": \"John\",\n",
    "        \"last_name\": \"Doe\"\n",
    "    }\n",
    "}\n",
    "response = es.index(index=\"object_index\", body=document)\n",
    "response"
   ]
  },
  {
   "cell_type": "markdown",
   "id": "c506b571-d31f-4844-b20c-61440941d203",
   "metadata": {},
   "source": [
    "### Flattened object"
   ]
  },
  {
   "cell_type": "code",
   "execution_count": 44,
   "id": "6ffb9071-34e4-4984-84dc-fc02c48ba9c0",
   "metadata": {},
   "outputs": [
    {
     "data": {
      "text/plain": [
       "ObjectApiResponse({'acknowledged': True, 'shards_acknowledged': True, 'index': 'flattened_object_index'})"
      ]
     },
     "execution_count": 44,
     "metadata": {},
     "output_type": "execute_result"
    }
   ],
   "source": [
    "es.indices.delete(index='flattened_object_index', ignore_unavailable=True)\n",
    "es.indices.create(\n",
    "    index='flattened_object_index',\n",
    "    mappings={\n",
    "        \"properties\": {\n",
    "            \"author\": {\n",
    "                \"type\": \"flattened\"\n",
    "            }\n",
    "        }\n",
    "    }\n",
    ")"
   ]
  },
  {
   "cell_type": "code",
   "execution_count": 46,
   "id": "7750d769-ef35-4d52-b305-cba0e713c2fd",
   "metadata": {},
   "outputs": [
    {
     "data": {
      "text/plain": [
       "ObjectApiResponse({'_index': 'flattened_object_index', '_id': 'ZTmr-pQBLPyNZVTBfl2j', '_version': 1, 'result': 'created', '_shards': {'total': 2, 'successful': 1, 'failed': 0}, '_seq_no': 0, '_primary_term': 1})"
      ]
     },
     "execution_count": 46,
     "metadata": {},
     "output_type": "execute_result"
    }
   ],
   "source": [
    "document = {\n",
    "    \"author\": {\n",
    "        \"first_name\": \"John\",\n",
    "        \"last_name\": \"Doe\"\n",
    "    }\n",
    "}\n",
    "response = es.index(index=\"flattened_object_index\", body=document)\n",
    "response"
   ]
  },
  {
   "cell_type": "markdown",
   "id": "75acbc7a-f95b-4292-85c4-2d530f78bb9b",
   "metadata": {},
   "source": [
    "### Nested object"
   ]
  },
  {
   "cell_type": "code",
   "execution_count": 47,
   "id": "746351c2-59eb-4da9-b3dc-007e1e3f8305",
   "metadata": {},
   "outputs": [
    {
     "data": {
      "text/plain": [
       "ObjectApiResponse({'acknowledged': True, 'shards_acknowledged': True, 'index': 'nested_object_index'})"
      ]
     },
     "execution_count": 47,
     "metadata": {},
     "output_type": "execute_result"
    }
   ],
   "source": [
    "es.indices.delete(index=\"nested_object_index\", ignore_unavailable=True)\n",
    "es.indices.create(\n",
    "    index=\"nested_object_index\",\n",
    "    mappings={\n",
    "        \"properties\": {\n",
    "            \"user\": {\n",
    "                \"type\": \"nested\",\n",
    "            }\n",
    "        }\n",
    "    }\n",
    ")"
   ]
  },
  {
   "cell_type": "code",
   "execution_count": 49,
   "id": "7a64d911-4f90-433d-bb30-b562599b0e17",
   "metadata": {},
   "outputs": [
    {
     "data": {
      "text/plain": [
       "ObjectApiResponse({'_index': 'nested_object_index', '_id': 'Zzmv-pQBLPyNZVTB-116', '_version': 1, 'result': 'created', '_shards': {'total': 2, 'successful': 1, 'failed': 0}, '_seq_no': 1, '_primary_term': 1})"
      ]
     },
     "execution_count": 49,
     "metadata": {},
     "output_type": "execute_result"
    }
   ],
   "source": [
    "documents = [\n",
    "    {\n",
    "        \"first\": \"John\",\n",
    "        \"last\": \"Doe\"\n",
    "    },\n",
    "    {\n",
    "        \"first\": \"John\",\n",
    "        \"last\": \"Doe\"\n",
    "    }\n",
    "]\n",
    "response = es.index(index=\"nested_object_index\", body={\"user\": documents})\n",
    "response"
   ]
  },
  {
   "cell_type": "markdown",
   "id": "14a64a03-39b7-4e01-8703-b21b5e410937",
   "metadata": {},
   "source": [
    "**poczytac o tym!!!!**"
   ]
  },
  {
   "cell_type": "markdown",
   "id": "5ff4c4d1-2a3b-4c8f-905c-da772d17c672",
   "metadata": {},
   "source": [
    "## Text data types\n",
    "### Text"
   ]
  },
  {
   "cell_type": "code",
   "execution_count": 53,
   "id": "49f4bb5c-42cf-4fbc-a5dd-7468a81cd9d6",
   "metadata": {},
   "outputs": [
    {
     "data": {
      "text/plain": [
       "ObjectApiResponse({'acknowledged': True, 'shards_acknowledged': True, 'index': 'text_index'})"
      ]
     },
     "execution_count": 53,
     "metadata": {},
     "output_type": "execute_result"
    }
   ],
   "source": [
    "es.indices.delete(index='text_index', ignore_unavailable=True)\n",
    "es.indices.create(\n",
    "    index='text_index', \n",
    "    mappings={\n",
    "        \"properties\": {\n",
    "            \"email_body\": {\n",
    "                \"type\": \"text\"\n",
    "            }\n",
    "        }\n",
    "    }\n",
    ")"
   ]
  },
  {
   "cell_type": "code",
   "execution_count": 54,
   "id": "30a77851-66fc-4fcf-8bc9-f2d0849a3047",
   "metadata": {},
   "outputs": [
    {
     "data": {
      "text/plain": [
       "ObjectApiResponse({'_index': 'text_index', '_id': 'aDkF-5QBLPyNZVTBCl2I', '_version': 1, 'result': 'created', '_shards': {'total': 2, 'successful': 1, 'failed': 0}, '_seq_no': 0, '_primary_term': 1})"
      ]
     },
     "execution_count": 54,
     "metadata": {},
     "output_type": "execute_result"
    }
   ],
   "source": [
    "document = {\n",
    "    \"email_body\": \"Hello, this is a test email.\"\n",
    "}\n",
    "response = es.index(index=\"text_index\", body=document)\n",
    "response"
   ]
  },
  {
   "cell_type": "markdown",
   "id": "6bc136ad-08d7-47af-8bdd-cbf2023c4938",
   "metadata": {},
   "source": [
    "### Completion\n",
    "To robi nam sugestię do wypełnienia całego dokumentu:"
   ]
  },
  {
   "cell_type": "code",
   "execution_count": 56,
   "id": "f6c49a3e-6caf-455a-8eef-0f80c03f8af3",
   "metadata": {},
   "outputs": [
    {
     "data": {
      "text/plain": [
       "ObjectApiResponse({'acknowledged': True, 'shards_acknowledged': True, 'index': 'text_completion_index'})"
      ]
     },
     "execution_count": 56,
     "metadata": {},
     "output_type": "execute_result"
    }
   ],
   "source": [
    "es.indices.delete(index=\"text_completion_index\", ignore_unavailable=True)\n",
    "es.indices.create(\n",
    "    index=\"text_completion_index\",\n",
    "    mappings={\n",
    "        \"properties\": {\n",
    "            \"suggest\": {\n",
    "                \"type\": \"completion\"\n",
    "            }\n",
    "        }\n",
    "    }\n",
    ")"
   ]
  },
  {
   "cell_type": "code",
   "execution_count": 58,
   "id": "e4a90548-4139-4a18-815e-2d352d6b36f3",
   "metadata": {},
   "outputs": [
    {
     "data": {
      "text/plain": [
       "ObjectApiResponse({'_index': 'text_completion_index', '_id': 'ajkI-5QBLPyNZVTBR13B', '_version': 1, 'result': 'created', '_shards': {'total': 2, 'successful': 1, 'failed': 0}, '_seq_no': 1, '_primary_term': 1})"
      ]
     },
     "execution_count": 58,
     "metadata": {},
     "output_type": "execute_result"
    }
   ],
   "source": [
    "document_1 = {\n",
    "    \"suggest\": {\n",
    "        \"input\": [\"Mars\", \"Planet\"]\n",
    "    }\n",
    "}\n",
    "\n",
    "document_2 = {\n",
    "    \"suggest\": {\n",
    "        \"input\": [\"Andromeda\", \"Galaxy\"]\n",
    "    }\n",
    "}\n",
    "es.index(index=\"text_completion_index\", body=document_1)\n",
    "es.index(index=\"text_completion_index\", body=document_2)"
   ]
  },
  {
   "cell_type": "code",
   "execution_count": 61,
   "id": "a487a5eb-67d4-4d3b-b795-26fb969ecda6",
   "metadata": {},
   "outputs": [
    {
     "data": {
      "text/plain": [
       "'/home/olekh'"
      ]
     },
     "execution_count": 61,
     "metadata": {},
     "output_type": "execute_result"
    }
   ],
   "source": [
    "import os\n",
    "os.getcwd()"
   ]
  },
  {
   "cell_type": "markdown",
   "id": "1746e8b1-4dc5-496f-ab7b-38c7779a6c87",
   "metadata": {},
   "source": [
    "### Delete documents"
   ]
  },
  {
   "cell_type": "markdown",
   "id": "e621568e-f98f-47db-b931-f4cf9ebcd8d5",
   "metadata": {},
   "source": [
    "najpierw musimy sobie dodać jakieś dokumenty do usunięcia"
   ]
  },
  {
   "cell_type": "code",
   "execution_count": 70,
   "id": "87ff5682-8817-4635-8b91-c89b489d2791",
   "metadata": {},
   "outputs": [
    {
     "data": {
      "text/plain": [
       "ObjectApiResponse({'acknowledged': True, 'shards_acknowledged': True, 'index': 'my_index'})"
      ]
     },
     "execution_count": 70,
     "metadata": {},
     "output_type": "execute_result"
    }
   ],
   "source": [
    "es.indices.delete(index='my_index', ignore_unavailable=True)\n",
    "es.indices.create(index='my_index')"
   ]
  },
  {
   "cell_type": "code",
   "execution_count": 71,
   "id": "de21d45e-171f-48bd-83bd-92ca788d7033",
   "metadata": {},
   "outputs": [],
   "source": [
    "document_ids = []\n",
    "dummy_data = json.load(open('dummy_data.json'))\n",
    "for document in dummy_data:\n",
    "    response = es.index(index='my_index', body=document)\n",
    "    document_ids.append(response['_id'])"
   ]
  },
  {
   "cell_type": "code",
   "execution_count": 72,
   "id": "a2caec4f-bb3e-415b-b047-a127380da889",
   "metadata": {},
   "outputs": [
    {
     "data": {
      "text/plain": [
       "['bjkj-5QBLPyNZVTBoV21', 'bzkj-5QBLPyNZVTBol1I', 'cDkj-5QBLPyNZVTBol1W']"
      ]
     },
     "execution_count": 72,
     "metadata": {},
     "output_type": "execute_result"
    }
   ],
   "source": [
    "document_ids"
   ]
  },
  {
   "cell_type": "code",
   "execution_count": 73,
   "id": "91b948fc-6367-45e8-b2da-03dc6c31ea14",
   "metadata": {},
   "outputs": [],
   "source": [
    "response = es.delete(index='my_index', id=document_ids[0])"
   ]
  },
  {
   "cell_type": "code",
   "execution_count": 74,
   "id": "43d3e539-8b96-47d4-a48b-059e662bd1e1",
   "metadata": {},
   "outputs": [
    {
     "name": "stdout",
     "output_type": "stream",
     "text": [
      "{'_id': 'bjkj-5QBLPyNZVTBoV21',\n",
      " '_index': 'my_index',\n",
      " '_primary_term': 1,\n",
      " '_seq_no': 3,\n",
      " '_shards': {'failed': 0, 'successful': 1, 'total': 2},\n",
      " '_version': 2,\n",
      " 'result': 'deleted'}\n"
     ]
    }
   ],
   "source": [
    "pprint(response.body)"
   ]
  },
  {
   "cell_type": "markdown",
   "id": "e8959267-9d9e-4e20-8f82-fb0dc405e0af",
   "metadata": {},
   "source": [
    "usunęliśmy dokument po id tak jak było trzeba i przy okazji zapisaliśmy go do zmiennej, więc jak ją wywołamy to pokaże, że jest usunieta <br>\n"
   ]
  },
  {
   "cell_type": "markdown",
   "id": "55fbed3c-b750-4ba4-b74a-5c9c9f2363ca",
   "metadata": {},
   "source": [
    "### Get document"
   ]
  },
  {
   "cell_type": "code",
   "execution_count": 76,
   "id": "4eaa749b-1ce3-4cfc-9eb3-f31618a1e478",
   "metadata": {},
   "outputs": [
    {
     "name": "stdout",
     "output_type": "stream",
     "text": [
      "{'_id': 'bzkj-5QBLPyNZVTBol1I',\n",
      " '_index': 'my_index',\n",
      " '_primary_term': 1,\n",
      " '_seq_no': 1,\n",
      " '_source': {'created_on': '2025-02-12',\n",
      "             'text': 'Here is another example of a document.',\n",
      "             'title': 'Sample Title 2'},\n",
      " '_version': 1,\n",
      " 'found': True}\n"
     ]
    }
   ],
   "source": [
    "response = es.get(index='my_index', id=document_ids[1])\n",
    "pprint(response.body)"
   ]
  },
  {
   "cell_type": "code",
   "execution_count": 80,
   "id": "1193af44-0cd1-458e-b3a3-958b5094c7e9",
   "metadata": {},
   "outputs": [
    {
     "name": "stdout",
     "output_type": "stream",
     "text": [
      "NotFoundError(404, \"{'_index': 'my_index', '_id': 'bjkj-5QBLPyNZVTBoV21', 'found': False}\")\n"
     ]
    }
   ],
   "source": [
    "try:\n",
    "    response = es.get(index='my_index', id=document_ids[0])\n",
    "    pprint(response.body)\n",
    "except Exception as e:\n",
    "    print(e)"
   ]
  },
  {
   "cell_type": "markdown",
   "id": "cd91cfac-6cda-408c-80db-31ad008f835d",
   "metadata": {},
   "source": [
    "Teraz wywaliło **error**, bo odwołaliśmy się do id, które już wcześniej usunęliśmy"
   ]
  },
  {
   "cell_type": "markdown",
   "id": "0af41348-701d-4214-a7da-d17eae22efc7",
   "metadata": {},
   "source": [
    "### Count documents\n",
    "\n",
    "stworze sobie to od nowa, zeby miec przejrzystosc"
   ]
  },
  {
   "cell_type": "code",
   "execution_count": 85,
   "id": "51450a2a-c70f-4ed7-8cab-5a1c22e620ba",
   "metadata": {},
   "outputs": [],
   "source": [
    "es.indices.delete(index='my_index', ignore_unavailable=True)\n",
    "es.indices.create(index='my_index')\n",
    "document_ids = []\n",
    "dummy_data = json.load(open('dummy_data.json'))\n",
    "for document in dummy_data:\n",
    "    response = es.index(index='my_index', body=document)\n",
    "    document_ids.append(response['_id'])"
   ]
  },
  {
   "cell_type": "code",
   "execution_count": 86,
   "id": "3a750120-546b-48e8-843a-62194accbd93",
   "metadata": {},
   "outputs": [
    {
     "name": "stdout",
     "output_type": "stream",
     "text": [
      "Number of documents is 0\n"
     ]
    }
   ],
   "source": [
    "response = es.count(index='my_index')\n",
    "count = response['count']\n",
    "print(f'Number of documents is {count}')"
   ]
  },
  {
   "cell_type": "markdown",
   "id": "972aada7-c80f-4fef-8255-1aa2f67cad01",
   "metadata": {},
   "source": [
    "Możemy sobie wykonać takie proste zapytanie"
   ]
  },
  {
   "cell_type": "code",
   "execution_count": 92,
   "id": "32bcb950-2a35-4a61-b914-8759d2c2471f",
   "metadata": {},
   "outputs": [
    {
     "name": "stdout",
     "output_type": "stream",
     "text": [
      "There is 1 document matching the query\n"
     ]
    }
   ],
   "source": [
    "query = {\n",
    "    \"range\": {\n",
    "        \"created_on\": {\n",
    "            \"gte\": \"2025-02-13\",\n",
    "            \"lte\": \"2025-02-13\",\n",
    "            \"format\": \"yyyy-MM-dd\"\n",
    "        }\n",
    "    }\n",
    "}\n",
    "response = es.count(index='my_index', query=query)\n",
    "count = response['count']\n",
    "print(f'There is {count} document matching the query')"
   ]
  },
  {
   "cell_type": "markdown",
   "id": "65339c79-951e-4e6f-ad1f-e62f27fb5733",
   "metadata": {},
   "source": [
    "## The exists API\n",
    "\n",
    "czy indeks istnieje"
   ]
  },
  {
   "cell_type": "code",
   "execution_count": 94,
   "id": "68855756-5001-484c-b71c-942f4c4a1c08",
   "metadata": {},
   "outputs": [
    {
     "data": {
      "text/plain": [
       "True"
      ]
     },
     "execution_count": 94,
     "metadata": {},
     "output_type": "execute_result"
    }
   ],
   "source": [
    "response = es.indices.exists(index='my_index')\n",
    "response.body"
   ]
  },
  {
   "cell_type": "markdown",
   "id": "c54bfe6a-b852-4d87-ae98-3512aaea199a",
   "metadata": {},
   "source": [
    "czy dokument istnieje"
   ]
  },
  {
   "cell_type": "code",
   "execution_count": 95,
   "id": "1435a307-9ed9-4309-a297-ad778afecc05",
   "metadata": {},
   "outputs": [
    {
     "data": {
      "text/plain": [
       "True"
      ]
     },
     "execution_count": 95,
     "metadata": {},
     "output_type": "execute_result"
    }
   ],
   "source": [
    "response = es.exists(index='my_index', id=document_ids[0])\n",
    "response.body"
   ]
  },
  {
   "cell_type": "markdown",
   "id": "37e5054b-4dc9-4e0c-9f7c-d96356cae57b",
   "metadata": {},
   "source": [
    "### Update document\n",
    "\n",
    "będziemy działać na tym samym pliku\n",
    "\n",
    "Najpierw jeśli dokument już jest w indeksie"
   ]
  },
  {
   "cell_type": "code",
   "execution_count": 96,
   "id": "953b4baf-86b7-4af4-8cc0-edd9a7c35013",
   "metadata": {},
   "outputs": [
    {
     "name": "stdout",
     "output_type": "stream",
     "text": [
      "{'_id': 'dDkv-5QBLPyNZVTBrF0B',\n",
      " '_index': 'my_index',\n",
      " '_primary_term': 1,\n",
      " '_seq_no': 3,\n",
      " '_shards': {'failed': 0, 'successful': 1, 'total': 2},\n",
      " '_version': 2,\n",
      " 'result': 'updated'}\n"
     ]
    }
   ],
   "source": [
    "response = es.update(\n",
    "    index='my_index',\n",
    "    id=document_ids[0],\n",
    "    script={\n",
    "        \"source\": \"ctx._source.title = params.title\", # tego chyba sie uzywa, zeby sie dostac do dokumentu? mw\n",
    "        \"params\": {\n",
    "            \"title\": \"New Title\"\n",
    "        }\n",
    "    },\n",
    ")\n",
    "pprint(response.body)"
   ]
  },
  {
   "cell_type": "code",
   "execution_count": 98,
   "id": "a0892167-096f-447b-b52e-b08585eb74ba",
   "metadata": {},
   "outputs": [
    {
     "name": "stdout",
     "output_type": "stream",
     "text": [
      "{'_id': 'dDkv-5QBLPyNZVTBrF0B',\n",
      " '_index': 'my_index',\n",
      " '_primary_term': 1,\n",
      " '_seq_no': 3,\n",
      " '_source': {'created_on': '2025-02-12',\n",
      "             'text': 'This is the first sample document text.',\n",
      "             'title': 'New Title'},\n",
      " '_version': 2,\n",
      " 'found': True}\n"
     ]
    }
   ],
   "source": [
    "response = es.get(index='my_index', id=document_ids[0])\n",
    "pprint(response.body)"
   ]
  },
  {
   "cell_type": "markdown",
   "id": "83dfbf07-d107-4e47-a114-f9429b39f8ce",
   "metadata": {},
   "source": [
    "Teraz możemy też dodać nowe pole, które jeszcze nie istnieje w dokumencie"
   ]
  },
  {
   "cell_type": "code",
   "execution_count": 99,
   "id": "88e5ffed-a605-429b-925a-ae30638a7c67",
   "metadata": {},
   "outputs": [
    {
     "name": "stdout",
     "output_type": "stream",
     "text": [
      "{'_id': 'dDkv-5QBLPyNZVTBrF0B',\n",
      " '_index': 'my_index',\n",
      " '_primary_term': 1,\n",
      " '_seq_no': 4,\n",
      " '_shards': {'failed': 0, 'successful': 1, 'total': 2},\n",
      " '_version': 3,\n",
      " 'result': 'updated'}\n"
     ]
    }
   ],
   "source": [
    "response = es.update(\n",
    "    index='my_index',\n",
    "    id=document_ids[0],\n",
    "    script={\n",
    "        \"source\": \"ctx._source.new_field = 'dummy_value'\",\n",
    "    },\n",
    ")\n",
    "pprint(response.body)"
   ]
  },
  {
   "cell_type": "code",
   "execution_count": 100,
   "id": "40d3f3ed-587a-4675-80e5-ab95202fec9e",
   "metadata": {},
   "outputs": [
    {
     "name": "stdout",
     "output_type": "stream",
     "text": [
      "{'_id': 'dDkv-5QBLPyNZVTBrF0B',\n",
      " '_index': 'my_index',\n",
      " '_primary_term': 1,\n",
      " '_seq_no': 4,\n",
      " '_source': {'created_on': '2025-02-12',\n",
      "             'new_field': 'dummy_value',\n",
      "             'text': 'This is the first sample document text.',\n",
      "             'title': 'New Title'},\n",
      " '_version': 3,\n",
      " 'found': True}\n"
     ]
    }
   ],
   "source": [
    "response = es.get(index='my_index', id=document_ids[0])\n",
    "pprint(response.body)"
   ]
  },
  {
   "cell_type": "markdown",
   "id": "d9413cb2-5dfb-428f-9cf6-6907b0ae8393",
   "metadata": {},
   "source": [
    "Jest też druga metoda na to samo"
   ]
  },
  {
   "cell_type": "code",
   "execution_count": 101,
   "id": "bf730daa-99a5-4bf6-aac0-78121f159188",
   "metadata": {},
   "outputs": [
    {
     "name": "stdout",
     "output_type": "stream",
     "text": [
      "{'_id': 'dDkv-5QBLPyNZVTBrF0B',\n",
      " '_index': 'my_index',\n",
      " '_primary_term': 1,\n",
      " '_seq_no': 5,\n",
      " '_shards': {'failed': 0, 'successful': 1, 'total': 2},\n",
      " '_version': 4,\n",
      " 'result': 'updated'}\n"
     ]
    }
   ],
   "source": [
    "response = es.update(\n",
    "    index='my_index',\n",
    "    id=document_ids[0],\n",
    "    doc={\n",
    "        \"new_value_2\": \"dummy_value_2\",\n",
    "    },\n",
    ")\n",
    "pprint(response.body)"
   ]
  },
  {
   "cell_type": "code",
   "execution_count": 102,
   "id": "8ee9fed3-3b66-4f44-aaa3-fa56613ecb3e",
   "metadata": {},
   "outputs": [
    {
     "name": "stdout",
     "output_type": "stream",
     "text": [
      "{'_id': 'dDkv-5QBLPyNZVTBrF0B',\n",
      " '_index': 'my_index',\n",
      " '_primary_term': 1,\n",
      " '_seq_no': 5,\n",
      " '_source': {'created_on': '2025-02-12',\n",
      "             'new_field': 'dummy_value',\n",
      "             'new_value_2': 'dummy_value_2',\n",
      "             'text': 'This is the first sample document text.',\n",
      "             'title': 'New Title'},\n",
      " '_version': 4,\n",
      " 'found': True}\n"
     ]
    }
   ],
   "source": [
    "response = es.get(index='my_index', id=document_ids[0])\n",
    "pprint(response.body)"
   ]
  },
  {
   "cell_type": "markdown",
   "id": "e6b564a8-0390-4d83-85c9-eeaf13d48a27",
   "metadata": {},
   "source": [
    "teraz mozemy usunac pole"
   ]
  },
  {
   "cell_type": "code",
   "execution_count": 103,
   "id": "8ea4db00-7cf6-45d8-8896-585ec3450608",
   "metadata": {},
   "outputs": [
    {
     "name": "stdout",
     "output_type": "stream",
     "text": [
      "{'_id': 'dDkv-5QBLPyNZVTBrF0B',\n",
      " '_index': 'my_index',\n",
      " '_primary_term': 1,\n",
      " '_seq_no': 6,\n",
      " '_shards': {'failed': 0, 'successful': 1, 'total': 2},\n",
      " '_version': 5,\n",
      " 'result': 'updated'}\n"
     ]
    }
   ],
   "source": [
    "response = es.update(\n",
    "    index='my_index',\n",
    "    id=document_ids[0],\n",
    "    script={\n",
    "        \"source\": \"ctx._source.remove('new_field')\",\n",
    "    },\n",
    ")\n",
    "pprint(response.body)"
   ]
  },
  {
   "cell_type": "code",
   "execution_count": 104,
   "id": "6dc1510c-5891-4147-8497-c95db29644a1",
   "metadata": {},
   "outputs": [
    {
     "name": "stdout",
     "output_type": "stream",
     "text": [
      "{'_id': 'dDkv-5QBLPyNZVTBrF0B',\n",
      " '_index': 'my_index',\n",
      " '_primary_term': 1,\n",
      " '_seq_no': 6,\n",
      " '_source': {'created_on': '2025-02-12',\n",
      "             'new_value_2': 'dummy_value_2',\n",
      "             'text': 'This is the first sample document text.',\n",
      "             'title': 'New Title'},\n",
      " '_version': 5,\n",
      " 'found': True}\n"
     ]
    }
   ],
   "source": [
    "response = es.get(index='my_index', id=document_ids[0])\n",
    "pprint(response.body)"
   ]
  },
  {
   "cell_type": "markdown",
   "id": "e7d5f912-1e4a-4979-baf9-49ce71356d65",
   "metadata": {},
   "source": [
    "Teraz dokument, który nie istnieje jeszcze w indeksie"
   ]
  },
  {
   "cell_type": "code",
   "execution_count": 105,
   "id": "1379764b-964e-44fe-9246-7bfa934afb0e",
   "metadata": {},
   "outputs": [
    {
     "name": "stdout",
     "output_type": "stream",
     "text": [
      "{'_id': '1',\n",
      " '_index': 'my_index',\n",
      " '_primary_term': 1,\n",
      " '_seq_no': 7,\n",
      " '_shards': {'failed': 0, 'successful': 1, 'total': 2},\n",
      " '_version': 1,\n",
      " 'result': 'created'}\n"
     ]
    }
   ],
   "source": [
    "response = es.update(\n",
    "    index='my_index',\n",
    "    id=\"1\",\n",
    "    doc={\n",
    "        \"book_id\": 1234,\n",
    "        \"book_name\": \"A book\",\n",
    "    },\n",
    "    doc_as_upsert=True\n",
    ")\n",
    "pprint(response.body)"
   ]
  },
  {
   "cell_type": "code",
   "execution_count": 107,
   "id": "88c73d23-7e7b-4b57-9543-f709c6d84249",
   "metadata": {},
   "outputs": [
    {
     "name": "stdout",
     "output_type": "stream",
     "text": [
      "4\n"
     ]
    }
   ],
   "source": [
    "response = es.count(index=\"my_index\")\n",
    "pprint(response['count'])"
   ]
  },
  {
   "cell_type": "markdown",
   "id": "2f48df2a-24b6-479a-af2b-c9f1314ac17c",
   "metadata": {},
   "source": [
    "### Bulk API\n",
    "\n",
    "Usuniemy index, żeby stworzyć go od nowa, już za pomoca Bulk API"
   ]
  },
  {
   "cell_type": "code",
   "execution_count": 109,
   "id": "b8034588-7926-49df-b823-b4bb7e42ff3a",
   "metadata": {},
   "outputs": [
    {
     "data": {
      "text/plain": [
       "ObjectApiResponse({'acknowledged': True, 'shards_acknowledged': True, 'index': 'my_index'})"
      ]
     },
     "execution_count": 109,
     "metadata": {},
     "output_type": "execute_result"
    }
   ],
   "source": [
    "es.indices.delete(index='my_index', ignore_unavailable=True)\n",
    "es.indices.create(index='my_index')"
   ]
  },
  {
   "cell_type": "markdown",
   "id": "0d9b4836-1c08-4480-9c30-3a942456a339",
   "metadata": {},
   "source": [
    "Teraz z użyciem takiego spaghetti code, tworzymy wszystko na raz w jednym zapytaniu? API"
   ]
  },
  {
   "cell_type": "code",
   "execution_count": 111,
   "id": "1d2db4e8-1b26-4d44-bcfa-7b9efbe956fc",
   "metadata": {},
   "outputs": [
    {
     "name": "stdout",
     "output_type": "stream",
     "text": [
      "{'errors': False,\n",
      " 'items': [{'index': {'_id': '1',\n",
      "                      '_index': 'my_index',\n",
      "                      '_primary_term': 1,\n",
      "                      '_seq_no': 6,\n",
      "                      '_shards': {'failed': 0, 'successful': 1, 'total': 2},\n",
      "                      '_version': 3,\n",
      "                      'result': 'updated',\n",
      "                      'status': 200}},\n",
      "           {'index': {'_id': '2',\n",
      "                      '_index': 'my_index',\n",
      "                      '_primary_term': 1,\n",
      "                      '_seq_no': 7,\n",
      "                      '_shards': {'failed': 0, 'successful': 1, 'total': 2},\n",
      "                      '_version': 3,\n",
      "                      'result': 'updated',\n",
      "                      'status': 200}},\n",
      "           {'index': {'_id': '3',\n",
      "                      '_index': 'my_index',\n",
      "                      '_primary_term': 1,\n",
      "                      '_seq_no': 8,\n",
      "                      '_shards': {'failed': 0, 'successful': 1, 'total': 2},\n",
      "                      '_version': 1,\n",
      "                      'result': 'created',\n",
      "                      'status': 201}},\n",
      "           {'update': {'_id': '1',\n",
      "                       '_index': 'my_index',\n",
      "                       '_primary_term': 1,\n",
      "                       '_seq_no': 9,\n",
      "                       '_shards': {'failed': 0, 'successful': 1, 'total': 2},\n",
      "                       '_version': 4,\n",
      "                       'result': 'updated',\n",
      "                       'status': 200}},\n",
      "           {'update': {'_id': '2',\n",
      "                       '_index': 'my_index',\n",
      "                       '_primary_term': 1,\n",
      "                       '_seq_no': 10,\n",
      "                       '_shards': {'failed': 0, 'successful': 1, 'total': 2},\n",
      "                       '_version': 4,\n",
      "                       'result': 'updated',\n",
      "                       'status': 200}},\n",
      "           {'delete': {'_id': '3',\n",
      "                       '_index': 'my_index',\n",
      "                       '_primary_term': 1,\n",
      "                       '_seq_no': 11,\n",
      "                       '_shards': {'failed': 0, 'successful': 1, 'total': 2},\n",
      "                       '_version': 2,\n",
      "                       'result': 'deleted',\n",
      "                       'status': 200}}],\n",
      " 'took': 28235348}\n"
     ]
    }
   ],
   "source": [
    "response = es.bulk(\n",
    "    operations=[\n",
    "        # Action 1, tworzy dokument w indexie\n",
    "        {\n",
    "            \"index\": {\n",
    "                \"_index\": \"my_index\",\n",
    "                \"_id\": \"1\"\n",
    "            }\n",
    "        },\n",
    "        # Source 1, dodajemy mu source z wartościami\n",
    "        {\n",
    "            \"title\": \"Sample Title 1\",\n",
    "            \"text\": \"This is the first sample document text.\",\n",
    "            \"created_on\": \"2024-09-22\"\n",
    "        },\n",
    "        # Action 2, tworzy drugi dokument w indexie\n",
    "        {\n",
    "            \"index\": {\n",
    "                \"_index\": \"my_index\",\n",
    "                \"_id\": \"2\"\n",
    "            }\n",
    "        },\n",
    "        # Source 2, tu rownież z wartościami\n",
    "        {\n",
    "            \"title\": \"Sample Title 2\",\n",
    "            \"text\": \"Here is another example of a document.\",\n",
    "            \"created_on\": \"2024-09-24\"\n",
    "        },\n",
    "        # Action 3, tworzymy trzeci dokument w indexie\n",
    "        {\n",
    "            \"index\": {\n",
    "                \"_index\": \"my_index\",\n",
    "                \"_id\": \"3\"\n",
    "            }\n",
    "        },\n",
    "        # Source 3, także i tutaj z domyślnymi wartościami\n",
    "        {\n",
    "            \"title\": \"Sample Title 3\",\n",
    "            \"text\": \"The content of the third document goes here.\",\n",
    "            \"created_on\": \"2024-09-24\"\n",
    "        },\n",
    "        # Action 4, bedziemy update'ować pierwszy dokument\n",
    "        {\n",
    "            \"update\": {\n",
    "                \"_id\": \"1\",\n",
    "                \"_index\": \"my_index\"\n",
    "            }\n",
    "        },\n",
    "        # Source 4, podajemy co bedziemy modyfikowac\n",
    "        {\n",
    "            \"doc\": {\n",
    "                \"title\": \"New Title\"\n",
    "            }\n",
    "        },\n",
    "        # Action 5, modyfikujemy tez drugi dokument\n",
    "        {\n",
    "            \"update\": {\n",
    "                \"_id\": \"2\",\n",
    "                \"_index\": \"my_index\"\n",
    "            }\n",
    "        },\n",
    "        # Source 5, tworząc nowe pole\n",
    "        {\n",
    "            \"doc\": {\n",
    "                \"new_field\": \"dummy_value\"\n",
    "            }\n",
    "        },\n",
    "        # Action 6, teraz usuwamy trzeci dokument bez source jak wiadomo\n",
    "        {\n",
    "            \"delete\": {\n",
    "                \"_index\": \"my_index\",\n",
    "                \"_id\": \"3\"\n",
    "            }\n",
    "        },\n",
    "    ],\n",
    ")\n",
    "\n",
    "pprint(response.body)"
   ]
  },
  {
   "cell_type": "markdown",
   "id": "dc7c16b3-aeb5-4b9c-90e7-d200e87a762f",
   "metadata": {},
   "source": [
    "## The search API\n",
    "\n",
    "teraz też trzeba od nowa dane wrzucić do lepszej pracy\n",
    "\n",
    "tworzymy 2 indeksy "
   ]
  },
  {
   "cell_type": "code",
   "execution_count": 3,
   "id": "3fdcc273-bc75-44f4-970c-4f3b6babeaea",
   "metadata": {},
   "outputs": [
    {
     "data": {
      "text/plain": [
       "ObjectApiResponse({'acknowledged': True, 'shards_acknowledged': True, 'index': 'index_2'})"
      ]
     },
     "execution_count": 3,
     "metadata": {},
     "output_type": "execute_result"
    }
   ],
   "source": [
    "es.indices.delete(index='index_1', ignore_unavailable=True)\n",
    "es.indices.create(index='index_1')\n",
    "\n",
    "es.indices.delete(index='index_2', ignore_unavailable=True)\n",
    "es.indices.create(index='index_2')"
   ]
  },
  {
   "cell_type": "code",
   "execution_count": 11,
   "id": "117a4bf0-1431-4993-87c0-6fff4df9c831",
   "metadata": {},
   "outputs": [],
   "source": [
    "import json\n",
    "\n",
    "dummy_data = json.load(open('dummy_data.json'))\n",
    "for document in dummy_data:\n",
    "    response = es.index(index='index_1', body=document)\n",
    "\n",
    "for document in dummy_data:\n",
    "    response = es.index(index='index_2', body=document)"
   ]
  },
  {
   "cell_type": "markdown",
   "id": "eaaf7808-738f-467e-baa1-62ec369fd1ae",
   "metadata": {},
   "source": [
    "Teraz wyszukamy wszystkie dokumenty w jednym indeksie"
   ]
  },
  {
   "cell_type": "code",
   "execution_count": 6,
   "id": "faf2e6ef-64d0-477f-a9f5-1b46d531a671",
   "metadata": {},
   "outputs": [
    {
     "name": "stdout",
     "output_type": "stream",
     "text": [
      "Found 3 documents in index_1\n"
     ]
    }
   ],
   "source": [
    "response = es.search(\n",
    "    index='index_1',\n",
    "    body={\n",
    "        \"query\": {\"match_all\": {}}\n",
    "    }\n",
    ")\n",
    "\n",
    "n_hits = response['hits']['total']['value']\n",
    "print(f'Found {n_hits} documents in index_1')"
   ]
  },
  {
   "cell_type": "code",
   "execution_count": 7,
   "id": "c27bc412-8290-44ad-b521-bbd9a7f015f5",
   "metadata": {},
   "outputs": [
    {
     "name": "stdout",
     "output_type": "stream",
     "text": [
      "{'_shards': {'failed': 0, 'skipped': 0, 'successful': 1, 'total': 1},\n",
      " 'hits': {'hits': [{'_id': '5DLE_pQBbTrnRG9OdLcf',\n",
      "                    '_index': 'index_1',\n",
      "                    '_score': 1.0,\n",
      "                    '_source': {'created_on': '2025-02-12',\n",
      "                                'text': 'This is the first sample document '\n",
      "                                        'text.',\n",
      "                                'title': 'Sample Title 1'}},\n",
      "                   {'_id': '5TLE_pQBbTrnRG9OdLe5',\n",
      "                    '_index': 'index_1',\n",
      "                    '_score': 1.0,\n",
      "                    '_source': {'created_on': '2025-02-13',\n",
      "                                'text': 'Here is another example of a '\n",
      "                                        'document.',\n",
      "                                'title': 'Sample Title 2'}},\n",
      "                   {'_id': '5jLE_pQBbTrnRG9OdLfH',\n",
      "                    '_index': 'index_1',\n",
      "                    '_score': 1.0,\n",
      "                    '_source': {'created_on': '2025-02-14',\n",
      "                                'text': 'The content of the third document '\n",
      "                                        'goes here.',\n",
      "                                'title': 'Sample Title 3'}}],\n",
      "          'max_score': 1.0,\n",
      "          'total': {'relation': 'eq', 'value': 3}},\n",
      " 'timed_out': False,\n",
      " 'took': 109}\n"
     ]
    }
   ],
   "source": [
    "pprint(response.body)\n",
    "# jak cos to tak wyglada cale response"
   ]
  },
  {
   "cell_type": "code",
   "execution_count": 8,
   "id": "a3c03b61-2acc-4f92-8daa-4a3393307fb5",
   "metadata": {},
   "outputs": [
    {
     "data": {
      "text/plain": [
       "{'total': {'value': 3, 'relation': 'eq'},\n",
       " 'max_score': 1.0,\n",
       " 'hits': [{'_index': 'index_1',\n",
       "   '_id': '5DLE_pQBbTrnRG9OdLcf',\n",
       "   '_score': 1.0,\n",
       "   '_source': {'title': 'Sample Title 1',\n",
       "    'text': 'This is the first sample document text.',\n",
       "    'created_on': '2025-02-12'}},\n",
       "  {'_index': 'index_1',\n",
       "   '_id': '5TLE_pQBbTrnRG9OdLe5',\n",
       "   '_score': 1.0,\n",
       "   '_source': {'title': 'Sample Title 2',\n",
       "    'text': 'Here is another example of a document.',\n",
       "    'created_on': '2025-02-13'}},\n",
       "  {'_index': 'index_1',\n",
       "   '_id': '5jLE_pQBbTrnRG9OdLfH',\n",
       "   '_score': 1.0,\n",
       "   '_source': {'title': 'Sample Title 3',\n",
       "    'text': 'The content of the third document goes here.',\n",
       "    'created_on': '2025-02-14'}}]}"
      ]
     },
     "execution_count": 8,
     "metadata": {},
     "output_type": "execute_result"
    }
   ],
   "source": [
    "response['hits']\n",
    "# czyli liczba dokumentów, które nasze query zwraca"
   ]
  },
  {
   "cell_type": "code",
   "execution_count": 9,
   "id": "7c62fe7a-56ef-4dcf-b291-acea95846d0a",
   "metadata": {},
   "outputs": [
    {
     "data": {
      "text/plain": [
       "{'title': 'Sample Title 1',\n",
       " 'text': 'This is the first sample document text.',\n",
       " 'created_on': '2025-02-12'}"
      ]
     },
     "execution_count": 9,
     "metadata": {},
     "output_type": "execute_result"
    }
   ],
   "source": [
    "response['hits']['hits'][0]['_source']\n",
    "# tak w bólach dostaliśmy się do pierwszego dokumentu jaki dostalismt"
   ]
  },
  {
   "cell_type": "markdown",
   "id": "11727b62-74e2-4076-8e3a-9e64516fb473",
   "metadata": {},
   "source": [
    "Teraz możemy wykonać to samo zapytanie, ale na dwóch indeksach"
   ]
  },
  {
   "cell_type": "code",
   "execution_count": 10,
   "id": "9d39970f-c332-4022-b0e4-1d1bbb849910",
   "metadata": {},
   "outputs": [
    {
     "name": "stdout",
     "output_type": "stream",
     "text": [
      "Found 6 documents in both indexes\n"
     ]
    }
   ],
   "source": [
    "response = es.search(\n",
    "    index='index_1,index_2', # moglismy tez uzyc index*, jak cos to spacji nie mozna dawac, bo ją czyta, albo _all żeby mieć wszystkie\n",
    "    body={\n",
    "        \"query\": {\"match_all\": {}}\n",
    "    }\n",
    ")\n",
    "\n",
    "n_hits = response['hits']['total']['value']\n",
    "print(f'Found {n_hits} documents in both indexes')"
   ]
  },
  {
   "cell_type": "markdown",
   "id": "67a918e4-6295-4f54-9f8c-f3a5c0cccbe0",
   "metadata": {},
   "source": [
    "### The search API 2"
   ]
  },
  {
   "cell_type": "code",
   "execution_count": 12,
   "id": "776e11c7-ded8-4d85-8b4d-a304a5da64af",
   "metadata": {},
   "outputs": [],
   "source": [
    "es.indices.delete(index='my_index', ignore_unavailable=True)\n",
    "es.indices.create(index='my_index')\n",
    "\n",
    "dummy_data = json.load(open('dummy_data.json'))\n",
    "for document in dummy_data:\n",
    "    response = es.index(index='my_index', body=document)"
   ]
  },
  {
   "cell_type": "code",
   "execution_count": 12,
   "id": "8531949b-c9aa-4d46-b5c4-c89112d5ce62",
   "metadata": {},
   "outputs": [
    {
     "name": "stdout",
     "output_type": "stream",
     "text": [
      "{'_id': '7DLZ_pQBbTrnRG9OuLdj',\n",
      " '_index': 'my_index',\n",
      " '_primary_term': 1,\n",
      " '_seq_no': 2,\n",
      " '_shards': {'failed': 0, 'successful': 1, 'total': 2},\n",
      " '_version': 1,\n",
      " 'result': 'created'}\n"
     ]
    }
   ],
   "source": [
    "pprint(response.body)"
   ]
  },
  {
   "cell_type": "markdown",
   "id": "99bb5462-40e3-4787-8cd1-d15e5d370574",
   "metadata": {},
   "source": [
    "Najpierw wyszukamy dokument, który został utworzony danego dnia"
   ]
  },
  {
   "cell_type": "code",
   "execution_count": 14,
   "id": "0436e2ef-2294-456b-9598-1d1a0d5b0d8a",
   "metadata": {},
   "outputs": [
    {
     "name": "stdout",
     "output_type": "stream",
     "text": [
      "Found 1 documents in my_index\n"
     ]
    }
   ],
   "source": [
    "response = es.search(\n",
    "    index='my_index',\n",
    "    body={\n",
    "        \"query\": {\n",
    "            \"term\": {\n",
    "                \"created_on\": \"2025-02-12\"\n",
    "            }\n",
    "        }\n",
    "    }\n",
    ")\n",
    "n_hits = response['hits']['total']['value']\n",
    "print(f'Found {n_hits} documents in my_index')"
   ]
  },
  {
   "cell_type": "code",
   "execution_count": 16,
   "id": "84180f08-efa5-4615-b1b6-876a263abbfe",
   "metadata": {},
   "outputs": [
    {
     "data": {
      "text/plain": [
       "[{'_index': 'my_index',\n",
       "  '_id': '6jLZ_pQBbTrnRG9Ot7ex',\n",
       "  '_score': 1.0,\n",
       "  '_source': {'title': 'Sample Title 1',\n",
       "   'text': 'This is the first sample document text.',\n",
       "   'created_on': '2025-02-12'}}]"
      ]
     },
     "execution_count": 16,
     "metadata": {},
     "output_type": "execute_result"
    }
   ],
   "source": [
    "response['hits']['hits'] \n",
    "# to jest tresc tego dokumentu"
   ]
  },
  {
   "cell_type": "markdown",
   "id": "009782fb-cda7-40c4-bc0a-f63f4c436788",
   "metadata": {},
   "source": [
    "Teraz wyszukamy dokumenty, które zawierają słowo document w sobie"
   ]
  },
  {
   "cell_type": "code",
   "execution_count": 23,
   "id": "b11fab63-3784-4d58-9b56-2d60fd53765b",
   "metadata": {},
   "outputs": [
    {
     "name": "stdout",
     "output_type": "stream",
     "text": [
      "Found 3 documents in my_index\n",
      "---------------------------\n",
      "[{'_id': '6jLZ_pQBbTrnRG9Ot7ex',\n",
      "  '_index': 'my_index',\n",
      "  '_score': 0.13606146,\n",
      "  '_source': {'created_on': '2025-02-12',\n",
      "              'text': 'This is the first sample document text.',\n",
      "              'title': 'Sample Title 1'}},\n",
      " {'_id': '6zLZ_pQBbTrnRG9OuLdE',\n",
      "  '_index': 'my_index',\n",
      "  '_score': 0.13606146,\n",
      "  '_source': {'created_on': '2025-02-13',\n",
      "              'text': 'Here is another example of a document.',\n",
      "              'title': 'Sample Title 2'}},\n",
      " {'_id': '7DLZ_pQBbTrnRG9OuLdj',\n",
      "  '_index': 'my_index',\n",
      "  '_score': 0.12874341,\n",
      "  '_source': {'created_on': '2025-02-14',\n",
      "              'text': 'The content of the third document goes here.',\n",
      "              'title': 'Sample Title 3'}}]\n"
     ]
    }
   ],
   "source": [
    "response = es.search(\n",
    "    index='my_index',\n",
    "    body={\n",
    "        \"query\": {\n",
    "            \"match\": {\n",
    "                \"text\": \"document\"\n",
    "            }\n",
    "        }\n",
    "    }\n",
    ")\n",
    "\n",
    "n_hits = response['hits']['total']['value']\n",
    "print(f'Found {n_hits} documents in my_index', end='\\n---------------------------\\n')\n",
    "pprint(response['hits']['hits'])"
   ]
  },
  {
   "cell_type": "markdown",
   "id": "d2ca52d4-b4bc-45d6-a6d4-a3696927e2cd",
   "metadata": {},
   "source": [
    "Teraz chcemy dostać dokumenty utworzone przed 14-02-25"
   ]
  },
  {
   "cell_type": "code",
   "execution_count": 26,
   "id": "ece80268-2283-457f-8dd9-f8019e4d6f2f",
   "metadata": {},
   "outputs": [
    {
     "name": "stdout",
     "output_type": "stream",
     "text": [
      "Found 2 documents in my_index\n",
      "---------------------------\n",
      "[{'_id': '6jLZ_pQBbTrnRG9Ot7ex',\n",
      "  '_index': 'my_index',\n",
      "  '_score': 1.0,\n",
      "  '_source': {'created_on': '2025-02-12',\n",
      "              'text': 'This is the first sample document text.',\n",
      "              'title': 'Sample Title 1'}},\n",
      " {'_id': '6zLZ_pQBbTrnRG9OuLdE',\n",
      "  '_index': 'my_index',\n",
      "  '_score': 1.0,\n",
      "  '_source': {'created_on': '2025-02-13',\n",
      "              'text': 'Here is another example of a document.',\n",
      "              'title': 'Sample Title 2'}}]\n"
     ]
    }
   ],
   "source": [
    "response = es.search(\n",
    "    index='my_index',\n",
    "    body={\n",
    "        \"query\": {\n",
    "            \"range\": {\n",
    "                \"created_on\": {\n",
    "                    \"lte\": \"2025-02-13\"\n",
    "            }\n",
    "        }\n",
    "    }\n",
    "    }\n",
    ")\n",
    "\n",
    "n_hits = response['hits']['total']['value']\n",
    "print(f'Found {n_hits} documents in my_index', end='\\n---------------------------\\n')\n",
    "pprint(response['hits']['hits'])"
   ]
  },
  {
   "cell_type": "markdown",
   "id": "88501883-e23c-4259-83b9-9dafe1973b6f",
   "metadata": {},
   "source": [
    "### Compounds clauses"
   ]
  },
  {
   "cell_type": "markdown",
   "id": "8b6f6cfc-a35b-410b-a294-2b348c1d2364",
   "metadata": {},
   "source": [
    "Teraz wyszukamy dokumenty po dwóch kryteriach:\n",
    "- created on 2025-02-13\n",
    "- zawierajace slowo another"
   ]
  },
  {
   "cell_type": "code",
   "execution_count": 27,
   "id": "23934a83-bfca-4a7b-9df0-1da2879ae928",
   "metadata": {},
   "outputs": [
    {
     "name": "stdout",
     "output_type": "stream",
     "text": [
      "Found 1 documents in my_index\n",
      "---------------------------\n",
      "[{'_id': '6zLZ_pQBbTrnRG9OuLdE',\n",
      "  '_index': 'my_index',\n",
      "  '_score': 1.9994134,\n",
      "  '_source': {'created_on': '2025-02-13',\n",
      "              'text': 'Here is another example of a document.',\n",
      "              'title': 'Sample Title 2'}}]\n"
     ]
    }
   ],
   "source": [
    "response = es.search(\n",
    "    index='my_index',\n",
    "    body={\n",
    "        \"query\": {\n",
    "            \"bool\": {\n",
    "                \"must\": [\n",
    "                    {\n",
    "                        \"match\": {\n",
    "                            \"text\": \"another\"\n",
    "                        }\n",
    "                    },\n",
    "                    {\n",
    "                        \"range\": {\n",
    "                            \"created_on\": {\n",
    "                                \"lte\": \"2025-02-13\",\n",
    "                                \"gte\": \"2025-02-13\"\n",
    "                            }\n",
    "                        }\n",
    "                    }\n",
    "                ]\n",
    "            }\n",
    "        }\n",
    "    }\n",
    ")\n",
    "\n",
    "n_hits = response['hits']['total']['value']\n",
    "print(f'Found {n_hits} documents in my_index', end='\\n---------------------------\\n')\n",
    "pprint(response['hits']['hits'])"
   ]
  },
  {
   "cell_type": "code",
   "execution_count": 13,
   "id": "c6626e28-f977-4618-8d7f-49360ec5fbb5",
   "metadata": {},
   "outputs": [
    {
     "data": {
      "text/plain": [
       "5120"
      ]
     },
     "execution_count": 13,
     "metadata": {},
     "output_type": "execute_result"
    }
   ],
   "source": [
    "dummy_data = json.load(open('dummy_data2.json'))\n",
    "for _ in range(10):\n",
    "    dummy_data += dummy_data\n",
    "len(dummy_data)"
   ]
  },
  {
   "cell_type": "markdown",
   "id": "35b798a0-e97c-4551-9a32-e7a8704c1959",
   "metadata": {},
   "source": [
    "nw po co ale chyba zduplikowalismy sb dane mocno"
   ]
  },
  {
   "cell_type": "code",
   "execution_count": 17,
   "id": "cd60979b-663e-4c90-9e64-6da8f5a03506",
   "metadata": {},
   "outputs": [
    {
     "data": {
      "text/plain": [
       "4"
      ]
     },
     "execution_count": 17,
     "metadata": {},
     "output_type": "execute_result"
    }
   ],
   "source": [
    "operations = []\n",
    "for document in dummy_data:\n",
    "    operations.append({'index': {'_index': 'my_index'}})\n",
    "    operations.append(document)\n",
    "es.bulk(operations=operations)\n",
    "2+2 # dalem to zeby ukryc tamten output\n",
    "# teraz chyba dodalismy dokumenty wszystkie na raz do indeksu"
   ]
  },
  {
   "cell_type": "markdown",
   "id": "b65af320-8c43-4da6-894e-3c3c99add544",
   "metadata": {},
   "source": [
    "### Size + from"
   ]
  },
  {
   "cell_type": "code",
   "execution_count": 18,
   "id": "8aaa9f52-0486-4ca0-99fc-62e110fc8a0f",
   "metadata": {},
   "outputs": [
    {
     "name": "stdout",
     "output_type": "stream",
     "text": [
      "{'message': 'Keyword match in this result as well.', 'age': 40, 'price': 200.0}\n",
      "{'message': 'Important keyword again in this document.', 'age': 35, 'price': 120.0}\n",
      "{'message': 'Final document with the important keyword.', 'age': 28, 'price': 180.0}\n",
      "{'message': 'This is an important keyword search result.', 'age': 25, 'price': 100.0}\n",
      "{'message': 'Another search result with an important keyword.', 'age': 30, 'price': 150.0}\n",
      "{'message': 'Keyword match in this result as well.', 'age': 40, 'price': 200.0}\n",
      "{'message': 'Important keyword again in this document.', 'age': 35, 'price': 120.0}\n",
      "{'message': 'Final document with the important keyword.', 'age': 28, 'price': 180.0}\n",
      "{'message': 'This is an important keyword search result.', 'age': 25, 'price': 100.0}\n",
      "{'message': 'Another search result with an important keyword.', 'age': 30, 'price': 150.0}\n"
     ]
    }
   ],
   "source": [
    "response = es.search(\n",
    "    index='my_index',\n",
    "    body={\n",
    "        \"query\": {\n",
    "            \"match_all\" : {}\n",
    "        },\n",
    "        \"size\": 10, # zwroci max 10 dokumentow\n",
    "        \"from\": 10 # zacznie szukanie od dziesiatego\n",
    "    },\n",
    ")\n",
    "\n",
    "for hit in response['hits']['hits']:\n",
    "    print(hit['_source'])"
   ]
  },
  {
   "cell_type": "markdown",
   "id": "cd23fcc7-2e2a-4e9c-bd52-b95041e80549",
   "metadata": {},
   "source": [
    "### Timeout"
   ]
  },
  {
   "cell_type": "code",
   "execution_count": 19,
   "id": "225b161c-6d71-415c-a06e-78af1bdcdca8",
   "metadata": {},
   "outputs": [
    {
     "data": {
      "text/plain": [
       "{'took': 126,\n",
       " 'timed_out': False,\n",
       " '_shards': {'total': 1, 'successful': 1, 'skipped': 0, 'failed': 0},\n",
       " 'hits': {'total': {'value': 10000, 'relation': 'gte'},\n",
       "  'max_score': 0.8941344,\n",
       "  'hits': [{'_index': 'my_index',\n",
       "    '_id': 'OJn4_pQBZ5uxMwOLJ735',\n",
       "    '_score': 0.8941344,\n",
       "    '_source': {'message': 'This is an important keyword search result.',\n",
       "     'age': 25,\n",
       "     'price': 100.0}},\n",
       "   {'_index': 'my_index',\n",
       "    '_id': 'OZn4_pQBZ5uxMwOLJ735',\n",
       "    '_score': 0.8941344,\n",
       "    '_source': {'message': 'Another search result with an important keyword.',\n",
       "     'age': 30,\n",
       "     'price': 150.0}},\n",
       "   {'_index': 'my_index',\n",
       "    '_id': 'PZn4_pQBZ5uxMwOLJ736',\n",
       "    '_score': 0.8941344,\n",
       "    '_source': {'message': 'This is an important keyword search result.',\n",
       "     'age': 25,\n",
       "     'price': 100.0}},\n",
       "   {'_index': 'my_index',\n",
       "    '_id': 'Ppn4_pQBZ5uxMwOLJ736',\n",
       "    '_score': 0.8941344,\n",
       "    '_source': {'message': 'Another search result with an important keyword.',\n",
       "     'age': 30,\n",
       "     'price': 150.0}},\n",
       "   {'_index': 'my_index',\n",
       "    '_id': 'Qpn4_pQBZ5uxMwOLJ736',\n",
       "    '_score': 0.8941344,\n",
       "    '_source': {'message': 'This is an important keyword search result.',\n",
       "     'age': 25,\n",
       "     'price': 100.0}},\n",
       "   {'_index': 'my_index',\n",
       "    '_id': 'Q5n4_pQBZ5uxMwOLJ736',\n",
       "    '_score': 0.8941344,\n",
       "    '_source': {'message': 'Another search result with an important keyword.',\n",
       "     'age': 30,\n",
       "     'price': 150.0}},\n",
       "   {'_index': 'my_index',\n",
       "    '_id': 'R5n4_pQBZ5uxMwOLJ736',\n",
       "    '_score': 0.8941344,\n",
       "    '_source': {'message': 'This is an important keyword search result.',\n",
       "     'age': 25,\n",
       "     'price': 100.0}},\n",
       "   {'_index': 'my_index',\n",
       "    '_id': 'SJn4_pQBZ5uxMwOLJ736',\n",
       "    '_score': 0.8941344,\n",
       "    '_source': {'message': 'Another search result with an important keyword.',\n",
       "     'age': 30,\n",
       "     'price': 150.0}},\n",
       "   {'_index': 'my_index',\n",
       "    '_id': 'TJn4_pQBZ5uxMwOLJ736',\n",
       "    '_score': 0.8941344,\n",
       "    '_source': {'message': 'This is an important keyword search result.',\n",
       "     'age': 25,\n",
       "     'price': 100.0}},\n",
       "   {'_index': 'my_index',\n",
       "    '_id': 'TZn4_pQBZ5uxMwOLJ736',\n",
       "    '_score': 0.8941344,\n",
       "    '_source': {'message': 'Another search result with an important keyword.',\n",
       "     'age': 30,\n",
       "     'price': 150.0}}]}}"
      ]
     },
     "execution_count": 19,
     "metadata": {},
     "output_type": "execute_result"
    }
   ],
   "source": [
    "response = es.search(\n",
    "    index='my_index',\n",
    "    body={\n",
    "        \"query\": {\n",
    "            \"match\" : {\n",
    "                \"message\" : \"search keyword\"\n",
    "            }\n",
    "        },\n",
    "        \"timeout\" : \"10s\"\n",
    "    },\n",
    ")\n",
    "\n",
    "response.body"
   ]
  },
  {
   "cell_type": "markdown",
   "id": "05e5b37a-5130-40f2-a75c-519b9afb64e2",
   "metadata": {},
   "source": [
    "### Aggregations"
   ]
  },
  {
   "cell_type": "code",
   "execution_count": 24,
   "id": "d1ee1642-839e-4dbc-a54c-f3ba562ad435",
   "metadata": {},
   "outputs": [
    {
     "name": "stdout",
     "output_type": "stream",
     "text": [
      "Average age = 31.6, \n",
      "Max age = 40.0\n"
     ]
    }
   ],
   "source": [
    "response = es.search(\n",
    "    index='my_index',\n",
    "    body={\n",
    "        \"query\": {\n",
    "            \"match_all\" : {}\n",
    "        },\n",
    "        \"aggs\" : {\n",
    "            \"avg_age\": {\n",
    "                \"avg\" : {\n",
    "                    \"field\": \"age\"\n",
    "                }\n",
    "            },\n",
    "            \"max_age\": {\n",
    "                \"max\": {\n",
    "                    \"field\": \"age\"\n",
    "                }\n",
    "            }\n",
    "        }\n",
    "    }\n",
    ")\n",
    "\n",
    "average_age = response['aggregations']['avg_age']['value']\n",
    "max_age = response['aggregations']['max_age']['value']\n",
    "print(f'Average age = {average_age}, \\nMax age = {max_age}')"
   ]
  },
  {
   "cell_type": "code",
   "execution_count": 25,
   "id": "655b9f92-1bfd-4d7c-877a-10fa08a5bf21",
   "metadata": {},
   "outputs": [
    {
     "data": {
      "text/plain": [
       "{'avg_age': {'value': 31.6}, 'max_age': {'value': 40.0}}"
      ]
     },
     "execution_count": 25,
     "metadata": {},
     "output_type": "execute_result"
    }
   ],
   "source": [
    "response['aggregations']"
   ]
  },
  {
   "cell_type": "markdown",
   "id": "105a6a88-2860-4527-8e49-ace3beba3504",
   "metadata": {},
   "source": [
    "Teraz **kompilacja**, wybierzemy pasujące do tekstu important keyword, policzymy max cene i dodamy pare parametrow"
   ]
  },
  {
   "cell_type": "code",
   "execution_count": 32,
   "id": "cd470448-da3c-4249-819c-b0ba61abb8bb",
   "metadata": {},
   "outputs": [
    {
     "name": "stdout",
     "output_type": "stream",
     "text": [
      "{'message': 'Important keyword again in this document.', 'age': 35, 'price': 120.0}\n",
      "{'message': 'Final document with the important keyword.', 'age': 28, 'price': 180.0}\n",
      "{'message': 'Important keyword again in this document.', 'age': 35, 'price': 120.0}\n",
      "{'message': 'Final document with the important keyword.', 'age': 28, 'price': 180.0}\n",
      "{'message': 'Important keyword again in this document.', 'age': 35, 'price': 120.0}\n",
      "{'message': 'Final document with the important keyword.', 'age': 28, 'price': 180.0}\n",
      "{'message': 'Important keyword again in this document.', 'age': 35, 'price': 120.0}\n",
      "{'message': 'Final document with the important keyword.', 'age': 28, 'price': 180.0}\n",
      "{'message': 'Important keyword again in this document.', 'age': 35, 'price': 120.0}\n",
      "{'message': 'Final document with the important keyword.', 'age': 28, 'price': 180.0}\n",
      "Max price = 200.0\n",
      "{'value': 20480}\n"
     ]
    },
    {
     "data": {
      "text/plain": [
       "5120"
      ]
     },
     "execution_count": 32,
     "metadata": {},
     "output_type": "execute_result"
    }
   ],
   "source": [
    "response = es.search(\n",
    "    index='my_index',\n",
    "    body={\n",
    "        \"query\": {\n",
    "            \"match\": {\n",
    "                \"message\": \"important keyword\"\n",
    "            }\n",
    "        },\n",
    "        \"aggs\": {\n",
    "            \"max_price\": {\n",
    "                \"max\": {\n",
    "                \"field\": \"price\"\n",
    "                }\n",
    "            },\n",
    "            \"doc_count\": {\n",
    "                \"value_count\": {\n",
    "                    \"field\": \"price\"\n",
    "                }\n",
    "            }\n",
    "        },\n",
    "        #\"size\": 5,\n",
    "        #\"from\": 20,\n",
    "        \"timeout\" : \"5s\"\n",
    "    },\n",
    ")\n",
    "\n",
    "for hit in response['hits']['hits']:\n",
    "    print(hit['_source'])\n",
    "\n",
    "max_price = response['aggregations']['max_price']['value']\n",
    "print(f'Max price = {max_price}')\n",
    "print(response['aggregations']['doc_count'])\n",
    "len(dummy_data)"
   ]
  },
  {
   "cell_type": "markdown",
   "id": "a81b12e3-327a-4881-8763-e37760131280",
   "metadata": {},
   "source": [
    "**max price szuka tylko w dokumentach pasujących do wzorca podanym w query**\n",
    "\n",
    "W sumie to chuj wie jednak xd"
   ]
  },
  {
   "cell_type": "markdown",
   "id": "0c1747e4-7f1c-43dd-af05-9e9886e93506",
   "metadata": {},
   "source": [
    "### Dense vectors\n",
    "\n",
    "Stwórzmy sobie indeks, który bedzie przechowywał wektor"
   ]
  },
  {
   "cell_type": "code",
   "execution_count": 34,
   "id": "bdd522a2-d326-47ea-a966-8b2cef79c592",
   "metadata": {},
   "outputs": [
    {
     "data": {
      "text/plain": [
       "ObjectApiResponse({'acknowledged': True, 'shards_acknowledged': True, 'index': 'my_index'})"
      ]
     },
     "execution_count": 34,
     "metadata": {},
     "output_type": "execute_result"
    }
   ],
   "source": [
    "es.indices.delete(index='my_index', ignore_unavailable=True)\n",
    "es.indices.create(\n",
    "    index='my_index',\n",
    "    mappings={\n",
    "        \"properties\": {\n",
    "            \"sides_length\": {\n",
    "                \"type\": \"dense_vector\",\n",
    "                \"dims\": 4\n",
    "            },\n",
    "            \"shape\": {\n",
    "                \"type\": \"keyword\"\n",
    "            }\n",
    "        }\n",
    "    }\n",
    ")"
   ]
  },
  {
   "cell_type": "markdown",
   "id": "6cb73e3d-666b-48a5-ae81-fc86b84effcd",
   "metadata": {},
   "source": [
    "Tworzymy dokument z jakimś wektorem"
   ]
  },
  {
   "cell_type": "code",
   "execution_count": 35,
   "id": "74304182-1a6a-47d1-b278-5721072b8a77",
   "metadata": {},
   "outputs": [
    {
     "name": "stdout",
     "output_type": "stream",
     "text": [
      "{'_id': '1',\n",
      " '_index': 'my_index',\n",
      " '_primary_term': 1,\n",
      " '_seq_no': 0,\n",
      " '_shards': {'failed': 0, 'successful': 1, 'total': 2},\n",
      " '_version': 1,\n",
      " 'result': 'created'}\n"
     ]
    }
   ],
   "source": [
    "response = es.index(\n",
    "    index='my_index',\n",
    "    id=1,\n",
    "    document={\n",
    "        \"shape\": \"square\",\n",
    "        \"sides_length\": [5, 5, 5, 5],\n",
    "    }\n",
    ")\n",
    "\n",
    "pprint(response.body)"
   ]
  },
  {
   "cell_type": "markdown",
   "id": "dc9297ae-0707-4e48-8d7e-0c8ffef5a30c",
   "metadata": {},
   "source": [
    "### Embedding documents"
   ]
  },
  {
   "cell_type": "code",
   "execution_count": 38,
   "id": "9b22e723-03cb-4606-869f-a5c855a96097",
   "metadata": {},
   "outputs": [
    {
     "data": {
      "text/plain": [
       "ObjectApiResponse({'acknowledged': True, 'shards_acknowledged': True, 'index': 'my_index'})"
      ]
     },
     "execution_count": 38,
     "metadata": {},
     "output_type": "execute_result"
    }
   ],
   "source": [
    "es.indices.delete(index='my_index', ignore_unavailable=True)\n",
    "es.indices.create(\n",
    "    index='my_index',\n",
    "    mappings={\n",
    "        \"properties\": {\n",
    "            \"embedding\": {\n",
    "                \"type\": \"dense_vector\",\n",
    "            }\n",
    "        }\n",
    "    }\n",
    ")"
   ]
  },
  {
   "cell_type": "markdown",
   "id": "47f3ca8f-4b45-4695-bf3a-988677b1b766",
   "metadata": {},
   "source": [
    "**tworzymy sobie model**"
   ]
  },
  {
   "cell_type": "code",
   "execution_count": 44,
   "id": "d8e82956-25cb-4f1a-8b29-a4a4525493e0",
   "metadata": {},
   "outputs": [
    {
     "data": {
      "text/plain": [
       "SentenceTransformer(\n",
       "  (0): Transformer({'max_seq_length': 256, 'do_lower_case': False}) with Transformer model: BertModel \n",
       "  (1): Pooling({'word_embedding_dimension': 384, 'pooling_mode_cls_token': False, 'pooling_mode_mean_tokens': True, 'pooling_mode_max_tokens': False, 'pooling_mode_mean_sqrt_len_tokens': False, 'pooling_mode_weightedmean_tokens': False, 'pooling_mode_lasttoken': False, 'include_prompt': True})\n",
       "  (2): Normalize()\n",
       ")"
      ]
     },
     "execution_count": 44,
     "metadata": {},
     "output_type": "execute_result"
    }
   ],
   "source": [
    "from sentence_transformers import SentenceTransformer\n",
    "\n",
    "model = SentenceTransformer('all-MiniLM-L6-v2')\n",
    "model"
   ]
  },
  {
   "cell_type": "code",
   "execution_count": 45,
   "id": "ccd8380c-f1a5-4fd2-8fe0-d01a9df4a3a2",
   "metadata": {},
   "outputs": [
    {
     "data": {
      "text/plain": [
       "device(type='cpu')"
      ]
     },
     "execution_count": 45,
     "metadata": {},
     "output_type": "execute_result"
    }
   ],
   "source": [
    "import torch\n",
    "\n",
    "device = torch.device('cuda' if torch.cuda.is_available() else 'cpu')\n",
    "device"
   ]
  },
  {
   "cell_type": "code",
   "execution_count": 46,
   "id": "44ba5fd2-5d3a-43d3-8cbd-efc3e274590f",
   "metadata": {},
   "outputs": [
    {
     "data": {
      "text/plain": [
       "SentenceTransformer(\n",
       "  (0): Transformer({'max_seq_length': 256, 'do_lower_case': False}) with Transformer model: BertModel \n",
       "  (1): Pooling({'word_embedding_dimension': 384, 'pooling_mode_cls_token': False, 'pooling_mode_mean_tokens': True, 'pooling_mode_max_tokens': False, 'pooling_mode_mean_sqrt_len_tokens': False, 'pooling_mode_weightedmean_tokens': False, 'pooling_mode_lasttoken': False, 'include_prompt': True})\n",
       "  (2): Normalize()\n",
       ")"
      ]
     },
     "execution_count": 46,
     "metadata": {},
     "output_type": "execute_result"
    }
   ],
   "source": [
    "model = model.to(device)\n",
    "model"
   ]
  },
  {
   "cell_type": "code",
   "execution_count": 48,
   "id": "be96b452-7264-4e79-8bfa-7ca068f34500",
   "metadata": {},
   "outputs": [
    {
     "data": {
      "text/plain": [
       "[{'title': 'Sample Title 1',\n",
       "  'text': 'This is the first sample document text.',\n",
       "  'created_on': '2025-02-12'},\n",
       " {'title': 'Sample Title 2',\n",
       "  'text': 'Here is another example of a document.',\n",
       "  'created_on': '2025-02-13'},\n",
       " {'title': 'Sample Title 3',\n",
       "  'text': 'The content of the third document goes here.',\n",
       "  'created_on': '2025-02-14'}]"
      ]
     },
     "execution_count": 48,
     "metadata": {},
     "output_type": "execute_result"
    }
   ],
   "source": [
    "documents = json.load(open('dummy_data.json'))\n",
    "documents"
   ]
  },
  {
   "cell_type": "markdown",
   "id": "1bcef4ef-b47b-41f7-bd84-e4c1fed17c45",
   "metadata": {},
   "source": [
    "teraz bedziemy embeddować te dokumenty"
   ]
  },
  {
   "cell_type": "code",
   "execution_count": 50,
   "id": "6e60b3bf-3521-4405-acff-c9097e89909f",
   "metadata": {},
   "outputs": [
    {
     "name": "stdout",
     "output_type": "stream",
     "text": [
      "{'errors': False,\n",
      " 'items': [{'index': {'_id': 'O5pR_5QBZ5uxMwOLqw0V',\n",
      "                      '_index': 'my_index',\n",
      "                      '_primary_term': 1,\n",
      "                      '_seq_no': 3,\n",
      "                      '_shards': {'failed': 0, 'successful': 1, 'total': 2},\n",
      "                      '_version': 1,\n",
      "                      'result': 'created',\n",
      "                      'status': 201}},\n",
      "           {'index': {'_id': 'PJpR_5QBZ5uxMwOLqw0V',\n",
      "                      '_index': 'my_index',\n",
      "                      '_primary_term': 1,\n",
      "                      '_seq_no': 4,\n",
      "                      '_shards': {'failed': 0, 'successful': 1, 'total': 2},\n",
      "                      '_version': 1,\n",
      "                      'result': 'created',\n",
      "                      'status': 201}},\n",
      "           {'index': {'_id': 'PZpR_5QBZ5uxMwOLqw0V',\n",
      "                      '_index': 'my_index',\n",
      "                      '_primary_term': 1,\n",
      "                      '_seq_no': 5,\n",
      "                      '_shards': {'failed': 0, 'successful': 1, 'total': 2},\n",
      "                      '_version': 1,\n",
      "                      'result': 'created',\n",
      "                      'status': 201}}],\n",
      " 'took': 9870247}\n"
     ]
    }
   ],
   "source": [
    "def get_embedding(text):\n",
    "    return model.encode(text) # zwroci nam dense wektor\n",
    "\n",
    "operations = []\n",
    "for document in documents:\n",
    "    operations.append({'index': {'_index': 'my_index'}}) # indeksujemy dokumenty w indeksie o nazwie my_index XDD\n",
    "    operations.append({\n",
    "        **document,\n",
    "        'embedding': get_embedding(document['text']),\n",
    "    })\n",
    "\n",
    "response = es.bulk(operations=operations) # teraz uzywajac bulk api, zrobimy wszystko na raz wiadomo co jest 5\n",
    "pprint(response.body)"
   ]
  },
  {
   "cell_type": "markdown",
   "id": "bb0e5747-a0c6-4823-b760-60482c9d81b8",
   "metadata": {},
   "source": [
    "teraz mozemy sprawdzic czy sie dodalo to embedding"
   ]
  },
  {
   "cell_type": "code",
   "execution_count": 56,
   "id": "95baa451-4500-4646-bb0a-d2532dd264f5",
   "metadata": {},
   "outputs": [],
   "source": [
    "response = es.search(\n",
    "    index='my_index',\n",
    "    body={\n",
    "        \"query\": {\n",
    "            \"match_all\": {}}\n",
    "        }\n",
    ")\n",
    "# pprint(response.body) jak co to jest ok, ale jest zjaebiscie duzo tekstu"
   ]
  },
  {
   "cell_type": "markdown",
   "id": "0a1ab23b-5487-40da-b609-3f816e41b166",
   "metadata": {},
   "source": [
    "Teraz możemy sprawdzić mapping, aby zobaczyć czy serio ma tyle wymiarów ile powinno"
   ]
  },
  {
   "cell_type": "code",
   "execution_count": 58,
   "id": "d96fee7b-642a-425a-a196-c3d0a49aab3e",
   "metadata": {},
   "outputs": [
    {
     "name": "stdout",
     "output_type": "stream",
     "text": [
      "{'my_index': {'mappings': {'properties': {'created_on': {'type': 'date'},\n",
      "                                          'embedding': {'dims': 384,\n",
      "                                                        'index': True,\n",
      "                                                        'index_options': {'ef_construction': 100,\n",
      "                                                                          'm': 16,\n",
      "                                                                          'type': 'int8_hnsw'},\n",
      "                                                        'similarity': 'cosine',\n",
      "                                                        'type': 'dense_vector'},\n",
      "                                          'text': {'fields': {'keyword': {'ignore_above': 256,\n",
      "                                                                          'type': 'keyword'}},\n",
      "                                                   'type': 'text'},\n",
      "                                          'title': {'fields': {'keyword': {'ignore_above': 256,\n",
      "                                                                           'type': 'keyword'}},\n",
      "                                                    'type': 'text'}}}}}\n"
     ]
    }
   ],
   "source": [
    "response = es.indices.get_mapping(index='my_index')\n",
    "pprint(response.body)"
   ]
  },
  {
   "cell_type": "markdown",
   "id": "f8bc65b1-fcd1-487f-bce4-9c55b9389e79",
   "metadata": {},
   "source": [
    "### KNN"
   ]
  },
  {
   "cell_type": "code",
   "execution_count": 59,
   "id": "b7c3c768-3248-4878-91f0-9da22d9acd95",
   "metadata": {},
   "outputs": [
    {
     "data": {
      "text/plain": [
       "ObjectApiResponse({'acknowledged': True, 'shards_acknowledged': True, 'index': 'my_index'})"
      ]
     },
     "execution_count": 59,
     "metadata": {},
     "output_type": "execute_result"
    }
   ],
   "source": [
    "es.indices.delete(index='my_index', ignore_unavailable=True)\n",
    "es.indices.create(\n",
    "    index='my_index',\n",
    "    mappings={\n",
    "        \"properties\": {\n",
    "            \"embedding\": {\n",
    "                \"type\": \"dense_vector\",\n",
    "            }\n",
    "        }\n",
    "    }\n",
    ")"
   ]
  },
  {
   "cell_type": "code",
   "execution_count": 60,
   "id": "ededa461-1aad-4c26-bade-0d174d5e3bac",
   "metadata": {},
   "outputs": [
    {
     "data": {
      "text/plain": [
       "SentenceTransformer(\n",
       "  (0): Transformer({'max_seq_length': 256, 'do_lower_case': False}) with Transformer model: BertModel \n",
       "  (1): Pooling({'word_embedding_dimension': 384, 'pooling_mode_cls_token': False, 'pooling_mode_mean_tokens': True, 'pooling_mode_max_tokens': False, 'pooling_mode_mean_sqrt_len_tokens': False, 'pooling_mode_weightedmean_tokens': False, 'pooling_mode_lasttoken': False, 'include_prompt': True})\n",
       "  (2): Normalize()\n",
       ")"
      ]
     },
     "execution_count": 60,
     "metadata": {},
     "output_type": "execute_result"
    }
   ],
   "source": [
    "from sentence_transformers import SentenceTransformer\n",
    "\n",
    "model = SentenceTransformer('all-MiniLM-L6-v2')\n",
    "model"
   ]
  },
  {
   "cell_type": "code",
   "execution_count": 61,
   "id": "7ff2f344-614c-4768-853f-ecf250296f79",
   "metadata": {},
   "outputs": [
    {
     "data": {
      "text/plain": [
       "device(type='cpu')"
      ]
     },
     "execution_count": 61,
     "metadata": {},
     "output_type": "execute_result"
    }
   ],
   "source": [
    "import torch\n",
    "\n",
    "device = torch.device('cuda' if torch.cuda.is_available() else 'cpu')\n",
    "device"
   ]
  },
  {
   "cell_type": "code",
   "execution_count": 62,
   "id": "5028aa21-fbf5-4c22-89da-51dc11ffe3fb",
   "metadata": {},
   "outputs": [
    {
     "data": {
      "text/plain": [
       "SentenceTransformer(\n",
       "  (0): Transformer({'max_seq_length': 256, 'do_lower_case': False}) with Transformer model: BertModel \n",
       "  (1): Pooling({'word_embedding_dimension': 384, 'pooling_mode_cls_token': False, 'pooling_mode_mean_tokens': True, 'pooling_mode_max_tokens': False, 'pooling_mode_mean_sqrt_len_tokens': False, 'pooling_mode_weightedmean_tokens': False, 'pooling_mode_lasttoken': False, 'include_prompt': True})\n",
       "  (2): Normalize()\n",
       ")"
      ]
     },
     "execution_count": 62,
     "metadata": {},
     "output_type": "execute_result"
    }
   ],
   "source": [
    "model = model.to(device)\n",
    "model"
   ]
  },
  {
   "cell_type": "code",
   "execution_count": 63,
   "id": "5216505c-d0f1-4968-93e0-a089df642bef",
   "metadata": {},
   "outputs": [
    {
     "data": {
      "text/plain": [
       "[{'id': 1,\n",
       "  'title': 'The Solar System',\n",
       "  'content': 'The Solar System consists of the Sun and the objects that orbit it, including eight planets, their moons, dwarf planets, and countless small bodies like asteroids and comets.'},\n",
       " {'id': 2,\n",
       "  'title': 'Black Holes',\n",
       "  'content': 'A black hole is a region of space where the gravitational pull is so strong that nothing, not even light, can escape from it. They are formed when massive stars collapse under their own gravity.'},\n",
       " {'id': 3,\n",
       "  'title': 'Galaxies',\n",
       "  'content': 'Galaxies are vast systems that consist of stars, stellar remnants, interstellar gas, dust, and dark matter. The Milky Way is the galaxy that contains our Solar System.'},\n",
       " {'id': 4,\n",
       "  'title': 'The Big Bang Theory',\n",
       "  'content': 'The Big Bang Theory is the leading explanation about how the universe began. It suggests that the universe was once in an extremely hot and dense state and has been expanding ever since.'},\n",
       " {'id': 5,\n",
       "  'title': 'Exoplanets',\n",
       "  'content': 'Exoplanets, or extrasolar planets, are planets that exist outside our solar system. They vary greatly in size and composition and are often found using methods like the transit method and radial velocity.'},\n",
       " {'id': 6,\n",
       "  'title': 'The Life Cycle of Stars',\n",
       "  'content': 'Stars are born from clouds of gas and dust in space. They undergo a life cycle that includes stages such as main sequence, red giant, and, ultimately, either a supernova explosion or a gentle fade into a white dwarf.'},\n",
       " {'id': 7,\n",
       "  'title': 'Astrobiology',\n",
       "  'content': 'Astrobiology is the study of the origin, evolution, distribution, and future of life in the universe. It combines elements of biology, chemistry, and planetary science.'},\n",
       " {'id': 8,\n",
       "  'title': 'Dark Matter',\n",
       "  'content': \"Dark matter is a type of matter that does not emit light or energy. It cannot be observed directly but is believed to make up about 27% of the universe's total mass and energy.\"},\n",
       " {'id': 9,\n",
       "  'title': 'The Expanding Universe',\n",
       "  'content': 'The universe has been expanding since the Big Bang. Observations of distant galaxies show that they are moving away from us, which supports the idea of an expanding universe.'},\n",
       " {'id': 10,\n",
       "  'title': 'Space Exploration',\n",
       "  'content': 'Space exploration involves the use of space technology to explore outer space. It includes missions to planets, moons, and other celestial bodies, aiming to discover more about the universe.'}]"
      ]
     },
     "execution_count": 63,
     "metadata": {},
     "output_type": "execute_result"
    }
   ],
   "source": [
    "documents = json.load(open('knn_search.json'))\n",
    "documents"
   ]
  },
  {
   "cell_type": "markdown",
   "id": "2c24ac76-c186-454d-99d3-fadd836bcc54",
   "metadata": {},
   "source": [
    "Teraz znowu musimy \"zembeddować\" nasze dane szczególnie tekst do wektora i dodać je do indeksu"
   ]
  },
  {
   "cell_type": "code",
   "execution_count": 65,
   "id": "f88d2bd6-481f-4604-9680-1e33e44ada37",
   "metadata": {},
   "outputs": [
    {
     "name": "stdout",
     "output_type": "stream",
     "text": [
      "{'errors': False,\n",
      " 'items': [{'index': {'_id': 'Ppp2_5QBZ5uxMwOLLg00',\n",
      "                      '_index': 'my_index',\n",
      "                      '_primary_term': 1,\n",
      "                      '_seq_no': 0,\n",
      "                      '_shards': {'failed': 0, 'successful': 1, 'total': 2},\n",
      "                      '_version': 1,\n",
      "                      'result': 'created',\n",
      "                      'status': 201}},\n",
      "           {'index': {'_id': 'P5p2_5QBZ5uxMwOLLg00',\n",
      "                      '_index': 'my_index',\n",
      "                      '_primary_term': 1,\n",
      "                      '_seq_no': 1,\n",
      "                      '_shards': {'failed': 0, 'successful': 1, 'total': 2},\n",
      "                      '_version': 1,\n",
      "                      'result': 'created',\n",
      "                      'status': 201}},\n",
      "           {'index': {'_id': 'QJp2_5QBZ5uxMwOLLg00',\n",
      "                      '_index': 'my_index',\n",
      "                      '_primary_term': 1,\n",
      "                      '_seq_no': 2,\n",
      "                      '_shards': {'failed': 0, 'successful': 1, 'total': 2},\n",
      "                      '_version': 1,\n",
      "                      'result': 'created',\n",
      "                      'status': 201}},\n",
      "           {'index': {'_id': 'QZp2_5QBZ5uxMwOLLg00',\n",
      "                      '_index': 'my_index',\n",
      "                      '_primary_term': 1,\n",
      "                      '_seq_no': 3,\n",
      "                      '_shards': {'failed': 0, 'successful': 1, 'total': 2},\n",
      "                      '_version': 1,\n",
      "                      'result': 'created',\n",
      "                      'status': 201}},\n",
      "           {'index': {'_id': 'Qpp2_5QBZ5uxMwOLLg00',\n",
      "                      '_index': 'my_index',\n",
      "                      '_primary_term': 1,\n",
      "                      '_seq_no': 4,\n",
      "                      '_shards': {'failed': 0, 'successful': 1, 'total': 2},\n",
      "                      '_version': 1,\n",
      "                      'result': 'created',\n",
      "                      'status': 201}},\n",
      "           {'index': {'_id': 'Q5p2_5QBZ5uxMwOLLg00',\n",
      "                      '_index': 'my_index',\n",
      "                      '_primary_term': 1,\n",
      "                      '_seq_no': 5,\n",
      "                      '_shards': {'failed': 0, 'successful': 1, 'total': 2},\n",
      "                      '_version': 1,\n",
      "                      'result': 'created',\n",
      "                      'status': 201}},\n",
      "           {'index': {'_id': 'RJp2_5QBZ5uxMwOLLg00',\n",
      "                      '_index': 'my_index',\n",
      "                      '_primary_term': 1,\n",
      "                      '_seq_no': 6,\n",
      "                      '_shards': {'failed': 0, 'successful': 1, 'total': 2},\n",
      "                      '_version': 1,\n",
      "                      'result': 'created',\n",
      "                      'status': 201}},\n",
      "           {'index': {'_id': 'RZp2_5QBZ5uxMwOLLg00',\n",
      "                      '_index': 'my_index',\n",
      "                      '_primary_term': 1,\n",
      "                      '_seq_no': 7,\n",
      "                      '_shards': {'failed': 0, 'successful': 1, 'total': 2},\n",
      "                      '_version': 1,\n",
      "                      'result': 'created',\n",
      "                      'status': 201}},\n",
      "           {'index': {'_id': 'Rpp2_5QBZ5uxMwOLLg00',\n",
      "                      '_index': 'my_index',\n",
      "                      '_primary_term': 1,\n",
      "                      '_seq_no': 8,\n",
      "                      '_shards': {'failed': 0, 'successful': 1, 'total': 2},\n",
      "                      '_version': 1,\n",
      "                      'result': 'created',\n",
      "                      'status': 201}},\n",
      "           {'index': {'_id': 'R5p2_5QBZ5uxMwOLLg00',\n",
      "                      '_index': 'my_index',\n",
      "                      '_primary_term': 1,\n",
      "                      '_seq_no': 9,\n",
      "                      '_shards': {'failed': 0, 'successful': 1, 'total': 2},\n",
      "                      '_version': 1,\n",
      "                      'result': 'created',\n",
      "                      'status': 201}}],\n",
      " 'took': 12269578}\n"
     ]
    }
   ],
   "source": [
    "def get_embedding(text):\n",
    "    return model.encode(text) # zwroci nam dense wektor\n",
    "\n",
    "operations = []\n",
    "for document in documents:\n",
    "    operations.append({'index': {'_index': 'my_index'}}) # indeksujemy dokumenty w indeksie o nazwie my_index XDD\n",
    "    operations.append({\n",
    "        **document,\n",
    "        'embedding': get_embedding(document['content']),\n",
    "    })\n",
    "\n",
    "response = es.bulk(operations=operations) # teraz uzywajac bulk api, zrobimy wszystko na raz wiadomo co jest 5\n",
    "pprint(response.body)"
   ]
  },
  {
   "cell_type": "code",
   "execution_count": 66,
   "id": "24a9bb3d-92a7-48a7-afb6-5cda3f60f6ea",
   "metadata": {},
   "outputs": [],
   "source": [
    "# tutaj sie weryfikuje czy sie powiodlo tak jak wczesniej wiadomo"
   ]
  },
  {
   "cell_type": "markdown",
   "id": "4e9bf2c1-50d2-4b2f-81ce-eac7e9b2f6d3",
   "metadata": {},
   "source": [
    "**Let's go to knn**"
   ]
  },
  {
   "cell_type": "code",
   "execution_count": 68,
   "id": "3f32794c-244b-40b0-a149-34d42f21823f",
   "metadata": {},
   "outputs": [
    {
     "name": "stdout",
     "output_type": "stream",
     "text": [
      "Found 3 documents\n"
     ]
    }
   ],
   "source": [
    "query = \"What is a black hole\" # chcemy sie tego dowiedziec\n",
    "embedded_query = get_embedding(query) # musimy skonwertować do wektora wiadomo\n",
    "\n",
    "result = es.search(\n",
    "    index='my_index',\n",
    "    knn={\n",
    "        \"field\": \"embedding\",\n",
    "        \"query_vector\": embedded_query,\n",
    "        \"num_candidates\": 5,\n",
    "        \"k\": 3, # wybierze tylko 3 najblizsze\n",
    "    }\n",
    ")\n",
    "\n",
    "n_docs = result.body['hits']['total']['value']\n",
    "print(f'Found {n_docs} documents')"
   ]
  },
  {
   "cell_type": "code",
   "execution_count": 70,
   "id": "8899e208-dc8c-47e0-9af9-56d78e773f63",
   "metadata": {},
   "outputs": [
    {
     "name": "stdout",
     "output_type": "stream",
     "text": [
      "Title: Black Holes\n",
      "Content: A black hole is a region of space where the gravitational pull is so strong that nothing, not even light, can escape from it. They are formed when massive stars collapse under their own gravity.\n",
      "Score: 0.8965888\n",
      "**************************************************\n",
      "Title: Dark Matter\n",
      "Content: Dark matter is a type of matter that does not emit light or energy. It cannot be observed directly but is believed to make up about 27% of the universe's total mass and energy.\n",
      "Score: 0.6555922\n",
      "**************************************************\n",
      "Title: Galaxies\n",
      "Content: Galaxies are vast systems that consist of stars, stellar remnants, interstellar gas, dust, and dark matter. The Milky Way is the galaxy that contains our Solar System.\n",
      "Score: 0.6281738\n",
      "**************************************************\n"
     ]
    }
   ],
   "source": [
    "hits = result.body['hits']['hits']\n",
    "for hit in hits:\n",
    "    print(f'Title: {hit['_source']['title']}')\n",
    "    print(f'Content: {hit['_source']['content']}')\n",
    "    print(f'Score: {hit['_score']}')\n",
    "    print('*'*50)"
   ]
  },
  {
   "cell_type": "code",
   "execution_count": 71,
   "id": "bc7e957e-28da-4dd5-bc3a-d02003c186c5",
   "metadata": {},
   "outputs": [
    {
     "name": "stdout",
     "output_type": "stream",
     "text": [
      "Found 3 documents\n"
     ]
    }
   ],
   "source": [
    "query = \"How do we find exoplanets?\" # chcemy sie tego dowiedziec\n",
    "embedded_query = get_embedding(query) # musimy skonwertować do wektora wiadomo\n",
    "\n",
    "result = es.search(\n",
    "    index='my_index',\n",
    "    knn={\n",
    "        \"field\": \"embedding\",\n",
    "        \"query_vector\": embedded_query,\n",
    "        \"num_candidates\": 5,\n",
    "        \"k\": 3, # wybierze tylko 3 najblizsze\n",
    "    }\n",
    ")\n",
    "\n",
    "n_docs = result.body['hits']['total']['value']\n",
    "print(f'Found {n_docs} documents')"
   ]
  },
  {
   "cell_type": "code",
   "execution_count": 72,
   "id": "a04bdc34-386d-4d16-bcb8-097e09f75735",
   "metadata": {},
   "outputs": [
    {
     "name": "stdout",
     "output_type": "stream",
     "text": [
      "Title: Exoplanets\n",
      "Content: Exoplanets, or extrasolar planets, are planets that exist outside our solar system. They vary greatly in size and composition and are often found using methods like the transit method and radial velocity.\n",
      "Score: 0.85656023\n",
      "**************************************************\n",
      "Title: The Solar System\n",
      "Content: The Solar System consists of the Sun and the objects that orbit it, including eight planets, their moons, dwarf planets, and countless small bodies like asteroids and comets.\n",
      "Score: 0.68916297\n",
      "**************************************************\n",
      "Title: Galaxies\n",
      "Content: Galaxies are vast systems that consist of stars, stellar remnants, interstellar gas, dust, and dark matter. The Milky Way is the galaxy that contains our Solar System.\n",
      "Score: 0.6610558\n",
      "**************************************************\n"
     ]
    }
   ],
   "source": [
    "hits = result.body['hits']['hits']\n",
    "for hit in hits:\n",
    "    print(f'Title: {hit['_source']['title']}')\n",
    "    print(f'Content: {hit['_source']['content']}')\n",
    "    print(f'Score: {hit['_score']}')\n",
    "    print('*'*50)"
   ]
  },
  {
   "cell_type": "markdown",
   "id": "ce8f51ed-ea38-43e3-9a9a-48f4e7215c7a",
   "metadata": {},
   "source": [
    "### Deep pagination\n",
    "\n",
    "musimy zacząć od przygotowania danych, pamiętając że search_After wymaga id lub timestampa"
   ]
  },
  {
   "cell_type": "code",
   "execution_count": 77,
   "id": "e9488bd5-4e70-4f48-9a59-fff036ed2075",
   "metadata": {},
   "outputs": [
    {
     "data": {
      "text/plain": [
       "ObjectApiResponse({'acknowledged': True, 'shards_acknowledged': True, 'index': 'my_index'})"
      ]
     },
     "execution_count": 77,
     "metadata": {},
     "output_type": "execute_result"
    }
   ],
   "source": [
    "index_name = 'my_index'\n",
    "mapping = {\n",
    "    \"mappings\": {\n",
    "        \"properties\": {\n",
    "            \"timestamp\": {\"type\": \"date\"},\n",
    "            \"value\": {\"type\": \"float\"},\n",
    "            \"category\": {\"type\": \"keyword\"},\n",
    "            \"description\": {\"type\": \"text\"},\n",
    "            \"id\": {\"type\": \"keyword\"},\n",
    "        }\n",
    "    },\n",
    "    \"settings\": {\n",
    "        \"number_of_shards\": 1,\n",
    "        \"number_of_replicas\": 0\n",
    "    }\n",
    "}\n",
    "\n",
    "es.indices.delete(index=index_name, ignore_unavailable=True)\n",
    "es.indices.create(index=index_name, body=mapping)"
   ]
  },
  {
   "cell_type": "markdown",
   "id": "979b7da3-616b-4763-bcfa-becb9a7fcaa3",
   "metadata": {},
   "source": [
    "Musimy stworzyć jakieś dane"
   ]
  },
  {
   "cell_type": "code",
   "execution_count": 78,
   "id": "ca209387-482e-4959-86ab-a466a4ffc4db",
   "metadata": {},
   "outputs": [],
   "source": [
    "base_documents = [\n",
    "    {\n",
    "        \"category\": \"A\",\n",
    "        \"value\": 100,\n",
    "        \"description\": \"First sample document\"\n",
    "    },\n",
    "    {\n",
    "        \"category\": \"B\",\n",
    "        \"value\": 200,\n",
    "        \"description\": \"Second sample document\"\n",
    "    },\n",
    "    {\n",
    "        \"category\": \"C\",\n",
    "        \"value\": 300,\n",
    "        \"description\": \"Third sample document\"\n",
    "    },\n",
    "    {\n",
    "        \"category\": \"D\",\n",
    "        \"value\": 400,\n",
    "        \"description\": \"Fourth sample document\"\n",
    "    },\n",
    "    {\n",
    "        \"category\": \"E\",\n",
    "        \"value\": 500,\n",
    "        \"description\": \"Fifth sample document\"\n",
    "    }\n",
    "]"
   ]
  },
  {
   "cell_type": "markdown",
   "id": "f0a85b9d-afbd-45ec-a087-13730c230b3e",
   "metadata": {},
   "source": [
    "tutaj będziemy duplikowac dokumenty, zeby byli ich 100k, kazdemu dodamy id, timestampa i wartosc damy losową, zeby byly inne"
   ]
  },
  {
   "cell_type": "code",
   "execution_count": 80,
   "id": "9ae21841-50fa-4cca-9792-0043d3407461",
   "metadata": {},
   "outputs": [
    {
     "name": "stdout",
     "output_type": "stream",
     "text": [
      "Generated 100000 documents\n"
     ]
    }
   ],
   "source": [
    "import random\n",
    "from datetime import datetime, timedelta\n",
    "\n",
    "def generate_bulk_data(base_documents, target_size=100_000):\n",
    "    documents = []\n",
    "    base_count = len(base_documents)\n",
    "    duplications_needed = target_size // base_count\n",
    "\n",
    "    base_timestamp = datetime.now()\n",
    "\n",
    "    for i in range(duplications_needed):\n",
    "        for document in base_documents:\n",
    "            new_doc = document.copy()\n",
    "            new_doc['id'] = f\"doc_{len(documents)}\"\n",
    "            new_doc['timestamp'] = (base_timestamp - timedelta(minutes=len(documents))).isoformat()\n",
    "            new_doc['value'] = document['value'] + random.uniform(-10, 10)\n",
    "            documents.append(new_doc)\n",
    "    return documents\n",
    "\n",
    "documents = generate_bulk_data(base_documents, target_size=100_000)\n",
    "print(f\"Generated {len(documents)} documents\")"
   ]
  },
  {
   "cell_type": "markdown",
   "id": "aa1d1d78-70d5-4591-8136-a438a04c87e6",
   "metadata": {},
   "source": [
    "teraz musimy dodać te dokumenty to indeksu oczywiscie przy uzyciu bulk api, zeby bylo szybciutko"
   ]
  },
  {
   "cell_type": "code",
   "execution_count": 81,
   "id": "c9911df5-43ff-4efb-9d54-0e8b223efef7",
   "metadata": {},
   "outputs": [
    {
     "name": "stdout",
     "output_type": "stream",
     "text": [
      "False\n"
     ]
    }
   ],
   "source": [
    "operations = []\n",
    "for document in documents:\n",
    "    operations.append({'index': {'_index': index_name}})\n",
    "    operations.append(document)\n",
    "response = es.bulk(operations=operations)\n",
    "pprint(response.body['errors'])"
   ]
  },
  {
   "cell_type": "code",
   "execution_count": 83,
   "id": "118b4478-f33c-429c-a615-8c9bef608fb0",
   "metadata": {},
   "outputs": [
    {
     "name": "stdout",
     "output_type": "stream",
     "text": [
      "Indexed 100000 documents before refresh\n",
      "Indexed 100000 documents after refresh\n"
     ]
    }
   ],
   "source": [
    "count = es.count(index=index_name)['count']\n",
    "print(f\"Indexed {count} documents before refresh\")\n",
    "es.indices.refresh(index=index_name)\n",
    "count = es.count(index=index_name)['count']\n",
    "print(f\"Indexed {count} documents after refresh\")"
   ]
  },
  {
   "cell_type": "markdown",
   "id": "ca073b1b-cf8b-4dcf-8cf4-2ffe33130ba0",
   "metadata": {},
   "source": [
    "najpierw **from/size**\n",
    "\n",
    "używamy dwóch parametrów from = 0, startujemy od początku i size = 10, wypisujemy tylko 10"
   ]
  },
  {
   "cell_type": "code",
   "execution_count": 84,
   "id": "972d3aa1-7b62-4e28-a289-d3bf3a20b8f7",
   "metadata": {},
   "outputs": [
    {
     "name": "stdout",
     "output_type": "stream",
     "text": [
      "ID: doc_0\n",
      "ID: doc_1\n",
      "ID: doc_2\n",
      "ID: doc_3\n",
      "ID: doc_4\n",
      "ID: doc_5\n",
      "ID: doc_6\n",
      "ID: doc_7\n",
      "ID: doc_8\n",
      "ID: doc_9\n"
     ]
    }
   ],
   "source": [
    "response = es.search(\n",
    "    index=index_name,\n",
    "    body={\n",
    "        \"from\": 0,\n",
    "        \"size\": 10,\n",
    "        \"sort\": [\n",
    "            {\"timestamp\": \"desc\"},\n",
    "            {\"id\": \"desc\"}\n",
    "        ]\n",
    "    }\n",
    ")\n",
    "\n",
    "hits = response['hits']['hits']\n",
    "for hit in hits:\n",
    "    print(f\"ID: {hit['_source']['id']}\")"
   ]
  },
  {
   "cell_type": "markdown",
   "id": "3f0b2664-2b28-4895-aba2-6b4b32fce1cd",
   "metadata": {},
   "source": [
    "teraz **search after**"
   ]
  },
  {
   "cell_type": "code",
   "execution_count": 86,
   "id": "4aaedd42-51f7-4c8b-9694-4b7a0cab5bef",
   "metadata": {},
   "outputs": [
    {
     "name": "stdout",
     "output_type": "stream",
     "text": [
      "ID: doc_0\n",
      "Sort values: [1739470781885, 'doc_0']\n",
      "\n",
      "ID: doc_1\n",
      "Sort values: [1739470721885, 'doc_1']\n",
      "\n",
      "ID: doc_2\n",
      "Sort values: [1739470661885, 'doc_2']\n",
      "\n",
      "ID: doc_3\n",
      "Sort values: [1739470601885, 'doc_3']\n",
      "\n",
      "ID: doc_4\n",
      "Sort values: [1739470541885, 'doc_4']\n",
      "\n",
      "ID: doc_5\n",
      "Sort values: [1739470481885, 'doc_5']\n",
      "\n",
      "ID: doc_6\n",
      "Sort values: [1739470421885, 'doc_6']\n",
      "\n",
      "ID: doc_7\n",
      "Sort values: [1739470361885, 'doc_7']\n",
      "\n",
      "ID: doc_8\n",
      "Sort values: [1739470301885, 'doc_8']\n",
      "\n",
      "ID: doc_9\n",
      "Sort values: [1739470241885, 'doc_9']\n",
      "\n"
     ]
    }
   ],
   "source": [
    "response = es.search(\n",
    "    index=index_name,\n",
    "    body={\n",
    "        \"size\": 10,\n",
    "        \"sort\": [ # musimy to miec\n",
    "            {\"timestamp\": \"desc\"},\n",
    "            {\"id\": \"desc\"}\n",
    "        ]\n",
    "    }\n",
    ")\n",
    "\n",
    "hits = response['hits']['hits']\n",
    "for hit in hits:\n",
    "    print(f\"ID: {hit['_source']['id']}\")\n",
    "    print(f\"Sort values: {hit['sort']}\") # timestamp to jest i id, bo po tym sortuje\n",
    "    print()"
   ]
  },
  {
   "cell_type": "code",
   "execution_count": 88,
   "id": "8d85ae4b-8b8d-457f-8190-a577ca64ae18",
   "metadata": {},
   "outputs": [
    {
     "data": {
      "text/plain": [
       "[1739470241885, 'doc_9']"
      ]
     },
     "execution_count": 88,
     "metadata": {},
     "output_type": "execute_result"
    }
   ],
   "source": [
    "last_sort_values = hits[-1]['sort']\n",
    "last_sort_values"
   ]
  },
  {
   "cell_type": "markdown",
   "id": "db41019b-c0c1-459d-a702-35f4db95bd2a",
   "metadata": {},
   "source": [
    "Teraz, żeby mieć kolejne dokumenty to dodamy parametr search_after"
   ]
  },
  {
   "cell_type": "code",
   "execution_count": 89,
   "id": "c18f2cbd-de08-43ba-954e-8d3eda74cb71",
   "metadata": {},
   "outputs": [
    {
     "name": "stdout",
     "output_type": "stream",
     "text": [
      "ID: doc_10\n",
      "Sort values: [1739470181885, 'doc_10']\n",
      "\n",
      "ID: doc_11\n",
      "Sort values: [1739470121885, 'doc_11']\n",
      "\n",
      "ID: doc_12\n",
      "Sort values: [1739470061885, 'doc_12']\n",
      "\n",
      "ID: doc_13\n",
      "Sort values: [1739470001885, 'doc_13']\n",
      "\n",
      "ID: doc_14\n",
      "Sort values: [1739469941885, 'doc_14']\n",
      "\n",
      "ID: doc_15\n",
      "Sort values: [1739469881885, 'doc_15']\n",
      "\n",
      "ID: doc_16\n",
      "Sort values: [1739469821885, 'doc_16']\n",
      "\n",
      "ID: doc_17\n",
      "Sort values: [1739469761885, 'doc_17']\n",
      "\n",
      "ID: doc_18\n",
      "Sort values: [1739469701885, 'doc_18']\n",
      "\n",
      "ID: doc_19\n",
      "Sort values: [1739469641885, 'doc_19']\n",
      "\n"
     ]
    }
   ],
   "source": [
    "response = es.search(\n",
    "    index=index_name,\n",
    "    body={\n",
    "        \"size\": 10,\n",
    "        \"sort\": [\n",
    "            {\"timestamp\": \"desc\"},\n",
    "            {\"id\": \"desc\"}\n",
    "        ],\n",
    "        \"search_after\": last_sort_values\n",
    "    }\n",
    ")\n",
    "\n",
    "hits = response['hits']['hits']\n",
    "for hit in hits:\n",
    "    print(f\"ID: {hit['_source']['id']}\")\n",
    "    print(f\"Sort values: {hit['sort']}\") # timestamp to jest i id, bo po tym sortuje\n",
    "    print()"
   ]
  },
  {
   "cell_type": "markdown",
   "id": "86bc6c81-51b8-477a-ba2c-71e501770f34",
   "metadata": {},
   "source": [
    "teraz możemy zrobić test, żeby sprawdzić która z metod jest lepsza/szybsza"
   ]
  },
  {
   "cell_type": "code",
   "execution_count": 90,
   "id": "07e8d871-27e7-48ea-a591-fcf8b0fc617c",
   "metadata": {},
   "outputs": [],
   "source": [
    "import time\n",
    "\n",
    "def test_from_size_pagination(es, index_name, page_size=100, max_pages=50):\n",
    "    timings = []\n",
    "\n",
    "    for page in range(max_pages):\n",
    "        start_time = time.time()\n",
    "\n",
    "        _ = es.search(\n",
    "        index=index_name,\n",
    "        body={\n",
    "        \"from\": page*page_size,\n",
    "        \"size\": page_size,\n",
    "        \"sort\": [\n",
    "            {\"timestamp\": \"desc\"},\n",
    "            {\"id\": \"desc\"}\n",
    "        ]\n",
    "        }\n",
    "        )\n",
    "\n",
    "        end_time = time.time()\n",
    "        final_time = (end_time - start_time) * 1000\n",
    "        timings.append((page+1, final_time))\n",
    "    return timings"
   ]
  },
  {
   "cell_type": "code",
   "execution_count": 91,
   "id": "fe108182-fbd0-4dcf-a085-9b81a56eea54",
   "metadata": {},
   "outputs": [],
   "source": [
    "from_size_timings = test_from_size_pagination(\n",
    "    es=es,\n",
    "    index_name=index_name,\n",
    "    page_size=200,\n",
    "    max_pages=50\n",
    ")"
   ]
  },
  {
   "cell_type": "code",
   "execution_count": 93,
   "id": "773bd775-8d9d-4f43-92a4-2a99db7afe0f",
   "metadata": {},
   "outputs": [],
   "source": [
    "def test_search_after_pagination(es, index_name, page_size=100, max_pages=50):\n",
    "    timings = []\n",
    "    search_after = None\n",
    "\n",
    "    for page in range(max_pages):\n",
    "        start_time = time.time()\n",
    "\n",
    "        body = {\n",
    "            \"size\": page_size,\n",
    "            \"sort\": [\n",
    "                {\"timestamp\": \"desc\"},\n",
    "                {\"id\": \"desc\"}\n",
    "            ]\n",
    "        }\n",
    "\n",
    "        if search_after: # po pierwszej iteracji juz szukamy po czyms\n",
    "            body['search_after'] = search_after\n",
    "\n",
    "        response = es.search(\n",
    "            index=index_name,\n",
    "            body=body\n",
    "        )\n",
    "\n",
    "        hits = response['hits']['hits'] # a to jest potrzebne, zeby wiedzialo po czym szukac\n",
    "        if hits:\n",
    "            search_after = hits[-1]['sort']\n",
    "\n",
    "        end_time = time.time()\n",
    "        final_time = (end_time - start_time) * 1000\n",
    "        timings.append((page+1, final_time))\n",
    "    return timings"
   ]
  },
  {
   "cell_type": "code",
   "execution_count": 95,
   "id": "166043a3-d706-47c3-b746-26d73b3300f3",
   "metadata": {},
   "outputs": [],
   "source": [
    "search_after_timings = test_search_after_pagination(\n",
    "    es, index_name, page_size=200, max_pages=50)"
   ]
  },
  {
   "cell_type": "code",
   "execution_count": 102,
   "id": "9f8cf8c2-858f-4d66-9b91-5c78e46784c8",
   "metadata": {},
   "outputs": [
    {
     "data": {
      "image/png": "[encoded data removed]",
      "text/plain": [
       "<Figure size 1200x600 with 1 Axes>"
      ]
     },
     "metadata": {},
     "output_type": "display_data"
    }
   ],
   "source": [
    "import matplotlib.pyplot as plt\n",
    "\n",
    "def plot_comparison(from_size_timings, search_after_timings):\n",
    "    plt.figure(figsize=(12, 6))\n",
    "\n",
    "    pages_from_size, times_from_size = zip(*from_size_timings) # to rozpakowuje krotki zeby bylo spoko\n",
    "    pages_search_after, times_search_after = zip(*search_after_timings)\n",
    "\n",
    "    plt.plot(pages_from_size, times_from_size, 'b-', label='from/size')\n",
    "    plt.plot(pages_search_after, times_search_after, 'g-', label='search_after')\n",
    "\n",
    "    plt.xlabel('Page number')\n",
    "    plt.ylabel('Response time (miliseconds)')\n",
    "    plt.title('Pagination performance comparison')\n",
    "    plt.legend()\n",
    "    plt.grid(True)\n",
    "    plt.show()\n",
    "\n",
    "plot_comparison(from_size_timings, search_after_timings)    "
   ]
  },
  {
   "cell_type": "markdown",
   "id": "a81d1d98-0c1c-4235-8124-48c2fb530846",
   "metadata": {},
   "source": [
    "Z wykresu ewidentnie wynika, że search_after jest bardziej wydajne"
   ]
  },
  {
   "cell_type": "code",
   "execution_count": 103,
   "id": "e53eab16-fb76-4ee6-9097-89d361be22dd",
   "metadata": {},
   "outputs": [
    {
     "name": "stdout",
     "output_type": "stream",
     "text": [
      "\n",
      "Performance statistics:\n",
      "\n",
      "- From/Size pagination:\n",
      "Average time: 29.700 milliseconds\n",
      "Maximum time: 141.897 milliseconds\n",
      "Minimum time: 16.830 milliseconds\n",
      "\n",
      "- Search after pagination:\n",
      "Average time: 9.162 milliseconds\n",
      "Maximum time: 11.286 milliseconds\n",
      "Minimum time: 7.210 milliseconds\n"
     ]
    }
   ],
   "source": [
    "def calculate_stats(from_size_timings, search_after_timings):\n",
    "    _, times_from_size = zip(*from_size_timings)\n",
    "    _, times_search_after = zip(*search_after_timings)\n",
    "\n",
    "    stats = {\n",
    "        'from_size': {\n",
    "            'avg_time': sum(times_from_size) / len(times_from_size),\n",
    "            'max_time': max(times_from_size),\n",
    "            'min_time': min(times_from_size)\n",
    "        },\n",
    "        'search_after': {\n",
    "            'avg_time': sum(times_search_after) / len(times_search_after),\n",
    "            'max_time': max(times_search_after),\n",
    "            'min_time': min(times_search_after)\n",
    "        }\n",
    "    }\n",
    "    return stats\n",
    "\n",
    "\n",
    "stats = calculate_stats(from_size_timings, search_after_timings)\n",
    "\n",
    "print(\"\\nPerformance statistics:\")\n",
    "print(\"\\n- From/Size pagination:\")\n",
    "print(f\"Average time: {stats['from_size']['avg_time']:.3f} milliseconds\")\n",
    "print(f\"Maximum time: {stats['from_size']['max_time']:.3f} milliseconds\")\n",
    "print(f\"Minimum time: {stats['from_size']['min_time']:.3f} milliseconds\")\n",
    "\n",
    "print(\"\\n- Search after pagination:\")\n",
    "print(f\"Average time: {stats['search_after']['avg_time']:.3f} milliseconds\")\n",
    "print(f\"Maximum time: {stats['search_after']['max_time']:.3f} milliseconds\")\n",
    "print(f\"Minimum time: {stats['search_after']['min_time']:.3f} milliseconds\")"
   ]
  },
  {
   "cell_type": "code",
   "execution_count": 104,
   "id": "7ac87d50-6c52-4328-a47b-2adde427fa12",
   "metadata": {},
   "outputs": [
    {
     "data": {
      "image/png": "[encoded data removed]",
      "text/plain": [
       "<Figure size 1200x600 with 1 Axes>"
      ]
     },
     "metadata": {},
     "output_type": "display_data"
    }
   ],
   "source": [
    "plt.figure(figsize=(12, 6))\n",
    "_, times_from_size = zip(*from_size_timings)\n",
    "_, times_search_after = zip(*search_after_timings)\n",
    "\n",
    "plt.hist(times_from_size, alpha=0.5, label='from/size', bins=20)\n",
    "plt.hist(times_search_after, alpha=0.5, label='search_after', bins=20)\n",
    "plt.xlabel('Response time (milliseconds)')\n",
    "plt.ylabel('Frequency')\n",
    "plt.title('Distribution of response times')\n",
    "plt.legend()\n",
    "plt.grid(True)\n",
    "plt.show()"
   ]
  },
  {
   "cell_type": "markdown",
   "id": "d42f56b7-9a4f-476d-bf68-045f7ec0351e",
   "metadata": {},
   "source": [
    "### Ingest Pipelines\n",
    "\n",
    "tworzymy sobie pipeline"
   ]
  },
  {
   "cell_type": "code",
   "execution_count": 4,
   "id": "c49ced99-ba6a-4a10-820e-ee600e21352a",
   "metadata": {},
   "outputs": [
    {
     "name": "stdout",
     "output_type": "stream",
     "text": [
      "{'acknowledged': True}\n"
     ]
    }
   ],
   "source": [
    "response = es.ingest.put_pipeline(\n",
    "    id='lowercase_pipeline',\n",
    "    description='This pipeline trasnforms the text to lowercase',\n",
    "    processors = [\n",
    "        {\n",
    "            \"lowercase\": {\n",
    "                \"field\": \"text\"\n",
    "            }\n",
    "        }\n",
    "    ]\n",
    ")\n",
    "pprint(response.body)"
   ]
  },
  {
   "cell_type": "markdown",
   "id": "4e953205-1b4e-47a6-bef7-d038b9b06bdc",
   "metadata": {},
   "source": [
    "teraz chcemy je dostac"
   ]
  },
  {
   "cell_type": "code",
   "execution_count": 5,
   "id": "22da8caf-b745-4f39-a5c5-2fb2f84df984",
   "metadata": {},
   "outputs": [
    {
     "name": "stdout",
     "output_type": "stream",
     "text": [
      "{'lowercase_pipeline': {'description': 'This pipeline trasnforms the text to '\n",
      "                                       'lowercase',\n",
      "                        'processors': [{'lowercase': {'field': 'text'}}]}}\n"
     ]
    }
   ],
   "source": [
    "response = es.ingest.get_pipeline(id='lowercase_pipeline')\n",
    "pprint(response.body)"
   ]
  },
  {
   "cell_type": "markdown",
   "id": "9da29846-93c2-4877-a4b8-9edc05ac6ded",
   "metadata": {},
   "source": [
    "Oczywiście w podobny sposób można je usunąć, ale to wiadomo \n",
    "\n",
    "Teraz chcemy **simulate pipeline**"
   ]
  },
  {
   "cell_type": "code",
   "execution_count": 8,
   "id": "067158f0-23bc-478a-99a3-11d14d95a30a",
   "metadata": {},
   "outputs": [
    {
     "name": "stdout",
     "output_type": "stream",
     "text": [
      "{'docs': [{'doc': {'_id': '1',\n",
      "                   '_index': 'my_index',\n",
      "                   '_ingest': {'timestamp': '2025-02-13T21:35:30.829397998Z'},\n",
      "                   '_source': {'text': 'hello world'},\n",
      "                   '_version': '-3'}}]}\n"
     ]
    }
   ],
   "source": [
    "response = es.ingest.simulate(\n",
    "    id='lowercase_pipeline',\n",
    "    docs=[\n",
    "        {\n",
    "            \"_index\": \"my_index\", # to nie ma znaczenia\n",
    "            \"_id\": \"1\", # to tez, bo to tylko testy\n",
    "            \"_source\": {\n",
    "                \"text\": \"HELLO WORLD\"\n",
    "            }\n",
    "        }\n",
    "    ]\n",
    ")\n",
    "\n",
    "pprint(response.body)"
   ]
  },
  {
   "cell_type": "markdown",
   "id": "ab5612cd-ce3c-46c6-83e5-e1bfc452dff4",
   "metadata": {},
   "source": [
    "widac, że działa więc spoko\n",
    "\n",
    "teraz możemy **use the pipeline**"
   ]
  },
  {
   "cell_type": "code",
   "execution_count": 11,
   "id": "7b29f7e1-220b-4bbb-9cb9-b3dd55b18a9c",
   "metadata": {},
   "outputs": [
    {
     "data": {
      "text/plain": [
       "[{'title': 'Sample Title 1',\n",
       "  'text': 'THIS IS THE FIRST SAMPLE DOCUMENT TEXT.',\n",
       "  'created_on': '2025-02-12'},\n",
       " {'title': 'Sample Title 2',\n",
       "  'text': 'HERE IS ANOTHER EXAMPLE OF A DOCUMENT.',\n",
       "  'created_on': '2025-02-13'},\n",
       " {'title': 'Sample Title 3',\n",
       "  'text': 'THE CONTENT OF THE THIRD DOCUMENT GOES HERE.',\n",
       "  'created_on': '2025-02-14'}]"
      ]
     },
     "execution_count": 11,
     "metadata": {},
     "output_type": "execute_result"
    }
   ],
   "source": [
    "import json\n",
    "\n",
    "dummy_data = json.load(open('dummy_data.json'))\n",
    "for i, document in enumerate(dummy_data):\n",
    "    uppercased_text = document['text'].upper()\n",
    "    document['text'] = uppercased_text\n",
    "    dummy_data[i] = document\n",
    "\n",
    "dummy_data"
   ]
  },
  {
   "cell_type": "code",
   "execution_count": 12,
   "id": "d53d10ca-3aa5-4a8b-ae08-1a1630eab5fc",
   "metadata": {},
   "outputs": [
    {
     "data": {
      "text/plain": [
       "ObjectApiResponse({'acknowledged': True, 'shards_acknowledged': True, 'index': 'my_index'})"
      ]
     },
     "execution_count": 12,
     "metadata": {},
     "output_type": "execute_result"
    }
   ],
   "source": [
    "es.indices.delete(index='my_index', ignore_unavailable=True)\n",
    "es.indices.create(index='my_index')"
   ]
  },
  {
   "cell_type": "markdown",
   "id": "51ce1749-77eb-4572-82dd-288287473648",
   "metadata": {},
   "source": [
    "wiadomo, dodajemy dokumenty do indeksu"
   ]
  },
  {
   "cell_type": "code",
   "execution_count": 14,
   "id": "48e956ea-cd51-4e0d-b6d5-1dd184e72193",
   "metadata": {},
   "outputs": [
    {
     "name": "stdout",
     "output_type": "stream",
     "text": [
      "{'errors': False,\n",
      " 'ingest_took': 7,\n",
      " 'items': [{'index': {'_id': '65tCAZUBZ5uxMwOLk5Pb',\n",
      "                      '_index': 'my_index',\n",
      "                      '_primary_term': 1,\n",
      "                      '_seq_no': 3,\n",
      "                      '_shards': {'failed': 0, 'successful': 1, 'total': 2},\n",
      "                      '_version': 1,\n",
      "                      'result': 'created',\n",
      "                      'status': 201}},\n",
      "           {'index': {'_id': '7JtCAZUBZ5uxMwOLk5Pb',\n",
      "                      '_index': 'my_index',\n",
      "                      '_primary_term': 1,\n",
      "                      '_seq_no': 4,\n",
      "                      '_shards': {'failed': 0, 'successful': 1, 'total': 2},\n",
      "                      '_version': 1,\n",
      "                      'result': 'created',\n",
      "                      'status': 201}},\n",
      "           {'index': {'_id': '7ZtCAZUBZ5uxMwOLk5Pb',\n",
      "                      '_index': 'my_index',\n",
      "                      '_primary_term': 1,\n",
      "                      '_seq_no': 5,\n",
      "                      '_shards': {'failed': 0, 'successful': 1, 'total': 2},\n",
      "                      '_version': 1,\n",
      "                      'result': 'created',\n",
      "                      'status': 201}}],\n",
      " 'took': 36059173}\n"
     ]
    }
   ],
   "source": [
    "operations = []\n",
    "for document in dummy_data:\n",
    "    operations.append({'index': {'_index': 'my_index'}})\n",
    "    operations.append(document)\n",
    "\n",
    "response = es.bulk(operations=operations, pipeline='lowercase_pipeline')\n",
    "# teraz dodaliśmy nasze dane do indeksu przez pipeline przy okazji, wiec spoko\n",
    "pprint(response.body)"
   ]
  },
  {
   "cell_type": "code",
   "execution_count": 15,
   "id": "b28ef224-dd5f-4c54-a372-eead533f6eb6",
   "metadata": {},
   "outputs": [
    {
     "name": "stdout",
     "output_type": "stream",
     "text": [
      "{'title': 'Sample Title 1', 'created_on': '2025-02-12', 'text': 'this is the first sample document text.'}\n",
      "{'title': 'Sample Title 2', 'created_on': '2025-02-13', 'text': 'here is another example of a document.'}\n",
      "{'title': 'Sample Title 3', 'created_on': '2025-02-14', 'text': 'the content of the third document goes here.'}\n",
      "{'title': 'Sample Title 1', 'created_on': '2025-02-12', 'text': 'this is the first sample document text.'}\n",
      "{'title': 'Sample Title 2', 'created_on': '2025-02-13', 'text': 'here is another example of a document.'}\n",
      "{'title': 'Sample Title 3', 'created_on': '2025-02-14', 'text': 'the content of the third document goes here.'}\n"
     ]
    }
   ],
   "source": [
    "response = es.search(index='my_index')\n",
    "hits = response.body['hits']['hits']\n",
    "\n",
    "for hit in hits:\n",
    "    print(hit['_source'])"
   ]
  },
  {
   "cell_type": "markdown",
   "id": "7f2465a3-ebff-492e-b269-f0e9d1290d6b",
   "metadata": {},
   "source": [
    "**handling the failure**"
   ]
  },
  {
   "cell_type": "code",
   "execution_count": 16,
   "id": "e1706143-ffae-4a5e-adae-f0eece0254e3",
   "metadata": {},
   "outputs": [
    {
     "name": "stdout",
     "output_type": "stream",
     "text": [
      "{'acknowledged': True}\n"
     ]
    }
   ],
   "source": [
    "response = es.ingest.put_pipeline(\n",
    "    id='pipeline_2',\n",
    "    description='Pipeline with multiple transformations, handling and ignoring failures',\n",
    "    processors=[\n",
    "        {\n",
    "            \"lowercase\": {\n",
    "                \"field\": \"text\",\n",
    "                \"on_failure\": [\n",
    "                    {\n",
    "                        \"set\": {\n",
    "                            \"field\": \"text\",\n",
    "                            \"value\": \"FAILED TO LOWERCASE\",\n",
    "                            \"ignore_failure\": True,\n",
    "                        }\n",
    "                    }\n",
    "                ]\n",
    "            }\n",
    "        },\n",
    "        {\n",
    "            \"set\": {\n",
    "                \"field\": \"new_field\",\n",
    "                \"value\": \"ADDED BY PIPELINE\",\n",
    "                \"ignore_failure\": True,\n",
    "            }\n",
    "        },\n",
    "    ]\n",
    ")\n",
    "pprint(response.body)"
   ]
  },
  {
   "cell_type": "code",
   "execution_count": 17,
   "id": "e5f17d51-0160-44ab-9d66-571fdf81d39d",
   "metadata": {},
   "outputs": [
    {
     "name": "stdout",
     "output_type": "stream",
     "text": [
      "{'_id': '7ptRAZUBZ5uxMwOLW5Nd',\n",
      " '_index': 'my_index',\n",
      " '_primary_term': 1,\n",
      " '_seq_no': 6,\n",
      " '_shards': {'failed': 0, 'successful': 1, 'total': 2},\n",
      " '_version': 1,\n",
      " 'result': 'created'}\n"
     ]
    }
   ],
   "source": [
    "document = {\n",
    "    'title': 'Sample Title 4',\n",
    "    'created_on': '2024-09-25',\n",
    "}\n",
    "\n",
    "response = es.index(\n",
    "    index='my_index',\n",
    "    pipeline='pipeline_2',\n",
    "    body=document\n",
    ")\n",
    "pprint(response.body)"
   ]
  },
  {
   "cell_type": "code",
   "execution_count": 18,
   "id": "52894fc2-f44e-4d8e-a1a1-5e718f15848f",
   "metadata": {},
   "outputs": [
    {
     "name": "stdout",
     "output_type": "stream",
     "text": [
      "{'title': 'Sample Title 1', 'created_on': '2025-02-12', 'text': 'this is the first sample document text.'}\n",
      "{'title': 'Sample Title 2', 'created_on': '2025-02-13', 'text': 'here is another example of a document.'}\n",
      "{'title': 'Sample Title 3', 'created_on': '2025-02-14', 'text': 'the content of the third document goes here.'}\n",
      "{'title': 'Sample Title 1', 'created_on': '2025-02-12', 'text': 'this is the first sample document text.'}\n",
      "{'title': 'Sample Title 2', 'created_on': '2025-02-13', 'text': 'here is another example of a document.'}\n",
      "{'title': 'Sample Title 3', 'created_on': '2025-02-14', 'text': 'the content of the third document goes here.'}\n",
      "{'text': 'FAILED TO LOWERCASE', 'title': 'Sample Title 4', 'created_on': '2024-09-25', 'new_field': 'ADDED BY PIPELINE'}\n"
     ]
    }
   ],
   "source": [
    "response = es.search(index='my_index')\n",
    "hits = response.body['hits']['hits']\n",
    "for hit in hits:\n",
    "    print(hit['_source'])"
   ]
  },
  {
   "cell_type": "markdown",
   "id": "1d24d20a-6616-47f6-837f-455757d7f57e",
   "metadata": {},
   "source": [
    "### Ingest processors\n",
    "\n",
    "Stwórzmy sb jakiś dokument najpierw"
   ]
  },
  {
   "cell_type": "code",
   "execution_count": 9,
   "id": "7f12fb8c-58f7-4aa0-a6ad-93d2cd2d498c",
   "metadata": {},
   "outputs": [],
   "source": [
    "document = {\n",
    "    \"price\": \"100.50\",\n",
    "    \"old_name\": \"old_value\",\n",
    "    \"description\": \"<p>This is a description with HTML.<p>\",\n",
    "    \"username\": \"UserNAME\",\n",
    "    \"category\": \"books\",\n",
    "    \"title\": \"Example Title with Whitespace    \",\n",
    "    \"tags\": \"tag1,tag2,tag3\",\n",
    "    \"temporary_field\": \"This field should be removed\"\n",
    "}"
   ]
  },
  {
   "cell_type": "markdown",
   "id": "938de4d7-644c-4061-b779-799e872f55f4",
   "metadata": {},
   "source": [
    "teraz stworzmy pipeline"
   ]
  },
  {
   "cell_type": "code",
   "execution_count": 10,
   "id": "4d138b64-dae8-4b86-8b11-5c2b0aaefdec",
   "metadata": {},
   "outputs": [
    {
     "name": "stdout",
     "output_type": "stream",
     "text": [
      "Pipeline multi_steps_pipeline created succesfully!\n"
     ]
    }
   ],
   "source": [
    "pipeline_body = {\n",
    "    \"description\": \"Pipeline to demonstrate various ingest processors\",\n",
    "    \"processors\": [\n",
    "    {\n",
    "        \"convert\": {\n",
    "            \"field\": \"price\",\n",
    "            \"type\": \"float\",\n",
    "            \"ignore_missing\": True\n",
    "        }\n",
    "    },\n",
    "    {\n",
    "        \"rename\": {\n",
    "            \"field\": \"old_name\",\n",
    "            \"target_field\": \"new_name\"\n",
    "        }\n",
    "    },\n",
    "    {\n",
    "        \"set\": {\n",
    "            \"field\": \"status\",\n",
    "            \"value\": \"active\"\n",
    "        }\n",
    "    },\n",
    "    {\n",
    "        \"html_strip\": {\n",
    "            \"field\": \"description\"\n",
    "        }\n",
    "    },\n",
    "    {\n",
    "        \"lowercase\": {\n",
    "            \"field\": \"username\"\n",
    "        }\n",
    "    },\n",
    "    {\n",
    "        \"uppercase\": {\n",
    "            \"field\": \"category\"\n",
    "        }\n",
    "    },\n",
    "    {\n",
    "        \"trim\": {\n",
    "            \"field\": \"title\"\n",
    "        }\n",
    "    },\n",
    "    {\n",
    "        \"split\": {\n",
    "            \"field\": \"tags\",\n",
    "            \"separator\": \",\"\n",
    "        }\n",
    "    },\n",
    "    {\n",
    "        \"remove\": {\n",
    "            \"field\": \"temporary_field\"\n",
    "        }\n",
    "    },\n",
    "    {\n",
    "        \"append\": {\n",
    "            \"field\": \"tags\",\n",
    "            \"value\": [\"new_tag\"]\n",
    "        }\n",
    "    }\n",
    "    ]\n",
    "}\n",
    "\n",
    "            \n",
    "pipeline_id = \"multi_steps_pipeline\"\n",
    "es.ingest.put_pipeline(id=pipeline_id, body=pipeline_body)\n",
    "print(f'Pipeline {pipeline_id} created succesfully!')"
   ]
  },
  {
   "cell_type": "code",
   "execution_count": 11,
   "id": "e6bfd43c-4b54-433f-9efd-3153e8814c39",
   "metadata": {},
   "outputs": [
    {
     "name": "stdout",
     "output_type": "stream",
     "text": [
      "{'_id': '6XkoBJUBgfO6oc4oIGLt',\n",
      " '_index': 'my_index',\n",
      " '_primary_term': 1,\n",
      " '_seq_no': 0,\n",
      " '_shards': {'failed': 0, 'successful': 1, 'total': 2},\n",
      " '_version': 1,\n",
      " 'result': 'created'}\n"
     ]
    }
   ],
   "source": [
    "es.indices.delete(index='my_index', ignore_unavailable=True)\n",
    "es.indices.create(index='my_index')\n",
    "\n",
    "response = es.index(index='my_index', document=document, pipeline=pipeline_id)\n",
    "pprint(response.body)"
   ]
  },
  {
   "cell_type": "code",
   "execution_count": 12,
   "id": "29669166-4424-42ad-80c9-7baa72ca2668",
   "metadata": {},
   "outputs": [
    {
     "name": "stdout",
     "output_type": "stream",
     "text": [
      "{'category': 'BOOKS',\n",
      " 'description': '\\nThis is a description with HTML.\\n',\n",
      " 'new_name': 'old_value',\n",
      " 'price': 100.5,\n",
      " 'status': 'active',\n",
      " 'tags': ['tag1', 'tag2', 'tag3', 'new_tag'],\n",
      " 'title': 'Example Title with Whitespace',\n",
      " 'username': 'username'}\n"
     ]
    }
   ],
   "source": [
    "response = es.search(index='my_index')\n",
    "hits = response.body['hits']['hits']\n",
    "\n",
    "for hit in hits:\n",
    "    pprint(hit['_source'])"
   ]
  },
  {
   "cell_type": "markdown",
   "id": "eeffc6ae-d77b-439b-b35d-0cdf1f4268ea",
   "metadata": {},
   "source": [
    "### Filters in depth\n",
    "\n",
    "najpierw wiadomo, trzeba dodać dane"
   ]
  },
  {
   "cell_type": "code",
   "execution_count": 13,
   "id": "5ed1758b-f281-4e0e-99cb-d32026842459",
   "metadata": {},
   "outputs": [
    {
     "name": "stdout",
     "output_type": "stream",
     "text": [
      "{'errors': False,\n",
      " 'items': [{'index': {'_id': '6nlWBJUBgfO6oc4oBGL0',\n",
      "                      '_index': 'my_index',\n",
      "                      '_primary_term': 1,\n",
      "                      '_seq_no': 0,\n",
      "                      '_shards': {'failed': 0, 'successful': 1, 'total': 2},\n",
      "                      '_version': 1,\n",
      "                      'result': 'created',\n",
      "                      'status': 201}},\n",
      "           {'index': {'_id': '63lWBJUBgfO6oc4oBGL0',\n",
      "                      '_index': 'my_index',\n",
      "                      '_primary_term': 1,\n",
      "                      '_seq_no': 1,\n",
      "                      '_shards': {'failed': 0, 'successful': 1, 'total': 2},\n",
      "                      '_version': 1,\n",
      "                      'result': 'created',\n",
      "                      'status': 201}},\n",
      "           {'index': {'_id': '7HlWBJUBgfO6oc4oBGL0',\n",
      "                      '_index': 'my_index',\n",
      "                      '_primary_term': 1,\n",
      "                      '_seq_no': 2,\n",
      "                      '_shards': {'failed': 0, 'successful': 1, 'total': 2},\n",
      "                      '_version': 1,\n",
      "                      'result': 'created',\n",
      "                      'status': 201}},\n",
      "           {'index': {'_id': '7XlWBJUBgfO6oc4oBGL0',\n",
      "                      '_index': 'my_index',\n",
      "                      '_primary_term': 1,\n",
      "                      '_seq_no': 3,\n",
      "                      '_shards': {'failed': 0, 'successful': 1, 'total': 2},\n",
      "                      '_version': 1,\n",
      "                      'result': 'created',\n",
      "                      'status': 201}},\n",
      "           {'index': {'_id': '7nlWBJUBgfO6oc4oBGL0',\n",
      "                      '_index': 'my_index',\n",
      "                      '_primary_term': 1,\n",
      "                      '_seq_no': 4,\n",
      "                      '_shards': {'failed': 0, 'successful': 1, 'total': 2},\n",
      "                      '_version': 1,\n",
      "                      'result': 'created',\n",
      "                      'status': 201}},\n",
      "           {'index': {'_id': '73lWBJUBgfO6oc4oBGL0',\n",
      "                      '_index': 'my_index',\n",
      "                      '_primary_term': 1,\n",
      "                      '_seq_no': 5,\n",
      "                      '_shards': {'failed': 0, 'successful': 1, 'total': 2},\n",
      "                      '_version': 1,\n",
      "                      'result': 'created',\n",
      "                      'status': 201}},\n",
      "           {'index': {'_id': '8HlWBJUBgfO6oc4oBGL0',\n",
      "                      '_index': 'my_index',\n",
      "                      '_primary_term': 1,\n",
      "                      '_seq_no': 6,\n",
      "                      '_shards': {'failed': 0, 'successful': 1, 'total': 2},\n",
      "                      '_version': 1,\n",
      "                      'result': 'created',\n",
      "                      'status': 201}},\n",
      "           {'index': {'_id': '8XlWBJUBgfO6oc4oBGL0',\n",
      "                      '_index': 'my_index',\n",
      "                      '_primary_term': 1,\n",
      "                      '_seq_no': 7,\n",
      "                      '_shards': {'failed': 0, 'successful': 1, 'total': 2},\n",
      "                      '_version': 1,\n",
      "                      'result': 'created',\n",
      "                      'status': 201}},\n",
      "           {'index': {'_id': '8nlWBJUBgfO6oc4oBGL0',\n",
      "                      '_index': 'my_index',\n",
      "                      '_primary_term': 1,\n",
      "                      '_seq_no': 8,\n",
      "                      '_shards': {'failed': 0, 'successful': 1, 'total': 2},\n",
      "                      '_version': 1,\n",
      "                      'result': 'created',\n",
      "                      'status': 201}},\n",
      "           {'index': {'_id': '83lWBJUBgfO6oc4oBGL0',\n",
      "                      '_index': 'my_index',\n",
      "                      '_primary_term': 1,\n",
      "                      '_seq_no': 9,\n",
      "                      '_shards': {'failed': 0, 'successful': 1, 'total': 2},\n",
      "                      '_version': 1,\n",
      "                      'result': 'created',\n",
      "                      'status': 201}},\n",
      "           {'index': {'_id': '9HlWBJUBgfO6oc4oBGL0',\n",
      "                      '_index': 'my_index',\n",
      "                      '_primary_term': 1,\n",
      "                      '_seq_no': 10,\n",
      "                      '_shards': {'failed': 0, 'successful': 1, 'total': 2},\n",
      "                      '_version': 1,\n",
      "                      'result': 'created',\n",
      "                      'status': 201}},\n",
      "           {'index': {'_id': '9XlWBJUBgfO6oc4oBGL0',\n",
      "                      '_index': 'my_index',\n",
      "                      '_primary_term': 1,\n",
      "                      '_seq_no': 11,\n",
      "                      '_shards': {'failed': 0, 'successful': 1, 'total': 2},\n",
      "                      '_version': 1,\n",
      "                      'result': 'created',\n",
      "                      'status': 201}},\n",
      "           {'index': {'_id': '9nlWBJUBgfO6oc4oBGL0',\n",
      "                      '_index': 'my_index',\n",
      "                      '_primary_term': 1,\n",
      "                      '_seq_no': 12,\n",
      "                      '_shards': {'failed': 0, 'successful': 1, 'total': 2},\n",
      "                      '_version': 1,\n",
      "                      'result': 'created',\n",
      "                      'status': 201}},\n",
      "           {'index': {'_id': '93lWBJUBgfO6oc4oBGL0',\n",
      "                      '_index': 'my_index',\n",
      "                      '_primary_term': 1,\n",
      "                      '_seq_no': 13,\n",
      "                      '_shards': {'failed': 0, 'successful': 1, 'total': 2},\n",
      "                      '_version': 1,\n",
      "                      'result': 'created',\n",
      "                      'status': 201}},\n",
      "           {'index': {'_id': '-HlWBJUBgfO6oc4oBGL0',\n",
      "                      '_index': 'my_index',\n",
      "                      '_primary_term': 1,\n",
      "                      '_seq_no': 14,\n",
      "                      '_shards': {'failed': 0, 'successful': 1, 'total': 2},\n",
      "                      '_version': 1,\n",
      "                      'result': 'created',\n",
      "                      'status': 201}},\n",
      "           {'index': {'_id': '-XlWBJUBgfO6oc4oBGL0',\n",
      "                      '_index': 'my_index',\n",
      "                      '_primary_term': 1,\n",
      "                      '_seq_no': 15,\n",
      "                      '_shards': {'failed': 0, 'successful': 1, 'total': 2},\n",
      "                      '_version': 1,\n",
      "                      'result': 'created',\n",
      "                      'status': 201}},\n",
      "           {'index': {'_id': '-nlWBJUBgfO6oc4oBGL0',\n",
      "                      '_index': 'my_index',\n",
      "                      '_primary_term': 1,\n",
      "                      '_seq_no': 16,\n",
      "                      '_shards': {'failed': 0, 'successful': 1, 'total': 2},\n",
      "                      '_version': 1,\n",
      "                      'result': 'created',\n",
      "                      'status': 201}},\n",
      "           {'index': {'_id': '-3lWBJUBgfO6oc4oBGL0',\n",
      "                      '_index': 'my_index',\n",
      "                      '_primary_term': 1,\n",
      "                      '_seq_no': 17,\n",
      "                      '_shards': {'failed': 0, 'successful': 1, 'total': 2},\n",
      "                      '_version': 1,\n",
      "                      'result': 'created',\n",
      "                      'status': 201}},\n",
      "           {'index': {'_id': '_HlWBJUBgfO6oc4oBGL1',\n",
      "                      '_index': 'my_index',\n",
      "                      '_primary_term': 1,\n",
      "                      '_seq_no': 18,\n",
      "                      '_shards': {'failed': 0, 'successful': 1, 'total': 2},\n",
      "                      '_version': 1,\n",
      "                      'result': 'created',\n",
      "                      'status': 201}},\n",
      "           {'index': {'_id': '_XlWBJUBgfO6oc4oBGL1',\n",
      "                      '_index': 'my_index',\n",
      "                      '_primary_term': 1,\n",
      "                      '_seq_no': 19,\n",
      "                      '_shards': {'failed': 0, 'successful': 1, 'total': 2},\n",
      "                      '_version': 1,\n",
      "                      'result': 'created',\n",
      "                      'status': 201}},\n",
      "           {'index': {'_id': '_nlWBJUBgfO6oc4oBGL1',\n",
      "                      '_index': 'my_index',\n",
      "                      '_primary_term': 1,\n",
      "                      '_seq_no': 20,\n",
      "                      '_shards': {'failed': 0, 'successful': 1, 'total': 2},\n",
      "                      '_version': 1,\n",
      "                      'result': 'created',\n",
      "                      'status': 201}},\n",
      "           {'index': {'_id': '_3lWBJUBgfO6oc4oBGL1',\n",
      "                      '_index': 'my_index',\n",
      "                      '_primary_term': 1,\n",
      "                      '_seq_no': 21,\n",
      "                      '_shards': {'failed': 0, 'successful': 1, 'total': 2},\n",
      "                      '_version': 1,\n",
      "                      'result': 'created',\n",
      "                      'status': 201}},\n",
      "           {'index': {'_id': 'AHlWBJUBgfO6oc4oBGP1',\n",
      "                      '_index': 'my_index',\n",
      "                      '_primary_term': 1,\n",
      "                      '_seq_no': 22,\n",
      "                      '_shards': {'failed': 0, 'successful': 1, 'total': 2},\n",
      "                      '_version': 1,\n",
      "                      'result': 'created',\n",
      "                      'status': 201}},\n",
      "           {'index': {'_id': 'AXlWBJUBgfO6oc4oBGP1',\n",
      "                      '_index': 'my_index',\n",
      "                      '_primary_term': 1,\n",
      "                      '_seq_no': 23,\n",
      "                      '_shards': {'failed': 0, 'successful': 1, 'total': 2},\n",
      "                      '_version': 1,\n",
      "                      'result': 'created',\n",
      "                      'status': 201}},\n",
      "           {'index': {'_id': 'AnlWBJUBgfO6oc4oBGP1',\n",
      "                      '_index': 'my_index',\n",
      "                      '_primary_term': 1,\n",
      "                      '_seq_no': 24,\n",
      "                      '_shards': {'failed': 0, 'successful': 1, 'total': 2},\n",
      "                      '_version': 1,\n",
      "                      'result': 'created',\n",
      "                      'status': 201}},\n",
      "           {'index': {'_id': 'A3lWBJUBgfO6oc4oBGP1',\n",
      "                      '_index': 'my_index',\n",
      "                      '_primary_term': 1,\n",
      "                      '_seq_no': 25,\n",
      "                      '_shards': {'failed': 0, 'successful': 1, 'total': 2},\n",
      "                      '_version': 1,\n",
      "                      'result': 'created',\n",
      "                      'status': 201}},\n",
      "           {'index': {'_id': 'BHlWBJUBgfO6oc4oBGP1',\n",
      "                      '_index': 'my_index',\n",
      "                      '_primary_term': 1,\n",
      "                      '_seq_no': 26,\n",
      "                      '_shards': {'failed': 0, 'successful': 1, 'total': 2},\n",
      "                      '_version': 1,\n",
      "                      'result': 'created',\n",
      "                      'status': 201}},\n",
      "           {'index': {'_id': 'BXlWBJUBgfO6oc4oBGP1',\n",
      "                      '_index': 'my_index',\n",
      "                      '_primary_term': 1,\n",
      "                      '_seq_no': 27,\n",
      "                      '_shards': {'failed': 0, 'successful': 1, 'total': 2},\n",
      "                      '_version': 1,\n",
      "                      'result': 'created',\n",
      "                      'status': 201}},\n",
      "           {'index': {'_id': 'BnlWBJUBgfO6oc4oBGP1',\n",
      "                      '_index': 'my_index',\n",
      "                      '_primary_term': 1,\n",
      "                      '_seq_no': 28,\n",
      "                      '_shards': {'failed': 0, 'successful': 1, 'total': 2},\n",
      "                      '_version': 1,\n",
      "                      'result': 'created',\n",
      "                      'status': 201}},\n",
      "           {'index': {'_id': 'B3lWBJUBgfO6oc4oBGP1',\n",
      "                      '_index': 'my_index',\n",
      "                      '_primary_term': 1,\n",
      "                      '_seq_no': 29,\n",
      "                      '_shards': {'failed': 0, 'successful': 1, 'total': 2},\n",
      "                      '_version': 1,\n",
      "                      'result': 'created',\n",
      "                      'status': 201}},\n",
      "           {'index': {'_id': 'CHlWBJUBgfO6oc4oBGP1',\n",
      "                      '_index': 'my_index',\n",
      "                      '_primary_term': 1,\n",
      "                      '_seq_no': 30,\n",
      "                      '_shards': {'failed': 0, 'successful': 1, 'total': 2},\n",
      "                      '_version': 1,\n",
      "                      'result': 'created',\n",
      "                      'status': 201}},\n",
      "           {'index': {'_id': 'CXlWBJUBgfO6oc4oBGP1',\n",
      "                      '_index': 'my_index',\n",
      "                      '_primary_term': 1,\n",
      "                      '_seq_no': 31,\n",
      "                      '_shards': {'failed': 0, 'successful': 1, 'total': 2},\n",
      "                      '_version': 1,\n",
      "                      'result': 'created',\n",
      "                      'status': 201}},\n",
      "           {'index': {'_id': 'CnlWBJUBgfO6oc4oBGP1',\n",
      "                      '_index': 'my_index',\n",
      "                      '_primary_term': 1,\n",
      "                      '_seq_no': 32,\n",
      "                      '_shards': {'failed': 0, 'successful': 1, 'total': 2},\n",
      "                      '_version': 1,\n",
      "                      'result': 'created',\n",
      "                      'status': 201}},\n",
      "           {'index': {'_id': 'C3lWBJUBgfO6oc4oBGP1',\n",
      "                      '_index': 'my_index',\n",
      "                      '_primary_term': 1,\n",
      "                      '_seq_no': 33,\n",
      "                      '_shards': {'failed': 0, 'successful': 1, 'total': 2},\n",
      "                      '_version': 1,\n",
      "                      'result': 'created',\n",
      "                      'status': 201}},\n",
      "           {'index': {'_id': 'DHlWBJUBgfO6oc4oBGP1',\n",
      "                      '_index': 'my_index',\n",
      "                      '_primary_term': 1,\n",
      "                      '_seq_no': 34,\n",
      "                      '_shards': {'failed': 0, 'successful': 1, 'total': 2},\n",
      "                      '_version': 1,\n",
      "                      'result': 'created',\n",
      "                      'status': 201}},\n",
      "           {'index': {'_id': 'DXlWBJUBgfO6oc4oBGP1',\n",
      "                      '_index': 'my_index',\n",
      "                      '_primary_term': 1,\n",
      "                      '_seq_no': 35,\n",
      "                      '_shards': {'failed': 0, 'successful': 1, 'total': 2},\n",
      "                      '_version': 1,\n",
      "                      'result': 'created',\n",
      "                      'status': 201}},\n",
      "           {'index': {'_id': 'DnlWBJUBgfO6oc4oBGP1',\n",
      "                      '_index': 'my_index',\n",
      "                      '_primary_term': 1,\n",
      "                      '_seq_no': 36,\n",
      "                      '_shards': {'failed': 0, 'successful': 1, 'total': 2},\n",
      "                      '_version': 1,\n",
      "                      'result': 'created',\n",
      "                      'status': 201}},\n",
      "           {'index': {'_id': 'D3lWBJUBgfO6oc4oBGP1',\n",
      "                      '_index': 'my_index',\n",
      "                      '_primary_term': 1,\n",
      "                      '_seq_no': 37,\n",
      "                      '_shards': {'failed': 0, 'successful': 1, 'total': 2},\n",
      "                      '_version': 1,\n",
      "                      'result': 'created',\n",
      "                      'status': 201}},\n",
      "           {'index': {'_id': 'EHlWBJUBgfO6oc4oBGP1',\n",
      "                      '_index': 'my_index',\n",
      "                      '_primary_term': 1,\n",
      "                      '_seq_no': 38,\n",
      "                      '_shards': {'failed': 0, 'successful': 1, 'total': 2},\n",
      "                      '_version': 1,\n",
      "                      'result': 'created',\n",
      "                      'status': 201}},\n",
      "           {'index': {'_id': 'EXlWBJUBgfO6oc4oBGP1',\n",
      "                      '_index': 'my_index',\n",
      "                      '_primary_term': 1,\n",
      "                      '_seq_no': 39,\n",
      "                      '_shards': {'failed': 0, 'successful': 1, 'total': 2},\n",
      "                      '_version': 1,\n",
      "                      'result': 'created',\n",
      "                      'status': 201}},\n",
      "           {'index': {'_id': 'EnlWBJUBgfO6oc4oBGP1',\n",
      "                      '_index': 'my_index',\n",
      "                      '_primary_term': 1,\n",
      "                      '_seq_no': 40,\n",
      "                      '_shards': {'failed': 0, 'successful': 1, 'total': 2},\n",
      "                      '_version': 1,\n",
      "                      'result': 'created',\n",
      "                      'status': 201}},\n",
      "           {'index': {'_id': 'E3lWBJUBgfO6oc4oBGP1',\n",
      "                      '_index': 'my_index',\n",
      "                      '_primary_term': 1,\n",
      "                      '_seq_no': 41,\n",
      "                      '_shards': {'failed': 0, 'successful': 1, 'total': 2},\n",
      "                      '_version': 1,\n",
      "                      'result': 'created',\n",
      "                      'status': 201}},\n",
      "           {'index': {'_id': 'FHlWBJUBgfO6oc4oBGP1',\n",
      "                      '_index': 'my_index',\n",
      "                      '_primary_term': 1,\n",
      "                      '_seq_no': 42,\n",
      "                      '_shards': {'failed': 0, 'successful': 1, 'total': 2},\n",
      "                      '_version': 1,\n",
      "                      'result': 'created',\n",
      "                      'status': 201}},\n",
      "           {'index': {'_id': 'FXlWBJUBgfO6oc4oBGP1',\n",
      "                      '_index': 'my_index',\n",
      "                      '_primary_term': 1,\n",
      "                      '_seq_no': 43,\n",
      "                      '_shards': {'failed': 0, 'successful': 1, 'total': 2},\n",
      "                      '_version': 1,\n",
      "                      'result': 'created',\n",
      "                      'status': 201}},\n",
      "           {'index': {'_id': 'FnlWBJUBgfO6oc4oBGP1',\n",
      "                      '_index': 'my_index',\n",
      "                      '_primary_term': 1,\n",
      "                      '_seq_no': 44,\n",
      "                      '_shards': {'failed': 0, 'successful': 1, 'total': 2},\n",
      "                      '_version': 1,\n",
      "                      'result': 'created',\n",
      "                      'status': 201}},\n",
      "           {'index': {'_id': 'F3lWBJUBgfO6oc4oBGP1',\n",
      "                      '_index': 'my_index',\n",
      "                      '_primary_term': 1,\n",
      "                      '_seq_no': 45,\n",
      "                      '_shards': {'failed': 0, 'successful': 1, 'total': 2},\n",
      "                      '_version': 1,\n",
      "                      'result': 'created',\n",
      "                      'status': 201}},\n",
      "           {'index': {'_id': 'GHlWBJUBgfO6oc4oBGP1',\n",
      "                      '_index': 'my_index',\n",
      "                      '_primary_term': 1,\n",
      "                      '_seq_no': 46,\n",
      "                      '_shards': {'failed': 0, 'successful': 1, 'total': 2},\n",
      "                      '_version': 1,\n",
      "                      'result': 'created',\n",
      "                      'status': 201}},\n",
      "           {'index': {'_id': 'GXlWBJUBgfO6oc4oBGP1',\n",
      "                      '_index': 'my_index',\n",
      "                      '_primary_term': 1,\n",
      "                      '_seq_no': 47,\n",
      "                      '_shards': {'failed': 0, 'successful': 1, 'total': 2},\n",
      "                      '_version': 1,\n",
      "                      'result': 'created',\n",
      "                      'status': 201}},\n",
      "           {'index': {'_id': 'GnlWBJUBgfO6oc4oBGP1',\n",
      "                      '_index': 'my_index',\n",
      "                      '_primary_term': 1,\n",
      "                      '_seq_no': 48,\n",
      "                      '_shards': {'failed': 0, 'successful': 1, 'total': 2},\n",
      "                      '_version': 1,\n",
      "                      'result': 'created',\n",
      "                      'status': 201}},\n",
      "           {'index': {'_id': 'G3lWBJUBgfO6oc4oBGP1',\n",
      "                      '_index': 'my_index',\n",
      "                      '_primary_term': 1,\n",
      "                      '_seq_no': 49,\n",
      "                      '_shards': {'failed': 0, 'successful': 1, 'total': 2},\n",
      "                      '_version': 1,\n",
      "                      'result': 'created',\n",
      "                      'status': 201}},\n",
      "           {'index': {'_id': 'HHlWBJUBgfO6oc4oBGP1',\n",
      "                      '_index': 'my_index',\n",
      "                      '_primary_term': 1,\n",
      "                      '_seq_no': 50,\n",
      "                      '_shards': {'failed': 0, 'successful': 1, 'total': 2},\n",
      "                      '_version': 1,\n",
      "                      'result': 'created',\n",
      "                      'status': 201}},\n",
      "           {'index': {'_id': 'HXlWBJUBgfO6oc4oBGP1',\n",
      "                      '_index': 'my_index',\n",
      "                      '_primary_term': 1,\n",
      "                      '_seq_no': 51,\n",
      "                      '_shards': {'failed': 0, 'successful': 1, 'total': 2},\n",
      "                      '_version': 1,\n",
      "                      'result': 'created',\n",
      "                      'status': 201}},\n",
      "           {'index': {'_id': 'HnlWBJUBgfO6oc4oBGP1',\n",
      "                      '_index': 'my_index',\n",
      "                      '_primary_term': 1,\n",
      "                      '_seq_no': 52,\n",
      "                      '_shards': {'failed': 0, 'successful': 1, 'total': 2},\n",
      "                      '_version': 1,\n",
      "                      'result': 'created',\n",
      "                      'status': 201}},\n",
      "           {'index': {'_id': 'H3lWBJUBgfO6oc4oBGP1',\n",
      "                      '_index': 'my_index',\n",
      "                      '_primary_term': 1,\n",
      "                      '_seq_no': 53,\n",
      "                      '_shards': {'failed': 0, 'successful': 1, 'total': 2},\n",
      "                      '_version': 1,\n",
      "                      'result': 'created',\n",
      "                      'status': 201}},\n",
      "           {'index': {'_id': 'IHlWBJUBgfO6oc4oBGP1',\n",
      "                      '_index': 'my_index',\n",
      "                      '_primary_term': 1,\n",
      "                      '_seq_no': 54,\n",
      "                      '_shards': {'failed': 0, 'successful': 1, 'total': 2},\n",
      "                      '_version': 1,\n",
      "                      'result': 'created',\n",
      "                      'status': 201}},\n",
      "           {'index': {'_id': 'IXlWBJUBgfO6oc4oBGP1',\n",
      "                      '_index': 'my_index',\n",
      "                      '_primary_term': 1,\n",
      "                      '_seq_no': 55,\n",
      "                      '_shards': {'failed': 0, 'successful': 1, 'total': 2},\n",
      "                      '_version': 1,\n",
      "                      'result': 'created',\n",
      "                      'status': 201}},\n",
      "           {'index': {'_id': 'InlWBJUBgfO6oc4oBGP1',\n",
      "                      '_index': 'my_index',\n",
      "                      '_primary_term': 1,\n",
      "                      '_seq_no': 56,\n",
      "                      '_shards': {'failed': 0, 'successful': 1, 'total': 2},\n",
      "                      '_version': 1,\n",
      "                      'result': 'created',\n",
      "                      'status': 201}},\n",
      "           {'index': {'_id': 'I3lWBJUBgfO6oc4oBGP1',\n",
      "                      '_index': 'my_index',\n",
      "                      '_primary_term': 1,\n",
      "                      '_seq_no': 57,\n",
      "                      '_shards': {'failed': 0, 'successful': 1, 'total': 2},\n",
      "                      '_version': 1,\n",
      "                      'result': 'created',\n",
      "                      'status': 201}},\n",
      "           {'index': {'_id': 'JHlWBJUBgfO6oc4oBGP1',\n",
      "                      '_index': 'my_index',\n",
      "                      '_primary_term': 1,\n",
      "                      '_seq_no': 58,\n",
      "                      '_shards': {'failed': 0, 'successful': 1, 'total': 2},\n",
      "                      '_version': 1,\n",
      "                      'result': 'created',\n",
      "                      'status': 201}},\n",
      "           {'index': {'_id': 'JXlWBJUBgfO6oc4oBGP1',\n",
      "                      '_index': 'my_index',\n",
      "                      '_primary_term': 1,\n",
      "                      '_seq_no': 59,\n",
      "                      '_shards': {'failed': 0, 'successful': 1, 'total': 2},\n",
      "                      '_version': 1,\n",
      "                      'result': 'created',\n",
      "                      'status': 201}},\n",
      "           {'index': {'_id': 'JnlWBJUBgfO6oc4oBGP1',\n",
      "                      '_index': 'my_index',\n",
      "                      '_primary_term': 1,\n",
      "                      '_seq_no': 60,\n",
      "                      '_shards': {'failed': 0, 'successful': 1, 'total': 2},\n",
      "                      '_version': 1,\n",
      "                      'result': 'created',\n",
      "                      'status': 201}},\n",
      "           {'index': {'_id': 'J3lWBJUBgfO6oc4oBGP1',\n",
      "                      '_index': 'my_index',\n",
      "                      '_primary_term': 1,\n",
      "                      '_seq_no': 61,\n",
      "                      '_shards': {'failed': 0, 'successful': 1, 'total': 2},\n",
      "                      '_version': 1,\n",
      "                      'result': 'created',\n",
      "                      'status': 201}},\n",
      "           {'index': {'_id': 'KHlWBJUBgfO6oc4oBGP1',\n",
      "                      '_index': 'my_index',\n",
      "                      '_primary_term': 1,\n",
      "                      '_seq_no': 62,\n",
      "                      '_shards': {'failed': 0, 'successful': 1, 'total': 2},\n",
      "                      '_version': 1,\n",
      "                      'result': 'created',\n",
      "                      'status': 201}},\n",
      "           {'index': {'_id': 'KXlWBJUBgfO6oc4oBGP1',\n",
      "                      '_index': 'my_index',\n",
      "                      '_primary_term': 1,\n",
      "                      '_seq_no': 63,\n",
      "                      '_shards': {'failed': 0, 'successful': 1, 'total': 2},\n",
      "                      '_version': 1,\n",
      "                      'result': 'created',\n",
      "                      'status': 201}},\n",
      "           {'index': {'_id': 'KnlWBJUBgfO6oc4oBGP1',\n",
      "                      '_index': 'my_index',\n",
      "                      '_primary_term': 1,\n",
      "                      '_seq_no': 64,\n",
      "                      '_shards': {'failed': 0, 'successful': 1, 'total': 2},\n",
      "                      '_version': 1,\n",
      "                      'result': 'created',\n",
      "                      'status': 201}},\n",
      "           {'index': {'_id': 'K3lWBJUBgfO6oc4oBGP1',\n",
      "                      '_index': 'my_index',\n",
      "                      '_primary_term': 1,\n",
      "                      '_seq_no': 65,\n",
      "                      '_shards': {'failed': 0, 'successful': 1, 'total': 2},\n",
      "                      '_version': 1,\n",
      "                      'result': 'created',\n",
      "                      'status': 201}},\n",
      "           {'index': {'_id': 'LHlWBJUBgfO6oc4oBGP1',\n",
      "                      '_index': 'my_index',\n",
      "                      '_primary_term': 1,\n",
      "                      '_seq_no': 66,\n",
      "                      '_shards': {'failed': 0, 'successful': 1, 'total': 2},\n",
      "                      '_version': 1,\n",
      "                      'result': 'created',\n",
      "                      'status': 201}},\n",
      "           {'index': {'_id': 'LXlWBJUBgfO6oc4oBGP1',\n",
      "                      '_index': 'my_index',\n",
      "                      '_primary_term': 1,\n",
      "                      '_seq_no': 67,\n",
      "                      '_shards': {'failed': 0, 'successful': 1, 'total': 2},\n",
      "                      '_version': 1,\n",
      "                      'result': 'created',\n",
      "                      'status': 201}},\n",
      "           {'index': {'_id': 'LnlWBJUBgfO6oc4oBGP1',\n",
      "                      '_index': 'my_index',\n",
      "                      '_primary_term': 1,\n",
      "                      '_seq_no': 68,\n",
      "                      '_shards': {'failed': 0, 'successful': 1, 'total': 2},\n",
      "                      '_version': 1,\n",
      "                      'result': 'created',\n",
      "                      'status': 201}},\n",
      "           {'index': {'_id': 'L3lWBJUBgfO6oc4oBGP1',\n",
      "                      '_index': 'my_index',\n",
      "                      '_primary_term': 1,\n",
      "                      '_seq_no': 69,\n",
      "                      '_shards': {'failed': 0, 'successful': 1, 'total': 2},\n",
      "                      '_version': 1,\n",
      "                      'result': 'created',\n",
      "                      'status': 201}},\n",
      "           {'index': {'_id': 'MHlWBJUBgfO6oc4oBGP1',\n",
      "                      '_index': 'my_index',\n",
      "                      '_primary_term': 1,\n",
      "                      '_seq_no': 70,\n",
      "                      '_shards': {'failed': 0, 'successful': 1, 'total': 2},\n",
      "                      '_version': 1,\n",
      "                      'result': 'created',\n",
      "                      'status': 201}},\n",
      "           {'index': {'_id': 'MXlWBJUBgfO6oc4oBGP1',\n",
      "                      '_index': 'my_index',\n",
      "                      '_primary_term': 1,\n",
      "                      '_seq_no': 71,\n",
      "                      '_shards': {'failed': 0, 'successful': 1, 'total': 2},\n",
      "                      '_version': 1,\n",
      "                      'result': 'created',\n",
      "                      'status': 201}},\n",
      "           {'index': {'_id': 'MnlWBJUBgfO6oc4oBGP1',\n",
      "                      '_index': 'my_index',\n",
      "                      '_primary_term': 1,\n",
      "                      '_seq_no': 72,\n",
      "                      '_shards': {'failed': 0, 'successful': 1, 'total': 2},\n",
      "                      '_version': 1,\n",
      "                      'result': 'created',\n",
      "                      'status': 201}},\n",
      "           {'index': {'_id': 'M3lWBJUBgfO6oc4oBGP1',\n",
      "                      '_index': 'my_index',\n",
      "                      '_primary_term': 1,\n",
      "                      '_seq_no': 73,\n",
      "                      '_shards': {'failed': 0, 'successful': 1, 'total': 2},\n",
      "                      '_version': 1,\n",
      "                      'result': 'created',\n",
      "                      'status': 201}},\n",
      "           {'index': {'_id': 'NHlWBJUBgfO6oc4oBGP1',\n",
      "                      '_index': 'my_index',\n",
      "                      '_primary_term': 1,\n",
      "                      '_seq_no': 74,\n",
      "                      '_shards': {'failed': 0, 'successful': 1, 'total': 2},\n",
      "                      '_version': 1,\n",
      "                      'result': 'created',\n",
      "                      'status': 201}},\n",
      "           {'index': {'_id': 'NXlWBJUBgfO6oc4oBGP1',\n",
      "                      '_index': 'my_index',\n",
      "                      '_primary_term': 1,\n",
      "                      '_seq_no': 75,\n",
      "                      '_shards': {'failed': 0, 'successful': 1, 'total': 2},\n",
      "                      '_version': 1,\n",
      "                      'result': 'created',\n",
      "                      'status': 201}},\n",
      "           {'index': {'_id': 'NnlWBJUBgfO6oc4oBGP1',\n",
      "                      '_index': 'my_index',\n",
      "                      '_primary_term': 1,\n",
      "                      '_seq_no': 76,\n",
      "                      '_shards': {'failed': 0, 'successful': 1, 'total': 2},\n",
      "                      '_version': 1,\n",
      "                      'result': 'created',\n",
      "                      'status': 201}},\n",
      "           {'index': {'_id': 'N3lWBJUBgfO6oc4oBGP1',\n",
      "                      '_index': 'my_index',\n",
      "                      '_primary_term': 1,\n",
      "                      '_seq_no': 77,\n",
      "                      '_shards': {'failed': 0, 'successful': 1, 'total': 2},\n",
      "                      '_version': 1,\n",
      "                      'result': 'created',\n",
      "                      'status': 201}},\n",
      "           {'index': {'_id': 'OHlWBJUBgfO6oc4oBGP1',\n",
      "                      '_index': 'my_index',\n",
      "                      '_primary_term': 1,\n",
      "                      '_seq_no': 78,\n",
      "                      '_shards': {'failed': 0, 'successful': 1, 'total': 2},\n",
      "                      '_version': 1,\n",
      "                      'result': 'created',\n",
      "                      'status': 201}},\n",
      "           {'index': {'_id': 'OXlWBJUBgfO6oc4oBGP1',\n",
      "                      '_index': 'my_index',\n",
      "                      '_primary_term': 1,\n",
      "                      '_seq_no': 79,\n",
      "                      '_shards': {'failed': 0, 'successful': 1, 'total': 2},\n",
      "                      '_version': 1,\n",
      "                      'result': 'created',\n",
      "                      'status': 201}},\n",
      "           {'index': {'_id': 'OnlWBJUBgfO6oc4oBGP1',\n",
      "                      '_index': 'my_index',\n",
      "                      '_primary_term': 1,\n",
      "                      '_seq_no': 80,\n",
      "                      '_shards': {'failed': 0, 'successful': 1, 'total': 2},\n",
      "                      '_version': 1,\n",
      "                      'result': 'created',\n",
      "                      'status': 201}},\n",
      "           {'index': {'_id': 'O3lWBJUBgfO6oc4oBGP1',\n",
      "                      '_index': 'my_index',\n",
      "                      '_primary_term': 1,\n",
      "                      '_seq_no': 81,\n",
      "                      '_shards': {'failed': 0, 'successful': 1, 'total': 2},\n",
      "                      '_version': 1,\n",
      "                      'result': 'created',\n",
      "                      'status': 201}},\n",
      "           {'index': {'_id': 'PHlWBJUBgfO6oc4oBGP1',\n",
      "                      '_index': 'my_index',\n",
      "                      '_primary_term': 1,\n",
      "                      '_seq_no': 82,\n",
      "                      '_shards': {'failed': 0, 'successful': 1, 'total': 2},\n",
      "                      '_version': 1,\n",
      "                      'result': 'created',\n",
      "                      'status': 201}},\n",
      "           {'index': {'_id': 'PXlWBJUBgfO6oc4oBGP1',\n",
      "                      '_index': 'my_index',\n",
      "                      '_primary_term': 1,\n",
      "                      '_seq_no': 83,\n",
      "                      '_shards': {'failed': 0, 'successful': 1, 'total': 2},\n",
      "                      '_version': 1,\n",
      "                      'result': 'created',\n",
      "                      'status': 201}},\n",
      "           {'index': {'_id': 'PnlWBJUBgfO6oc4oBGP1',\n",
      "                      '_index': 'my_index',\n",
      "                      '_primary_term': 1,\n",
      "                      '_seq_no': 84,\n",
      "                      '_shards': {'failed': 0, 'successful': 1, 'total': 2},\n",
      "                      '_version': 1,\n",
      "                      'result': 'created',\n",
      "                      'status': 201}},\n",
      "           {'index': {'_id': 'P3lWBJUBgfO6oc4oBGP1',\n",
      "                      '_index': 'my_index',\n",
      "                      '_primary_term': 1,\n",
      "                      '_seq_no': 85,\n",
      "                      '_shards': {'failed': 0, 'successful': 1, 'total': 2},\n",
      "                      '_version': 1,\n",
      "                      'result': 'created',\n",
      "                      'status': 201}},\n",
      "           {'index': {'_id': 'QHlWBJUBgfO6oc4oBGP1',\n",
      "                      '_index': 'my_index',\n",
      "                      '_primary_term': 1,\n",
      "                      '_seq_no': 86,\n",
      "                      '_shards': {'failed': 0, 'successful': 1, 'total': 2},\n",
      "                      '_version': 1,\n",
      "                      'result': 'created',\n",
      "                      'status': 201}},\n",
      "           {'index': {'_id': 'QXlWBJUBgfO6oc4oBGP1',\n",
      "                      '_index': 'my_index',\n",
      "                      '_primary_term': 1,\n",
      "                      '_seq_no': 87,\n",
      "                      '_shards': {'failed': 0, 'successful': 1, 'total': 2},\n",
      "                      '_version': 1,\n",
      "                      'result': 'created',\n",
      "                      'status': 201}},\n",
      "           {'index': {'_id': 'QnlWBJUBgfO6oc4oBGP1',\n",
      "                      '_index': 'my_index',\n",
      "                      '_primary_term': 1,\n",
      "                      '_seq_no': 88,\n",
      "                      '_shards': {'failed': 0, 'successful': 1, 'total': 2},\n",
      "                      '_version': 1,\n",
      "                      'result': 'created',\n",
      "                      'status': 201}},\n",
      "           {'index': {'_id': 'Q3lWBJUBgfO6oc4oBGP1',\n",
      "                      '_index': 'my_index',\n",
      "                      '_primary_term': 1,\n",
      "                      '_seq_no': 89,\n",
      "                      '_shards': {'failed': 0, 'successful': 1, 'total': 2},\n",
      "                      '_version': 1,\n",
      "                      'result': 'created',\n",
      "                      'status': 201}},\n",
      "           {'index': {'_id': 'RHlWBJUBgfO6oc4oBGP1',\n",
      "                      '_index': 'my_index',\n",
      "                      '_primary_term': 1,\n",
      "                      '_seq_no': 90,\n",
      "                      '_shards': {'failed': 0, 'successful': 1, 'total': 2},\n",
      "                      '_version': 1,\n",
      "                      'result': 'created',\n",
      "                      'status': 201}},\n",
      "           {'index': {'_id': 'RXlWBJUBgfO6oc4oBGP1',\n",
      "                      '_index': 'my_index',\n",
      "                      '_primary_term': 1,\n",
      "                      '_seq_no': 91,\n",
      "                      '_shards': {'failed': 0, 'successful': 1, 'total': 2},\n",
      "                      '_version': 1,\n",
      "                      'result': 'created',\n",
      "                      'status': 201}},\n",
      "           {'index': {'_id': 'RnlWBJUBgfO6oc4oBGP1',\n",
      "                      '_index': 'my_index',\n",
      "                      '_primary_term': 1,\n",
      "                      '_seq_no': 92,\n",
      "                      '_shards': {'failed': 0, 'successful': 1, 'total': 2},\n",
      "                      '_version': 1,\n",
      "                      'result': 'created',\n",
      "                      'status': 201}},\n",
      "           {'index': {'_id': 'R3lWBJUBgfO6oc4oBGP1',\n",
      "                      '_index': 'my_index',\n",
      "                      '_primary_term': 1,\n",
      "                      '_seq_no': 93,\n",
      "                      '_shards': {'failed': 0, 'successful': 1, 'total': 2},\n",
      "                      '_version': 1,\n",
      "                      'result': 'created',\n",
      "                      'status': 201}},\n",
      "           {'index': {'_id': 'SHlWBJUBgfO6oc4oBGP2',\n",
      "                      '_index': 'my_index',\n",
      "                      '_primary_term': 1,\n",
      "                      '_seq_no': 94,\n",
      "                      '_shards': {'failed': 0, 'successful': 1, 'total': 2},\n",
      "                      '_version': 1,\n",
      "                      'result': 'created',\n",
      "                      'status': 201}},\n",
      "           {'index': {'_id': 'SXlWBJUBgfO6oc4oBGP2',\n",
      "                      '_index': 'my_index',\n",
      "                      '_primary_term': 1,\n",
      "                      '_seq_no': 95,\n",
      "                      '_shards': {'failed': 0, 'successful': 1, 'total': 2},\n",
      "                      '_version': 1,\n",
      "                      'result': 'created',\n",
      "                      'status': 201}},\n",
      "           {'index': {'_id': 'SnlWBJUBgfO6oc4oBGP2',\n",
      "                      '_index': 'my_index',\n",
      "                      '_primary_term': 1,\n",
      "                      '_seq_no': 96,\n",
      "                      '_shards': {'failed': 0, 'successful': 1, 'total': 2},\n",
      "                      '_version': 1,\n",
      "                      'result': 'created',\n",
      "                      'status': 201}},\n",
      "           {'index': {'_id': 'S3lWBJUBgfO6oc4oBGP2',\n",
      "                      '_index': 'my_index',\n",
      "                      '_primary_term': 1,\n",
      "                      '_seq_no': 97,\n",
      "                      '_shards': {'failed': 0, 'successful': 1, 'total': 2},\n",
      "                      '_version': 1,\n",
      "                      'result': 'created',\n",
      "                      'status': 201}},\n",
      "           {'index': {'_id': 'THlWBJUBgfO6oc4oBGP2',\n",
      "                      '_index': 'my_index',\n",
      "                      '_primary_term': 1,\n",
      "                      '_seq_no': 98,\n",
      "                      '_shards': {'failed': 0, 'successful': 1, 'total': 2},\n",
      "                      '_version': 1,\n",
      "                      'result': 'created',\n",
      "                      'status': 201}},\n",
      "           {'index': {'_id': 'TXlWBJUBgfO6oc4oBGP2',\n",
      "                      '_index': 'my_index',\n",
      "                      '_primary_term': 1,\n",
      "                      '_seq_no': 99,\n",
      "                      '_shards': {'failed': 0, 'successful': 1, 'total': 2},\n",
      "                      '_version': 1,\n",
      "                      'result': 'created',\n",
      "                      'status': 201}}],\n",
      " 'took': 4155043}\n"
     ]
    }
   ],
   "source": [
    "import json\n",
    "\n",
    "es.indices.delete(index='my_index', ignore_unavailable=True)\n",
    "es.indices.create(index='my_index')\n",
    "\n",
    "operations = []\n",
    "clothes_documents = json.load(open('clothes.json'))\n",
    "\n",
    "for document in clothes_documents:\n",
    "    operations.append({'index': {'_index': 'my_index'}})\n",
    "    operations.append(document)\n",
    "\n",
    "response = es.bulk(operations=operations)\n",
    "pprint(response.body)"
   ]
  },
  {
   "cell_type": "markdown",
   "id": "9c12fe6f-598a-4e50-b0d6-b4f892d0d4d3",
   "metadata": {},
   "source": [
    "Zacznijmy od simple filters\n",
    "\n",
    "Wybierzemy tylko marki adidas i kolor zolty"
   ]
  },
  {
   "cell_type": "code",
   "execution_count": 15,
   "id": "9ac5a412-7861-42af-b815-444ed35a7283",
   "metadata": {},
   "outputs": [
    {
     "name": "stdout",
     "output_type": "stream",
     "text": [
      "Found 6 documents\n"
     ]
    }
   ],
   "source": [
    "response = es.search(\n",
    "    index='my_index',\n",
    "    body={\n",
    "        \"query\": {\n",
    "            \"bool\": {\n",
    "                \"filter\": [\n",
    "                    {\n",
    "                        \"term\": {\n",
    "                            \"brand\": \"adidas\"\n",
    "                        }\n",
    "                    },\n",
    "                    {\n",
    "                        \"term\": {\n",
    "                            \"color\": \"yellow\"\n",
    "                        }\n",
    "                    }\n",
    "                ]\n",
    "            }\n",
    "        },\n",
    "        \"size\": 100\n",
    "    },\n",
    ")\n",
    "\n",
    "hits = response.body['hits']['hits']\n",
    "print(f'Found {len(hits)} documents')"
   ]
  },
  {
   "cell_type": "markdown",
   "id": "33c5d48f-6cbf-451c-a722-ea41e878c269",
   "metadata": {},
   "source": [
    "### Post filters\n",
    "czyli filtry z agregacjami <br>\n",
    "Najpierw wybierzemy brand gucii, potem agregacja, zeby policzyc ile jest dokumentow dla kazdego koloru <br>\n",
    "Potem pozniej filtered aggregation, color_red zliczająca ile modeli w dokumentach ma kolor czerwony <br>\n",
    "Na koniec post_filter po agregacjach zwraca tylko czerwone"
   ]
  },
  {
   "cell_type": "code",
   "execution_count": 18,
   "id": "a6154373-405a-49f8-94fd-c50708c54fe9",
   "metadata": {},
   "outputs": [
    {
     "name": "stdout",
     "output_type": "stream",
     "text": [
      "{'_shards': {'failed': 0, 'skipped': 0, 'successful': 1, 'total': 1},\n",
      " 'aggregations': {'color_red': {'doc_count': 12,\n",
      "                                'models': {'buckets': [{'doc_count': 3,\n",
      "                                                        'key': 'model_1'},\n",
      "                                                       {'doc_count': 1,\n",
      "                                                        'key': 'model_14'},\n",
      "                                                       {'doc_count': 1,\n",
      "                                                        'key': 'model_16'},\n",
      "                                                       {'doc_count': 1,\n",
      "                                                        'key': 'model_2'},\n",
      "                                                       {'doc_count': 1,\n",
      "                                                        'key': 'model_26'},\n",
      "                                                       {'doc_count': 1,\n",
      "                                                        'key': 'model_28'},\n",
      "                                                       {'doc_count': 1,\n",
      "                                                        'key': 'model_3'},\n",
      "                                                       {'doc_count': 1,\n",
      "                                                        'key': 'model_4'},\n",
      "                                                       {'doc_count': 1,\n",
      "                                                        'key': 'model_6'},\n",
      "                                                       {'doc_count': 1,\n",
      "                                                        'key': 'model_8'}],\n",
      "                                           'doc_count_error_upper_bound': 0,\n",
      "                                           'sum_other_doc_count': 0}},\n",
      "                  'colors': {'buckets': [{'doc_count': 12, 'key': 'red'},\n",
      "                                         {'doc_count': 8, 'key': 'blue'},\n",
      "                                         {'doc_count': 6, 'key': 'green'},\n",
      "                                         {'doc_count': 4, 'key': 'yellow'}],\n",
      "                             'doc_count_error_upper_bound': 0,\n",
      "                             'sum_other_doc_count': 0}},\n",
      " 'hits': {'hits': [{'_id': '6nlWBJUBgfO6oc4oBGL0',\n",
      "                    '_index': 'my_index',\n",
      "                    '_score': 0.0,\n",
      "                    '_source': {'brand': 'gucci',\n",
      "                                'color': 'red',\n",
      "                                'model': 'model_1'}},\n",
      "                   {'_id': '7HlWBJUBgfO6oc4oBGL0',\n",
      "                    '_index': 'my_index',\n",
      "                    '_score': 0.0,\n",
      "                    '_source': {'brand': 'gucci',\n",
      "                                'color': 'red',\n",
      "                                'model': 'model_3'}},\n",
      "                   {'_id': '7nlWBJUBgfO6oc4oBGL0',\n",
      "                    '_index': 'my_index',\n",
      "                    '_score': 0.0,\n",
      "                    '_source': {'brand': 'gucci',\n",
      "                                'color': 'red',\n",
      "                                'model': 'model_1'}},\n",
      "                   {'_id': '83lWBJUBgfO6oc4oBGL0',\n",
      "                    '_index': 'my_index',\n",
      "                    '_score': 0.0,\n",
      "                    '_source': {'brand': 'gucci',\n",
      "                                'color': 'red',\n",
      "                                'model': 'model_4'}},\n",
      "                   {'_id': '9nlWBJUBgfO6oc4oBGL0',\n",
      "                    '_index': 'my_index',\n",
      "                    '_score': 0.0,\n",
      "                    '_source': {'brand': 'gucci',\n",
      "                                'color': 'red',\n",
      "                                'model': 'model_1'}},\n",
      "                   {'_id': '_3lWBJUBgfO6oc4oBGL1',\n",
      "                    '_index': 'my_index',\n",
      "                    '_score': 0.0,\n",
      "                    '_source': {'brand': 'gucci',\n",
      "                                'color': 'red',\n",
      "                                'model': 'model_2'}},\n",
      "                   {'_id': 'D3lWBJUBgfO6oc4oBGP1',\n",
      "                    '_index': 'my_index',\n",
      "                    '_score': 0.0,\n",
      "                    '_source': {'brand': 'gucci',\n",
      "                                'color': 'red',\n",
      "                                'model': 'model_28'}},\n",
      "                   {'_id': 'F3lWBJUBgfO6oc4oBGP1',\n",
      "                    '_index': 'my_index',\n",
      "                    '_score': 0.0,\n",
      "                    '_source': {'brand': 'gucci',\n",
      "                                'color': 'red',\n",
      "                                'model': 'model_6'}},\n",
      "                   {'_id': 'H3lWBJUBgfO6oc4oBGP1',\n",
      "                    '_index': 'my_index',\n",
      "                    '_score': 0.0,\n",
      "                    '_source': {'brand': 'gucci',\n",
      "                                'color': 'red',\n",
      "                                'model': 'model_14'}},\n",
      "                   {'_id': 'K3lWBJUBgfO6oc4oBGP1',\n",
      "                    '_index': 'my_index',\n",
      "                    '_score': 0.0,\n",
      "                    '_source': {'brand': 'gucci',\n",
      "                                'color': 'red',\n",
      "                                'model': 'model_26'}}],\n",
      "          'max_score': 0.0,\n",
      "          'total': {'relation': 'eq', 'value': 12}},\n",
      " 'timed_out': False,\n",
      " 'took': 151}\n"
     ]
    }
   ],
   "source": [
    "response = es.search(\n",
    "    index='my_index',\n",
    "    body={\n",
    "        \"query\": {\n",
    "            \"bool\": {\n",
    "                \"filter\": {\n",
    "                    \"term\": {\n",
    "                        \"brand\": \"gucci\" # najpierw chcemy tylko produkty marki gucci\n",
    "                    }\n",
    "                }\n",
    "            }\n",
    "        },\n",
    "        \"aggs\": {\n",
    "            \"colors\": {\n",
    "                \"terms\": {\n",
    "                    \"field\": \"color.keyword\" # teraz zliczamy kolory dla gucci, musi byc keyword\n",
    "                }\n",
    "            },\n",
    "            \"color_red\": {\n",
    "                \"filter\": {\n",
    "                    \"term\": { \n",
    "                        \"color.keyword\": \"red\" # teraz wybieramy tylko czerwone ubrania marki gucci\n",
    "                    }\n",
    "                },\n",
    "                \"aggs\": {\n",
    "                    \"models\": {\n",
    "                        \"terms\": {\n",
    "                            \"field\": \"model.keyword\" # teraz w tych czerwonych ciuchach gucci zliczamy jakie kolory tam wystepuja\n",
    "                        }\n",
    "                    }\n",
    "                }\n",
    "            }\n",
    "        },\n",
    "                \"post_filter\": {\n",
    "                \"term\": {\n",
    "                    \"color\": \"red\" # a na koniec juz wybieramy tylko czerwone gucci\n",
    "                }\n",
    "            }\n",
    "    }\n",
    ")\n",
    "pprint(response.body)"
   ]
  },
  {
   "cell_type": "markdown",
   "id": "d28d4f73-633b-4118-9baa-285a6da749c6",
   "metadata": {},
   "source": [
    "możemy się teraz odwoływać do pojedynczych agregacji np. kolorow"
   ]
  },
  {
   "cell_type": "code",
   "execution_count": 19,
   "id": "66aae1ef-de8a-409e-876b-9d6b298afb86",
   "metadata": {},
   "outputs": [
    {
     "name": "stdout",
     "output_type": "stream",
     "text": [
      "[{'doc_count': 12, 'key': 'red'},\n",
      " {'doc_count': 8, 'key': 'blue'},\n",
      " {'doc_count': 6, 'key': 'green'},\n",
      " {'doc_count': 4, 'key': 'yellow'}]\n"
     ]
    }
   ],
   "source": [
    "colors_aggregation = response.body['aggregations']['colors']['buckets']\n",
    "pprint(colors_aggregation)"
   ]
  },
  {
   "cell_type": "markdown",
   "id": "b8e5830e-3b5b-4fa0-aefc-b115ea8c929d",
   "metadata": {},
   "source": [
    "teraz sie odwolamy do tego ile roznych modeli jest w czerwonych gucci"
   ]
  },
  {
   "cell_type": "code",
   "execution_count": 21,
   "id": "01c50bc7-dadd-48c3-9112-5fda530e91eb",
   "metadata": {},
   "outputs": [
    {
     "name": "stdout",
     "output_type": "stream",
     "text": [
      "[{'doc_count': 3, 'key': 'model_1'},\n",
      " {'doc_count': 1, 'key': 'model_14'},\n",
      " {'doc_count': 1, 'key': 'model_16'},\n",
      " {'doc_count': 1, 'key': 'model_2'},\n",
      " {'doc_count': 1, 'key': 'model_26'},\n",
      " {'doc_count': 1, 'key': 'model_28'},\n",
      " {'doc_count': 1, 'key': 'model_3'},\n",
      " {'doc_count': 1, 'key': 'model_4'},\n",
      " {'doc_count': 1, 'key': 'model_6'},\n",
      " {'doc_count': 1, 'key': 'model_8'}]\n"
     ]
    }
   ],
   "source": [
    "color_red_aggregation = response.body['aggregations']['color_red']['models']['buckets']\n",
    "pprint(color_red_aggregation)"
   ]
  },
  {
   "cell_type": "markdown",
   "id": "456a4b36-a528-4000-8f4a-ff5a9b4b086b",
   "metadata": {},
   "source": [
    "teraz sb wydrukujemy wszystkie czerwone gucci"
   ]
  },
  {
   "cell_type": "code",
   "execution_count": 23,
   "id": "a631a041-75d9-4b40-a187-7309d984313d",
   "metadata": {},
   "outputs": [
    {
     "name": "stdout",
     "output_type": "stream",
     "text": [
      "Shirt brand: gucci, color: red, and model model_1\n",
      "Shirt brand: gucci, color: red, and model model_3\n",
      "Shirt brand: gucci, color: red, and model model_1\n",
      "Shirt brand: gucci, color: red, and model model_4\n",
      "Shirt brand: gucci, color: red, and model model_1\n",
      "Shirt brand: gucci, color: red, and model model_2\n",
      "Shirt brand: gucci, color: red, and model model_28\n",
      "Shirt brand: gucci, color: red, and model model_6\n",
      "Shirt brand: gucci, color: red, and model model_14\n",
      "Shirt brand: gucci, color: red, and model model_26\n"
     ]
    }
   ],
   "source": [
    "hits = response.body['hits']['hits']\n",
    "for hit in hits:\n",
    "    print(f\"\"\"Shirt brand: {hit['_source']['brand']}, color: {hit['_source']['color']}, and model {hit['_source']['model']}\"\"\")"
   ]
  },
  {
   "cell_type": "markdown",
   "id": "c4f64ebf-cd90-4ca4-9e68-12447678ff95",
   "metadata": {},
   "source": [
    "### SQL Search API"
   ]
  },
  {
   "cell_type": "code",
   "execution_count": 3,
   "id": "6df19f26-604f-4047-b1ec-884c6c373ae5",
   "metadata": {},
   "outputs": [
    {
     "name": "stdout",
     "output_type": "stream",
     "text": [
      "{'errors': False,\n",
      " 'items': [{'index': {'_id': '3-EqBpUBKYTyNmUO8q_-',\n",
      "                      '_index': 'my_index',\n",
      "                      '_primary_term': 1,\n",
      "                      '_seq_no': 0,\n",
      "                      '_shards': {'failed': 0, 'successful': 1, 'total': 2},\n",
      "                      '_version': 1,\n",
      "                      'result': 'created',\n",
      "                      'status': 201}},\n",
      "           {'index': {'_id': '4OEqBpUBKYTyNmUO868A',\n",
      "                      '_index': 'my_index',\n",
      "                      '_primary_term': 1,\n",
      "                      '_seq_no': 1,\n",
      "                      '_shards': {'failed': 0, 'successful': 1, 'total': 2},\n",
      "                      '_version': 1,\n",
      "                      'result': 'created',\n",
      "                      'status': 201}},\n",
      "           {'index': {'_id': '4eEqBpUBKYTyNmUO868A',\n",
      "                      '_index': 'my_index',\n",
      "                      '_primary_term': 1,\n",
      "                      '_seq_no': 2,\n",
      "                      '_shards': {'failed': 0, 'successful': 1, 'total': 2},\n",
      "                      '_version': 1,\n",
      "                      'result': 'created',\n",
      "                      'status': 201}},\n",
      "           {'index': {'_id': '4uEqBpUBKYTyNmUO868A',\n",
      "                      '_index': 'my_index',\n",
      "                      '_primary_term': 1,\n",
      "                      '_seq_no': 3,\n",
      "                      '_shards': {'failed': 0, 'successful': 1, 'total': 2},\n",
      "                      '_version': 1,\n",
      "                      'result': 'created',\n",
      "                      'status': 201}},\n",
      "           {'index': {'_id': '4-EqBpUBKYTyNmUO868A',\n",
      "                      '_index': 'my_index',\n",
      "                      '_primary_term': 1,\n",
      "                      '_seq_no': 4,\n",
      "                      '_shards': {'failed': 0, 'successful': 1, 'total': 2},\n",
      "                      '_version': 1,\n",
      "                      'result': 'created',\n",
      "                      'status': 201}},\n",
      "           {'index': {'_id': '5OEqBpUBKYTyNmUO868A',\n",
      "                      '_index': 'my_index',\n",
      "                      '_primary_term': 1,\n",
      "                      '_seq_no': 5,\n",
      "                      '_shards': {'failed': 0, 'successful': 1, 'total': 2},\n",
      "                      '_version': 1,\n",
      "                      'result': 'created',\n",
      "                      'status': 201}},\n",
      "           {'index': {'_id': '5eEqBpUBKYTyNmUO868A',\n",
      "                      '_index': 'my_index',\n",
      "                      '_primary_term': 1,\n",
      "                      '_seq_no': 6,\n",
      "                      '_shards': {'failed': 0, 'successful': 1, 'total': 2},\n",
      "                      '_version': 1,\n",
      "                      'result': 'created',\n",
      "                      'status': 201}},\n",
      "           {'index': {'_id': '5uEqBpUBKYTyNmUO868A',\n",
      "                      '_index': 'my_index',\n",
      "                      '_primary_term': 1,\n",
      "                      '_seq_no': 7,\n",
      "                      '_shards': {'failed': 0, 'successful': 1, 'total': 2},\n",
      "                      '_version': 1,\n",
      "                      'result': 'created',\n",
      "                      'status': 201}},\n",
      "           {'index': {'_id': '5-EqBpUBKYTyNmUO868A',\n",
      "                      '_index': 'my_index',\n",
      "                      '_primary_term': 1,\n",
      "                      '_seq_no': 8,\n",
      "                      '_shards': {'failed': 0, 'successful': 1, 'total': 2},\n",
      "                      '_version': 1,\n",
      "                      'result': 'created',\n",
      "                      'status': 201}},\n",
      "           {'index': {'_id': '6OEqBpUBKYTyNmUO868B',\n",
      "                      '_index': 'my_index',\n",
      "                      '_primary_term': 1,\n",
      "                      '_seq_no': 9,\n",
      "                      '_shards': {'failed': 0, 'successful': 1, 'total': 2},\n",
      "                      '_version': 1,\n",
      "                      'result': 'created',\n",
      "                      'status': 201}}],\n",
      " 'took': 207779}\n"
     ]
    }
   ],
   "source": [
    "es.indices.delete(index='my_index', ignore_unavailable=True)\n",
    "es.indices.create(index='my_index')\n",
    "import json\n",
    "operations = []\n",
    "data = json.load(open('knn_search.json'))\n",
    "\n",
    "for document in data:\n",
    "    operations.append({'index': {'_index': 'my_index'}})\n",
    "    operations.append(document)\n",
    "\n",
    "response = es.bulk(operations=operations)\n",
    "pprint(response.body)"
   ]
  },
  {
   "cell_type": "markdown",
   "id": "f5b430d6-a4dd-4989-aa8c-afc3b7c02763",
   "metadata": {},
   "source": [
    "**Simple select query**\n",
    "\n",
    "wybieramy tytul z pierwszych pieciu dokumentow"
   ]
  },
  {
   "cell_type": "code",
   "execution_count": 4,
   "id": "909e2710-061f-4754-a30f-b7e5d537397a",
   "metadata": {},
   "outputs": [
    {
     "name": "stdout",
     "output_type": "stream",
     "text": [
      "['The Solar System']\n",
      "['Black Holes']\n",
      "['Galaxies']\n",
      "['The Big Bang Theory']\n",
      "['Exoplanets']\n"
     ]
    }
   ],
   "source": [
    "query = { \"query\": \"SELECT title FROM my_index ORDER BY id LIMIT 5\" }\n",
    "\n",
    "response = es.sql.query(body=query)\n",
    "for row in response['rows']:\n",
    "    print(row)"
   ]
  },
  {
   "cell_type": "markdown",
   "id": "5319b05d-7e47-4b8f-b6bc-0eae2ea59a9c",
   "metadata": {},
   "source": [
    "Teraz zmienimy sobie format na json"
   ]
  },
  {
   "cell_type": "code",
   "execution_count": 8,
   "id": "0671bda0-a3f6-40d9-8f16-1f2e1d1b61ec",
   "metadata": {},
   "outputs": [
    {
     "name": "stdout",
     "output_type": "stream",
     "text": [
      "{'columns': [{'name': 'content', 'type': 'text'},\n",
      "             {'name': 'id', 'type': 'long'},\n",
      "             {'name': 'title', 'type': 'text'}],\n",
      " 'rows': [['The Solar System consists of the Sun and the objects that orbit '\n",
      "           'it, including eight planets, their moons, dwarf planets, and '\n",
      "           'countless small bodies like asteroids and comets.',\n",
      "           1,\n",
      "           'The Solar System'],\n",
      "          ['A black hole is a region of space where the gravitational pull is '\n",
      "           'so strong that nothing, not even light, can escape from it. They '\n",
      "           'are formed when massive stars collapse under their own gravity.',\n",
      "           2,\n",
      "           'Black Holes'],\n",
      "          ['Galaxies are vast systems that consist of stars, stellar remnants, '\n",
      "           'interstellar gas, dust, and dark matter. The Milky Way is the '\n",
      "           'galaxy that contains our Solar System.',\n",
      "           3,\n",
      "           'Galaxies'],\n",
      "          ['The Big Bang Theory is the leading explanation about how the '\n",
      "           'universe began. It suggests that the universe was once in an '\n",
      "           'extremely hot and dense state and has been expanding ever since.',\n",
      "           4,\n",
      "           'The Big Bang Theory'],\n",
      "          ['Exoplanets, or extrasolar planets, are planets that exist outside '\n",
      "           'our solar system. They vary greatly in size and composition and '\n",
      "           'are often found using methods like the transit method and radial '\n",
      "           'velocity.',\n",
      "           5,\n",
      "           'Exoplanets'],\n",
      "          ['Stars are born from clouds of gas and dust in space. They undergo '\n",
      "           'a life cycle that includes stages such as main sequence, red '\n",
      "           'giant, and, ultimately, either a supernova explosion or a gentle '\n",
      "           'fade into a white dwarf.',\n",
      "           6,\n",
      "           'The Life Cycle of Stars'],\n",
      "          ['Astrobiology is the study of the origin, evolution, distribution, '\n",
      "           'and future of life in the universe. It combines elements of '\n",
      "           'biology, chemistry, and planetary science.',\n",
      "           7,\n",
      "           'Astrobiology'],\n",
      "          ['Dark matter is a type of matter that does not emit light or '\n",
      "           'energy. It cannot be observed directly but is believed to make up '\n",
      "           \"about 27% of the universe's total mass and energy.\",\n",
      "           8,\n",
      "           'Dark Matter'],\n",
      "          ['The universe has been expanding since the Big Bang. Observations '\n",
      "           'of distant galaxies show that they are moving away from us, which '\n",
      "           'supports the idea of an expanding universe.',\n",
      "           9,\n",
      "           'The Expanding Universe'],\n",
      "          ['Space exploration involves the use of space technology to explore '\n",
      "           'outer space. It includes missions to planets, moons, and other '\n",
      "           'celestial bodies, aiming to discover more about the universe.',\n",
      "           10,\n",
      "           'Space Exploration']]}\n"
     ]
    }
   ],
   "source": [
    "query = { \"query\": \"SELECT * FROM my_index\" }\n",
    "\n",
    "response = es.sql.query(body=query, format='json')\n",
    "pprint(response.body)"
   ]
  },
  {
   "cell_type": "markdown",
   "id": "29c1cf0c-f7d2-4fd9-ad30-1eee5d48d73e",
   "metadata": {},
   "source": [
    "**Filter results**\n",
    "\n",
    "teraz ze wszystkich dokumentow wybierzemy tylko te co maja tytul black holes"
   ]
  },
  {
   "cell_type": "code",
   "execution_count": 12,
   "id": "1ca1dab3-4161-48a7-a5dc-4cd3f947a975",
   "metadata": {},
   "outputs": [
    {
     "name": "stdout",
     "output_type": "stream",
     "text": [
      "ObjectApiResponse({'columns': [{'name': 'content', 'type': 'text'}, {'name': 'id', 'type': 'long'}, {'name': 'title', 'type': 'text'}], 'rows': [['A black hole is a region of space where the gravitational pull is so strong that nothing, not even light, can escape from it. They are formed when massive stars collapse under their own gravity.', 2, 'Black Holes']]})\n"
     ]
    },
    {
     "name": "stderr",
     "output_type": "stream",
     "text": [
      "/tmp/ipykernel_698/1257225377.py:3: DeprecationWarning: Received 'filter' via a specific parameter in the presence of a 'body' parameter, which is deprecated and will be removed in a future version. Instead, use only 'body' or only specific parameters.\n",
      "  response = es.sql.query(\n"
     ]
    }
   ],
   "source": [
    "query = { \"query\": \"SELECT * FROM my_index\" }\n",
    "\n",
    "response = es.sql.query(\n",
    "    body=query,\n",
    "    filter={\n",
    "        \"term\": {\n",
    "            \"title.keyword\": \"Black Holes\"\n",
    "        }\n",
    "    }\n",
    ")\n",
    "pprint(response)"
   ]
  },
  {
   "cell_type": "markdown",
   "id": "c14e2a63-7f82-440c-907b-33aeb5907b75",
   "metadata": {},
   "source": [
    "**Pagination** - tego nie bardzo rozumiem, ale obetniemy wynik do 5 dokumentow przez parametr "
   ]
  },
  {
   "cell_type": "code",
   "execution_count": 13,
   "id": "a162b4ef-4f14-4721-bbf4-8e11947cc34c",
   "metadata": {},
   "outputs": [
    {
     "name": "stdout",
     "output_type": "stream",
     "text": [
      "{'columns': [{'name': 'content', 'type': 'text'},\n",
      "             {'name': 'id', 'type': 'long'},\n",
      "             {'name': 'title', 'type': 'text'}],\n",
      " 'cursor': 'spCTBERGTAB0T0tuwjAQnXESfpvucguklgX7IlG1VEDTVgSyyQLbiWmwURhQcotKvQnifsUBwo63GD3NjN4HI8AUGEKFf4uHMwPwEDtSiYzHW5MTUxwasVT5lhAB3czo5PKHR3SAMUuqcUajJp7dVproNJdGk9BkP60S80hRJqxtcfj9c7G1LmOluSh8LsL57j36+Vz3uk+j8aZfRpPFM/hDMVuafUhf/e6rHOcLMy8/VsHVD9r+4/fbNF2ls2AQ6skgeRmJhOsA8J4gQKfu66Cs06FLoiAbWtqUdUmUl7S3YxPgBAAA//8DAA==',\n",
      " 'rows': [['Space exploration involves the use of space technology to explore '\n",
      "           'outer space. It includes missions to planets, moons, and other '\n",
      "           'celestial bodies, aiming to discover more about the universe.',\n",
      "           10,\n",
      "           'Space Exploration'],\n",
      "          ['The universe has been expanding since the Big Bang. Observations '\n",
      "           'of distant galaxies show that they are moving away from us, which '\n",
      "           'supports the idea of an expanding universe.',\n",
      "           9,\n",
      "           'The Expanding Universe'],\n",
      "          ['Dark matter is a type of matter that does not emit light or '\n",
      "           'energy. It cannot be observed directly but is believed to make up '\n",
      "           \"about 27% of the universe's total mass and energy.\",\n",
      "           8,\n",
      "           'Dark Matter'],\n",
      "          ['Astrobiology is the study of the origin, evolution, distribution, '\n",
      "           'and future of life in the universe. It combines elements of '\n",
      "           'biology, chemistry, and planetary science.',\n",
      "           7,\n",
      "           'Astrobiology'],\n",
      "          ['Stars are born from clouds of gas and dust in space. They undergo '\n",
      "           'a life cycle that includes stages such as main sequence, red '\n",
      "           'giant, and, ultimately, either a supernova explosion or a gentle '\n",
      "           'fade into a white dwarf.',\n",
      "           6,\n",
      "           'The Life Cycle of Stars']]}\n"
     ]
    },
    {
     "name": "stderr",
     "output_type": "stream",
     "text": [
      "/tmp/ipykernel_698/695998784.py:3: DeprecationWarning: Received 'fetch_size' via a specific parameter in the presence of a 'body' parameter, which is deprecated and will be removed in a future version. Instead, use only 'body' or only specific parameters.\n",
      "  response = es.sql.query(\n"
     ]
    }
   ],
   "source": [
    "query = { \"query\": \"SELECT * FROM my_index ORDER BY id DESC\" }\n",
    "\n",
    "response = es.sql.query(\n",
    "    body=query,\n",
    "    format='json',\n",
    "    fetch_size=5\n",
    ")\n",
    "pprint(response.body)"
   ]
  },
  {
   "cell_type": "markdown",
   "id": "b240b617-818e-46be-aa0a-ae858ae1cbae",
   "metadata": {},
   "source": [
    "widac, że dostaliśmy cursor value, teraz możemy w petli robic kolejne zapytania dopoki cursor istnieje"
   ]
  },
  {
   "cell_type": "markdown",
   "id": "64ff612c-f6b0-4922-bac0-ca71ec37ddef",
   "metadata": {},
   "source": [
    "while 'cursor' in response.body:\n",
    "    response = es.sql.query(\n",
    "        format='json',\n",
    "        cursor=response.body['cursor'],\n",
    "    )\n",
    "    pprint(response.body)\n",
    "    print()\n",
    "# a chuj to wie"
   ]
  },
  {
   "cell_type": "markdown",
   "id": "5a52fdf3-9f3a-4fdc-920b-ccaee40fe248",
   "metadata": {},
   "source": [
    "**Translate API**\n",
    "\n",
    "teraz dostaniemy przetlumaczone zapytanie na ten jezyk query z ES"
   ]
  },
  {
   "cell_type": "code",
   "execution_count": 17,
   "id": "75da80d9-fe4f-4264-a175-808a4be6f438",
   "metadata": {},
   "outputs": [
    {
     "name": "stdout",
     "output_type": "stream",
     "text": [
      "{'_source': False,\n",
      " 'fields': [{'field': 'content'}, {'field': 'id'}, {'field': 'title'}],\n",
      " 'query': {'wildcard': {'content.keyword': {'boost': 1.0,\n",
      "                                            'wildcard': '*universe*'}}},\n",
      " 'size': 20,\n",
      " 'sort': [{'id': {'missing': '_first',\n",
      "                  'order': 'desc',\n",
      "                  'unmapped_type': 'long'}}],\n",
      " 'track_total_hits': -1}\n"
     ]
    }
   ],
   "source": [
    "trans_query = { \"query\": \"SELECT * FROM my_index WHERE content LIKE '%universe%' ORDER BY id DESC LIMIT 20\" }\n",
    "\n",
    "translated_query = es.sql.translate(body=trans_query)\n",
    "pprint(translated_query.body)"
   ]
  },
  {
   "cell_type": "markdown",
   "id": "260db49d-b5be-4a2c-a8ea-111f90d7fd86",
   "metadata": {},
   "source": [
    "### Time series data stream\n",
    "\n",
    "musimy najpierw ustalić policy"
   ]
  },
  {
   "cell_type": "code",
   "execution_count": 8,
   "id": "8c3930c6-d070-47c4-82a0-889403cff900",
   "metadata": {},
   "outputs": [
    {
     "name": "stdout",
     "output_type": "stream",
     "text": [
      "{'acknowledged': True}\n"
     ]
    }
   ],
   "source": [
    "policy = {\n",
    "    \"phases\": {\n",
    "        \"hot\": {\n",
    "            \"actions\": {\n",
    "                \"rollover\": {\n",
    "                    \"max_age\": \"5m\", # jesli dane beda starsze niz 5 minut, to ten index pojdzie w read-only mode i stwory sie nowy\n",
    "                }\n",
    "            }\n",
    "        },\n",
    "        \"delete\": {\n",
    "            \"min_age\": \"20m\", # a po 20 minutach sie usunie\n",
    "            \"actions\": {\n",
    "                \"delete\": {}\n",
    "            }\n",
    "        }\n",
    "    }\n",
    "}\n",
    "\n",
    "response = es.ilm.put_lifecycle(name='cpu_usage_policy_2', policy=policy)\n",
    "pprint(response.body)"
   ]
  },
  {
   "cell_type": "markdown",
   "id": "debd28fa-c607-4ff1-90ca-c3667782b078",
   "metadata": {},
   "source": [
    "teraz tworzymy index template"
   ]
  },
  {
   "cell_type": "code",
   "execution_count": 9,
   "id": "a2e49882-68aa-4745-82e3-8a04827342c9",
   "metadata": {},
   "outputs": [
    {
     "name": "stdout",
     "output_type": "stream",
     "text": [
      "{'acknowledged': True}\n"
     ]
    }
   ],
   "source": [
    "response = es.indices.put_index_template(\n",
    "    name='cpu_example_template',\n",
    "    index_patterns=[\n",
    "        'cpu_example_template*' # czyli pasuje do kazdego indexu zaczynajacego sie od cpu_usage_data\n",
    "    ],\n",
    "    data_stream={},\n",
    "    template={\n",
    "        \"settings\": {\n",
    "            \"index.mode\": \"time_series\", # stosuje time series data mode\n",
    "            \"index.lifecycle.name\": \"cpu_usage_policy_2\", # stosuje policy podana wczesniej\n",
    "        },\n",
    "        \"mappings\": { # tworzymy sobie pola do indeksu\n",
    "            \"properties\": {\n",
    "                \"@timestamp\": {\n",
    "                    \"type\": \"date\"\n",
    "                },\n",
    "                \"cpu_usage\": {\n",
    "                    \"type\": \"float\",\n",
    "                    \"time_series_metric\": \"gauge\" \n",
    "                },\n",
    "                \"cpu_name\": {\n",
    "                    \"type\": \"keyword\", # musimy miec min. 1 keyword field\n",
    "                    \"time_series_dimension\": True\n",
    "                }\n",
    "            }\n",
    "        }\n",
    "    },\n",
    "    priority=500, # wyzsze niz 200, zeby uniknac kolizji z wbudowanymi template\n",
    "        meta={\n",
    "        \"description\": \"Template for CPU usage data\",\n",
    "    },\n",
    "    allow_auto_create=True   \n",
    ")\n",
    "\n",
    "pprint(response.body)"
   ]
  },
  {
   "cell_type": "markdown",
   "id": "cc03af8c-f888-4cb0-8141-139198bc286e",
   "metadata": {},
   "source": [
    "mozemy zaczac czytac dane z cpu i je indexowac\n",
    "\n",
    "bedziemy uzywac psutil, zeby dostac cpu%"
   ]
  },
  {
   "cell_type": "code",
   "execution_count": 10,
   "id": "bc77de6a-c1e7-4388-b3bc-82e455769294",
   "metadata": {},
   "outputs": [
    {
     "name": "stderr",
     "output_type": "stream",
     "text": [
      "/tmp/ipykernel_805/2379739130.py:7: DeprecationWarning: datetime.datetime.utcnow() is deprecated and scheduled for removal in a future version. Use timezone-aware objects to represent datetimes in UTC: datetime.datetime.now(datetime.UTC).\n",
      "  '@timestamp': datetime.utcnow(),\n"
     ]
    },
    {
     "ename": "KeyboardInterrupt",
     "evalue": "",
     "output_type": "error",
     "traceback": [
      "\u001b[0;31m---------------------------------------------------------------------------\u001b[0m",
      "\u001b[0;31mKeyboardInterrupt\u001b[0m                         Traceback (most recent call last)",
      "Cell \u001b[0;32mIn[10], line 11\u001b[0m\n\u001b[1;32m      5\u001b[0m \u001b[38;5;28;01mwhile\u001b[39;00m \u001b[38;5;28;01mTrue\u001b[39;00m:\n\u001b[1;32m      6\u001b[0m     document \u001b[38;5;241m=\u001b[39m {\n\u001b[1;32m      7\u001b[0m         \u001b[38;5;124m'\u001b[39m\u001b[38;5;124m@timestamp\u001b[39m\u001b[38;5;124m'\u001b[39m: datetime\u001b[38;5;241m.\u001b[39mutcnow(),\n\u001b[1;32m      8\u001b[0m         \u001b[38;5;124m'\u001b[39m\u001b[38;5;124mcpu_usage\u001b[39m\u001b[38;5;124m'\u001b[39m: psutil\u001b[38;5;241m.\u001b[39mcpu_percent(interval\u001b[38;5;241m=\u001b[39m\u001b[38;5;241m0.1\u001b[39m),\n\u001b[1;32m      9\u001b[0m         \u001b[38;5;124m'\u001b[39m\u001b[38;5;124mcpu_name\u001b[39m\u001b[38;5;124m'\u001b[39m: \u001b[38;5;124m'\u001b[39m\u001b[38;5;124mi7-13650HX\u001b[39m\u001b[38;5;124m'\u001b[39m\n\u001b[1;32m     10\u001b[0m     }\n\u001b[0;32m---> 11\u001b[0m     \u001b[43mes\u001b[49m\u001b[38;5;241;43m.\u001b[39;49m\u001b[43mindex\u001b[49m\u001b[43m(\u001b[49m\u001b[43mindex\u001b[49m\u001b[38;5;241;43m=\u001b[39;49m\u001b[43mindex_alias\u001b[49m\u001b[43m,\u001b[49m\u001b[43m \u001b[49m\u001b[43mdocument\u001b[49m\u001b[38;5;241;43m=\u001b[39;49m\u001b[43mdocument\u001b[49m\u001b[43m,\u001b[49m\u001b[43m \u001b[49m\u001b[43mrefresh\u001b[49m\u001b[38;5;241;43m=\u001b[39;49m\u001b[38;5;28;43;01mTrue\u001b[39;49;00m\u001b[43m)\u001b[49m\n",
      "File \u001b[0;32m~/venv/lib/python3.12/site-packages/elasticsearch/_sync/client/utils.py:455\u001b[0m, in \u001b[0;36m_rewrite_parameters.<locals>.wrapper.<locals>.wrapped\u001b[0;34m(*args, **kwargs)\u001b[0m\n\u001b[1;32m    452\u001b[0m         \u001b[38;5;28;01mexcept\u001b[39;00m \u001b[38;5;167;01mKeyError\u001b[39;00m:\n\u001b[1;32m    453\u001b[0m             \u001b[38;5;28;01mpass\u001b[39;00m\n\u001b[0;32m--> 455\u001b[0m \u001b[38;5;28;01mreturn\u001b[39;00m \u001b[43mapi\u001b[49m\u001b[43m(\u001b[49m\u001b[38;5;241;43m*\u001b[39;49m\u001b[43margs\u001b[49m\u001b[43m,\u001b[49m\u001b[43m \u001b[49m\u001b[38;5;241;43m*\u001b[39;49m\u001b[38;5;241;43m*\u001b[39;49m\u001b[43mkwargs\u001b[49m\u001b[43m)\u001b[49m\n",
      "File \u001b[0;32m~/venv/lib/python3.12/site-packages/elasticsearch/_sync/client/__init__.py:2572\u001b[0m, in \u001b[0;36mElasticsearch.index\u001b[0;34m(self, index, document, body, id, error_trace, filter_path, human, if_primary_term, if_seq_no, op_type, pipeline, pretty, refresh, require_alias, routing, timeout, version, version_type, wait_for_active_shards)\u001b[0m\n\u001b[1;32m   2570\u001b[0m __body \u001b[38;5;241m=\u001b[39m document \u001b[38;5;28;01mif\u001b[39;00m document \u001b[38;5;129;01mis\u001b[39;00m \u001b[38;5;129;01mnot\u001b[39;00m \u001b[38;5;28;01mNone\u001b[39;00m \u001b[38;5;28;01melse\u001b[39;00m body\n\u001b[1;32m   2571\u001b[0m __headers \u001b[38;5;241m=\u001b[39m {\u001b[38;5;124m\"\u001b[39m\u001b[38;5;124maccept\u001b[39m\u001b[38;5;124m\"\u001b[39m: \u001b[38;5;124m\"\u001b[39m\u001b[38;5;124mapplication/json\u001b[39m\u001b[38;5;124m\"\u001b[39m, \u001b[38;5;124m\"\u001b[39m\u001b[38;5;124mcontent-type\u001b[39m\u001b[38;5;124m\"\u001b[39m: \u001b[38;5;124m\"\u001b[39m\u001b[38;5;124mapplication/json\u001b[39m\u001b[38;5;124m\"\u001b[39m}\n\u001b[0;32m-> 2572\u001b[0m \u001b[38;5;28;01mreturn\u001b[39;00m \u001b[38;5;28;43mself\u001b[39;49m\u001b[38;5;241;43m.\u001b[39;49m\u001b[43mperform_request\u001b[49m\u001b[43m(\u001b[49m\u001b[43m  \u001b[49m\u001b[38;5;66;43;03m# type: ignore[return-value]\u001b[39;49;00m\n\u001b[1;32m   2573\u001b[0m \u001b[43m    \u001b[49m\u001b[43m__method\u001b[49m\u001b[43m,\u001b[49m\n\u001b[1;32m   2574\u001b[0m \u001b[43m    \u001b[49m\u001b[43m__path\u001b[49m\u001b[43m,\u001b[49m\n\u001b[1;32m   2575\u001b[0m \u001b[43m    \u001b[49m\u001b[43mparams\u001b[49m\u001b[38;5;241;43m=\u001b[39;49m\u001b[43m__query\u001b[49m\u001b[43m,\u001b[49m\n\u001b[1;32m   2576\u001b[0m \u001b[43m    \u001b[49m\u001b[43mheaders\u001b[49m\u001b[38;5;241;43m=\u001b[39;49m\u001b[43m__headers\u001b[49m\u001b[43m,\u001b[49m\n\u001b[1;32m   2577\u001b[0m \u001b[43m    \u001b[49m\u001b[43mbody\u001b[49m\u001b[38;5;241;43m=\u001b[39;49m\u001b[43m__body\u001b[49m\u001b[43m,\u001b[49m\n\u001b[1;32m   2578\u001b[0m \u001b[43m    \u001b[49m\u001b[43mendpoint_id\u001b[49m\u001b[38;5;241;43m=\u001b[39;49m\u001b[38;5;124;43m\"\u001b[39;49m\u001b[38;5;124;43mindex\u001b[39;49m\u001b[38;5;124;43m\"\u001b[39;49m\u001b[43m,\u001b[49m\n\u001b[1;32m   2579\u001b[0m \u001b[43m    \u001b[49m\u001b[43mpath_parts\u001b[49m\u001b[38;5;241;43m=\u001b[39;49m\u001b[43m__path_parts\u001b[49m\u001b[43m,\u001b[49m\n\u001b[1;32m   2580\u001b[0m \u001b[43m\u001b[49m\u001b[43m)\u001b[49m\n",
      "File \u001b[0;32m~/venv/lib/python3.12/site-packages/elasticsearch/_sync/client/_base.py:271\u001b[0m, in \u001b[0;36mBaseClient.perform_request\u001b[0;34m(self, method, path, params, headers, body, endpoint_id, path_parts)\u001b[0m\n\u001b[1;32m    255\u001b[0m \u001b[38;5;28;01mdef\u001b[39;00m\u001b[38;5;250m \u001b[39m\u001b[38;5;21mperform_request\u001b[39m(\n\u001b[1;32m    256\u001b[0m     \u001b[38;5;28mself\u001b[39m,\n\u001b[1;32m    257\u001b[0m     method: \u001b[38;5;28mstr\u001b[39m,\n\u001b[0;32m   (...)\u001b[0m\n\u001b[1;32m    264\u001b[0m     path_parts: Optional[Mapping[\u001b[38;5;28mstr\u001b[39m, Any]] \u001b[38;5;241m=\u001b[39m \u001b[38;5;28;01mNone\u001b[39;00m,\n\u001b[1;32m    265\u001b[0m ) \u001b[38;5;241m-\u001b[39m\u001b[38;5;241m>\u001b[39m ApiResponse[Any]:\n\u001b[1;32m    266\u001b[0m     \u001b[38;5;28;01mwith\u001b[39;00m \u001b[38;5;28mself\u001b[39m\u001b[38;5;241m.\u001b[39m_otel\u001b[38;5;241m.\u001b[39mspan(\n\u001b[1;32m    267\u001b[0m         method,\n\u001b[1;32m    268\u001b[0m         endpoint_id\u001b[38;5;241m=\u001b[39mendpoint_id,\n\u001b[1;32m    269\u001b[0m         path_parts\u001b[38;5;241m=\u001b[39mpath_parts \u001b[38;5;129;01mor\u001b[39;00m {},\n\u001b[1;32m    270\u001b[0m     ) \u001b[38;5;28;01mas\u001b[39;00m otel_span:\n\u001b[0;32m--> 271\u001b[0m         response \u001b[38;5;241m=\u001b[39m \u001b[38;5;28;43mself\u001b[39;49m\u001b[38;5;241;43m.\u001b[39;49m\u001b[43m_perform_request\u001b[49m\u001b[43m(\u001b[49m\n\u001b[1;32m    272\u001b[0m \u001b[43m            \u001b[49m\u001b[43mmethod\u001b[49m\u001b[43m,\u001b[49m\n\u001b[1;32m    273\u001b[0m \u001b[43m            \u001b[49m\u001b[43mpath\u001b[49m\u001b[43m,\u001b[49m\n\u001b[1;32m    274\u001b[0m \u001b[43m            \u001b[49m\u001b[43mparams\u001b[49m\u001b[38;5;241;43m=\u001b[39;49m\u001b[43mparams\u001b[49m\u001b[43m,\u001b[49m\n\u001b[1;32m    275\u001b[0m \u001b[43m            \u001b[49m\u001b[43mheaders\u001b[49m\u001b[38;5;241;43m=\u001b[39;49m\u001b[43mheaders\u001b[49m\u001b[43m,\u001b[49m\n\u001b[1;32m    276\u001b[0m \u001b[43m            \u001b[49m\u001b[43mbody\u001b[49m\u001b[38;5;241;43m=\u001b[39;49m\u001b[43mbody\u001b[49m\u001b[43m,\u001b[49m\n\u001b[1;32m    277\u001b[0m \u001b[43m            \u001b[49m\u001b[43motel_span\u001b[49m\u001b[38;5;241;43m=\u001b[39;49m\u001b[43motel_span\u001b[49m\u001b[43m,\u001b[49m\n\u001b[1;32m    278\u001b[0m \u001b[43m        \u001b[49m\u001b[43m)\u001b[49m\n\u001b[1;32m    279\u001b[0m         otel_span\u001b[38;5;241m.\u001b[39mset_elastic_cloud_metadata(response\u001b[38;5;241m.\u001b[39mmeta\u001b[38;5;241m.\u001b[39mheaders)\n\u001b[1;32m    280\u001b[0m         \u001b[38;5;28;01mreturn\u001b[39;00m response\n",
      "File \u001b[0;32m~/venv/lib/python3.12/site-packages/elasticsearch/_sync/client/_base.py:316\u001b[0m, in \u001b[0;36mBaseClient._perform_request\u001b[0;34m(self, method, path, params, headers, body, otel_span)\u001b[0m\n\u001b[1;32m    313\u001b[0m \u001b[38;5;28;01melse\u001b[39;00m:\n\u001b[1;32m    314\u001b[0m     target \u001b[38;5;241m=\u001b[39m path\n\u001b[0;32m--> 316\u001b[0m meta, resp_body \u001b[38;5;241m=\u001b[39m \u001b[38;5;28;43mself\u001b[39;49m\u001b[38;5;241;43m.\u001b[39;49m\u001b[43mtransport\u001b[49m\u001b[38;5;241;43m.\u001b[39;49m\u001b[43mperform_request\u001b[49m\u001b[43m(\u001b[49m\n\u001b[1;32m    317\u001b[0m \u001b[43m    \u001b[49m\u001b[43mmethod\u001b[49m\u001b[43m,\u001b[49m\n\u001b[1;32m    318\u001b[0m \u001b[43m    \u001b[49m\u001b[43mtarget\u001b[49m\u001b[43m,\u001b[49m\n\u001b[1;32m    319\u001b[0m \u001b[43m    \u001b[49m\u001b[43mheaders\u001b[49m\u001b[38;5;241;43m=\u001b[39;49m\u001b[43mrequest_headers\u001b[49m\u001b[43m,\u001b[49m\n\u001b[1;32m    320\u001b[0m \u001b[43m    \u001b[49m\u001b[43mbody\u001b[49m\u001b[38;5;241;43m=\u001b[39;49m\u001b[43mbody\u001b[49m\u001b[43m,\u001b[49m\n\u001b[1;32m    321\u001b[0m \u001b[43m    \u001b[49m\u001b[43mrequest_timeout\u001b[49m\u001b[38;5;241;43m=\u001b[39;49m\u001b[38;5;28;43mself\u001b[39;49m\u001b[38;5;241;43m.\u001b[39;49m\u001b[43m_request_timeout\u001b[49m\u001b[43m,\u001b[49m\n\u001b[1;32m    322\u001b[0m \u001b[43m    \u001b[49m\u001b[43mmax_retries\u001b[49m\u001b[38;5;241;43m=\u001b[39;49m\u001b[38;5;28;43mself\u001b[39;49m\u001b[38;5;241;43m.\u001b[39;49m\u001b[43m_max_retries\u001b[49m\u001b[43m,\u001b[49m\n\u001b[1;32m    323\u001b[0m \u001b[43m    \u001b[49m\u001b[43mretry_on_status\u001b[49m\u001b[38;5;241;43m=\u001b[39;49m\u001b[38;5;28;43mself\u001b[39;49m\u001b[38;5;241;43m.\u001b[39;49m\u001b[43m_retry_on_status\u001b[49m\u001b[43m,\u001b[49m\n\u001b[1;32m    324\u001b[0m \u001b[43m    \u001b[49m\u001b[43mretry_on_timeout\u001b[49m\u001b[38;5;241;43m=\u001b[39;49m\u001b[38;5;28;43mself\u001b[39;49m\u001b[38;5;241;43m.\u001b[39;49m\u001b[43m_retry_on_timeout\u001b[49m\u001b[43m,\u001b[49m\n\u001b[1;32m    325\u001b[0m \u001b[43m    \u001b[49m\u001b[43mclient_meta\u001b[49m\u001b[38;5;241;43m=\u001b[39;49m\u001b[38;5;28;43mself\u001b[39;49m\u001b[38;5;241;43m.\u001b[39;49m\u001b[43m_client_meta\u001b[49m\u001b[43m,\u001b[49m\n\u001b[1;32m    326\u001b[0m \u001b[43m    \u001b[49m\u001b[43motel_span\u001b[49m\u001b[38;5;241;43m=\u001b[39;49m\u001b[43motel_span\u001b[49m\u001b[43m,\u001b[49m\n\u001b[1;32m    327\u001b[0m \u001b[43m\u001b[49m\u001b[43m)\u001b[49m\n\u001b[1;32m    329\u001b[0m \u001b[38;5;66;03m# HEAD with a 404 is returned as a normal response\u001b[39;00m\n\u001b[1;32m    330\u001b[0m \u001b[38;5;66;03m# since this is used as an 'exists' functionality.\u001b[39;00m\n\u001b[1;32m    331\u001b[0m \u001b[38;5;28;01mif\u001b[39;00m \u001b[38;5;129;01mnot\u001b[39;00m (method \u001b[38;5;241m==\u001b[39m \u001b[38;5;124m\"\u001b[39m\u001b[38;5;124mHEAD\u001b[39m\u001b[38;5;124m\"\u001b[39m \u001b[38;5;129;01mand\u001b[39;00m meta\u001b[38;5;241m.\u001b[39mstatus \u001b[38;5;241m==\u001b[39m \u001b[38;5;241m404\u001b[39m) \u001b[38;5;129;01mand\u001b[39;00m (\n\u001b[1;32m    332\u001b[0m     \u001b[38;5;129;01mnot\u001b[39;00m \u001b[38;5;241m200\u001b[39m \u001b[38;5;241m<\u001b[39m\u001b[38;5;241m=\u001b[39m meta\u001b[38;5;241m.\u001b[39mstatus \u001b[38;5;241m<\u001b[39m \u001b[38;5;241m299\u001b[39m\n\u001b[1;32m    333\u001b[0m     \u001b[38;5;129;01mand\u001b[39;00m (\n\u001b[0;32m   (...)\u001b[0m\n\u001b[1;32m    337\u001b[0m     )\n\u001b[1;32m    338\u001b[0m ):\n",
      "File \u001b[0;32m~/venv/lib/python3.12/site-packages/elastic_transport/_transport.py:342\u001b[0m, in \u001b[0;36mTransport.perform_request\u001b[0;34m(self, method, target, body, headers, max_retries, retry_on_status, retry_on_timeout, request_timeout, client_meta, otel_span)\u001b[0m\n\u001b[1;32m    340\u001b[0m \u001b[38;5;28;01mtry\u001b[39;00m:\n\u001b[1;32m    341\u001b[0m     otel_span\u001b[38;5;241m.\u001b[39mset_node_metadata(node\u001b[38;5;241m.\u001b[39mhost, node\u001b[38;5;241m.\u001b[39mport, node\u001b[38;5;241m.\u001b[39mbase_url, target)\n\u001b[0;32m--> 342\u001b[0m     resp \u001b[38;5;241m=\u001b[39m \u001b[43mnode\u001b[49m\u001b[38;5;241;43m.\u001b[39;49m\u001b[43mperform_request\u001b[49m\u001b[43m(\u001b[49m\n\u001b[1;32m    343\u001b[0m \u001b[43m        \u001b[49m\u001b[43mmethod\u001b[49m\u001b[43m,\u001b[49m\n\u001b[1;32m    344\u001b[0m \u001b[43m        \u001b[49m\u001b[43mtarget\u001b[49m\u001b[43m,\u001b[49m\n\u001b[1;32m    345\u001b[0m \u001b[43m        \u001b[49m\u001b[43mbody\u001b[49m\u001b[38;5;241;43m=\u001b[39;49m\u001b[43mrequest_body\u001b[49m\u001b[43m,\u001b[49m\n\u001b[1;32m    346\u001b[0m \u001b[43m        \u001b[49m\u001b[43mheaders\u001b[49m\u001b[38;5;241;43m=\u001b[39;49m\u001b[43mrequest_headers\u001b[49m\u001b[43m,\u001b[49m\n\u001b[1;32m    347\u001b[0m \u001b[43m        \u001b[49m\u001b[43mrequest_timeout\u001b[49m\u001b[38;5;241;43m=\u001b[39;49m\u001b[43mrequest_timeout\u001b[49m\u001b[43m,\u001b[49m\n\u001b[1;32m    348\u001b[0m \u001b[43m    \u001b[49m\u001b[43m)\u001b[49m\n\u001b[1;32m    349\u001b[0m     _logger\u001b[38;5;241m.\u001b[39minfo(\n\u001b[1;32m    350\u001b[0m         \u001b[38;5;124m\"\u001b[39m\u001b[38;5;132;01m%s\u001b[39;00m\u001b[38;5;124m \u001b[39m\u001b[38;5;132;01m%s\u001b[39;00m\u001b[38;5;132;01m%s\u001b[39;00m\u001b[38;5;124m [status:\u001b[39m\u001b[38;5;132;01m%s\u001b[39;00m\u001b[38;5;124m duration:\u001b[39m\u001b[38;5;132;01m%.3f\u001b[39;00m\u001b[38;5;124ms]\u001b[39m\u001b[38;5;124m\"\u001b[39m\n\u001b[1;32m    351\u001b[0m         \u001b[38;5;241m%\u001b[39m (\n\u001b[0;32m   (...)\u001b[0m\n\u001b[1;32m    357\u001b[0m         )\n\u001b[1;32m    358\u001b[0m     )\n\u001b[1;32m    360\u001b[0m     \u001b[38;5;28;01mif\u001b[39;00m method \u001b[38;5;241m!=\u001b[39m \u001b[38;5;124m\"\u001b[39m\u001b[38;5;124mHEAD\u001b[39m\u001b[38;5;124m\"\u001b[39m:\n",
      "File \u001b[0;32m~/venv/lib/python3.12/site-packages/elastic_transport/_node/_http_urllib3.py:167\u001b[0m, in \u001b[0;36mUrllib3HttpNode.perform_request\u001b[0;34m(self, method, target, body, headers, request_timeout)\u001b[0m\n\u001b[1;32m    164\u001b[0m \u001b[38;5;28;01melse\u001b[39;00m:\n\u001b[1;32m    165\u001b[0m     body_to_send \u001b[38;5;241m=\u001b[39m \u001b[38;5;28;01mNone\u001b[39;00m\n\u001b[0;32m--> 167\u001b[0m response \u001b[38;5;241m=\u001b[39m \u001b[38;5;28;43mself\u001b[39;49m\u001b[38;5;241;43m.\u001b[39;49m\u001b[43mpool\u001b[49m\u001b[38;5;241;43m.\u001b[39;49m\u001b[43murlopen\u001b[49m\u001b[43m(\u001b[49m\n\u001b[1;32m    168\u001b[0m \u001b[43m    \u001b[49m\u001b[43mmethod\u001b[49m\u001b[43m,\u001b[49m\n\u001b[1;32m    169\u001b[0m \u001b[43m    \u001b[49m\u001b[43mtarget\u001b[49m\u001b[43m,\u001b[49m\n\u001b[1;32m    170\u001b[0m \u001b[43m    \u001b[49m\u001b[43mbody\u001b[49m\u001b[38;5;241;43m=\u001b[39;49m\u001b[43mbody_to_send\u001b[49m\u001b[43m,\u001b[49m\n\u001b[1;32m    171\u001b[0m \u001b[43m    \u001b[49m\u001b[43mretries\u001b[49m\u001b[38;5;241;43m=\u001b[39;49m\u001b[43mRetry\u001b[49m\u001b[43m(\u001b[49m\u001b[38;5;28;43;01mFalse\u001b[39;49;00m\u001b[43m)\u001b[49m\u001b[43m,\u001b[49m\n\u001b[1;32m    172\u001b[0m \u001b[43m    \u001b[49m\u001b[43mheaders\u001b[49m\u001b[38;5;241;43m=\u001b[39;49m\u001b[43mrequest_headers\u001b[49m\u001b[43m,\u001b[49m\n\u001b[1;32m    173\u001b[0m \u001b[43m    \u001b[49m\u001b[38;5;241;43m*\u001b[39;49m\u001b[38;5;241;43m*\u001b[39;49m\u001b[43mkw\u001b[49m\u001b[43m,\u001b[49m\u001b[43m  \u001b[49m\u001b[38;5;66;43;03m# type: ignore[arg-type]\u001b[39;49;00m\n\u001b[1;32m    174\u001b[0m \u001b[43m\u001b[49m\u001b[43m)\u001b[49m\n\u001b[1;32m    175\u001b[0m response_headers \u001b[38;5;241m=\u001b[39m HttpHeaders(response\u001b[38;5;241m.\u001b[39mheaders)\n\u001b[1;32m    176\u001b[0m data \u001b[38;5;241m=\u001b[39m response\u001b[38;5;241m.\u001b[39mdata\n",
      "File \u001b[0;32m~/venv/lib/python3.12/site-packages/urllib3/connectionpool.py:787\u001b[0m, in \u001b[0;36mHTTPConnectionPool.urlopen\u001b[0;34m(self, method, url, body, headers, retries, redirect, assert_same_host, timeout, pool_timeout, release_conn, chunked, body_pos, preload_content, decode_content, **response_kw)\u001b[0m\n\u001b[1;32m    784\u001b[0m response_conn \u001b[38;5;241m=\u001b[39m conn \u001b[38;5;28;01mif\u001b[39;00m \u001b[38;5;129;01mnot\u001b[39;00m release_conn \u001b[38;5;28;01melse\u001b[39;00m \u001b[38;5;28;01mNone\u001b[39;00m\n\u001b[1;32m    786\u001b[0m \u001b[38;5;66;03m# Make the request on the HTTPConnection object\u001b[39;00m\n\u001b[0;32m--> 787\u001b[0m response \u001b[38;5;241m=\u001b[39m \u001b[38;5;28;43mself\u001b[39;49m\u001b[38;5;241;43m.\u001b[39;49m\u001b[43m_make_request\u001b[49m\u001b[43m(\u001b[49m\n\u001b[1;32m    788\u001b[0m \u001b[43m    \u001b[49m\u001b[43mconn\u001b[49m\u001b[43m,\u001b[49m\n\u001b[1;32m    789\u001b[0m \u001b[43m    \u001b[49m\u001b[43mmethod\u001b[49m\u001b[43m,\u001b[49m\n\u001b[1;32m    790\u001b[0m \u001b[43m    \u001b[49m\u001b[43murl\u001b[49m\u001b[43m,\u001b[49m\n\u001b[1;32m    791\u001b[0m \u001b[43m    \u001b[49m\u001b[43mtimeout\u001b[49m\u001b[38;5;241;43m=\u001b[39;49m\u001b[43mtimeout_obj\u001b[49m\u001b[43m,\u001b[49m\n\u001b[1;32m    792\u001b[0m \u001b[43m    \u001b[49m\u001b[43mbody\u001b[49m\u001b[38;5;241;43m=\u001b[39;49m\u001b[43mbody\u001b[49m\u001b[43m,\u001b[49m\n\u001b[1;32m    793\u001b[0m \u001b[43m    \u001b[49m\u001b[43mheaders\u001b[49m\u001b[38;5;241;43m=\u001b[39;49m\u001b[43mheaders\u001b[49m\u001b[43m,\u001b[49m\n\u001b[1;32m    794\u001b[0m \u001b[43m    \u001b[49m\u001b[43mchunked\u001b[49m\u001b[38;5;241;43m=\u001b[39;49m\u001b[43mchunked\u001b[49m\u001b[43m,\u001b[49m\n\u001b[1;32m    795\u001b[0m \u001b[43m    \u001b[49m\u001b[43mretries\u001b[49m\u001b[38;5;241;43m=\u001b[39;49m\u001b[43mretries\u001b[49m\u001b[43m,\u001b[49m\n\u001b[1;32m    796\u001b[0m \u001b[43m    \u001b[49m\u001b[43mresponse_conn\u001b[49m\u001b[38;5;241;43m=\u001b[39;49m\u001b[43mresponse_conn\u001b[49m\u001b[43m,\u001b[49m\n\u001b[1;32m    797\u001b[0m \u001b[43m    \u001b[49m\u001b[43mpreload_content\u001b[49m\u001b[38;5;241;43m=\u001b[39;49m\u001b[43mpreload_content\u001b[49m\u001b[43m,\u001b[49m\n\u001b[1;32m    798\u001b[0m \u001b[43m    \u001b[49m\u001b[43mdecode_content\u001b[49m\u001b[38;5;241;43m=\u001b[39;49m\u001b[43mdecode_content\u001b[49m\u001b[43m,\u001b[49m\n\u001b[1;32m    799\u001b[0m \u001b[43m    \u001b[49m\u001b[38;5;241;43m*\u001b[39;49m\u001b[38;5;241;43m*\u001b[39;49m\u001b[43mresponse_kw\u001b[49m\u001b[43m,\u001b[49m\n\u001b[1;32m    800\u001b[0m \u001b[43m\u001b[49m\u001b[43m)\u001b[49m\n\u001b[1;32m    802\u001b[0m \u001b[38;5;66;03m# Everything went great!\u001b[39;00m\n\u001b[1;32m    803\u001b[0m clean_exit \u001b[38;5;241m=\u001b[39m \u001b[38;5;28;01mTrue\u001b[39;00m\n",
      "File \u001b[0;32m~/venv/lib/python3.12/site-packages/urllib3/connectionpool.py:534\u001b[0m, in \u001b[0;36mHTTPConnectionPool._make_request\u001b[0;34m(self, conn, method, url, body, headers, retries, timeout, chunked, response_conn, preload_content, decode_content, enforce_content_length)\u001b[0m\n\u001b[1;32m    532\u001b[0m \u001b[38;5;66;03m# Receive the response from the server\u001b[39;00m\n\u001b[1;32m    533\u001b[0m \u001b[38;5;28;01mtry\u001b[39;00m:\n\u001b[0;32m--> 534\u001b[0m     response \u001b[38;5;241m=\u001b[39m \u001b[43mconn\u001b[49m\u001b[38;5;241;43m.\u001b[39;49m\u001b[43mgetresponse\u001b[49m\u001b[43m(\u001b[49m\u001b[43m)\u001b[49m\n\u001b[1;32m    535\u001b[0m \u001b[38;5;28;01mexcept\u001b[39;00m (BaseSSLError, \u001b[38;5;167;01mOSError\u001b[39;00m) \u001b[38;5;28;01mas\u001b[39;00m e:\n\u001b[1;32m    536\u001b[0m     \u001b[38;5;28mself\u001b[39m\u001b[38;5;241m.\u001b[39m_raise_timeout(err\u001b[38;5;241m=\u001b[39me, url\u001b[38;5;241m=\u001b[39murl, timeout_value\u001b[38;5;241m=\u001b[39mread_timeout)\n",
      "File \u001b[0;32m~/venv/lib/python3.12/site-packages/urllib3/connection.py:516\u001b[0m, in \u001b[0;36mHTTPConnection.getresponse\u001b[0;34m(self)\u001b[0m\n\u001b[1;32m    513\u001b[0m _shutdown \u001b[38;5;241m=\u001b[39m \u001b[38;5;28mgetattr\u001b[39m(\u001b[38;5;28mself\u001b[39m\u001b[38;5;241m.\u001b[39msock, \u001b[38;5;124m\"\u001b[39m\u001b[38;5;124mshutdown\u001b[39m\u001b[38;5;124m\"\u001b[39m, \u001b[38;5;28;01mNone\u001b[39;00m)\n\u001b[1;32m    515\u001b[0m \u001b[38;5;66;03m# Get the response from http.client.HTTPConnection\u001b[39;00m\n\u001b[0;32m--> 516\u001b[0m httplib_response \u001b[38;5;241m=\u001b[39m \u001b[38;5;28;43msuper\u001b[39;49m\u001b[43m(\u001b[49m\u001b[43m)\u001b[49m\u001b[38;5;241;43m.\u001b[39;49m\u001b[43mgetresponse\u001b[49m\u001b[43m(\u001b[49m\u001b[43m)\u001b[49m\n\u001b[1;32m    518\u001b[0m \u001b[38;5;28;01mtry\u001b[39;00m:\n\u001b[1;32m    519\u001b[0m     assert_header_parsing(httplib_response\u001b[38;5;241m.\u001b[39mmsg)\n",
      "File \u001b[0;32m/usr/lib/python3.12/http/client.py:1428\u001b[0m, in \u001b[0;36mHTTPConnection.getresponse\u001b[0;34m(self)\u001b[0m\n\u001b[1;32m   1426\u001b[0m \u001b[38;5;28;01mtry\u001b[39;00m:\n\u001b[1;32m   1427\u001b[0m     \u001b[38;5;28;01mtry\u001b[39;00m:\n\u001b[0;32m-> 1428\u001b[0m         \u001b[43mresponse\u001b[49m\u001b[38;5;241;43m.\u001b[39;49m\u001b[43mbegin\u001b[49m\u001b[43m(\u001b[49m\u001b[43m)\u001b[49m\n\u001b[1;32m   1429\u001b[0m     \u001b[38;5;28;01mexcept\u001b[39;00m \u001b[38;5;167;01mConnectionError\u001b[39;00m:\n\u001b[1;32m   1430\u001b[0m         \u001b[38;5;28mself\u001b[39m\u001b[38;5;241m.\u001b[39mclose()\n",
      "File \u001b[0;32m/usr/lib/python3.12/http/client.py:331\u001b[0m, in \u001b[0;36mHTTPResponse.begin\u001b[0;34m(self)\u001b[0m\n\u001b[1;32m    329\u001b[0m \u001b[38;5;66;03m# read until we get a non-100 response\u001b[39;00m\n\u001b[1;32m    330\u001b[0m \u001b[38;5;28;01mwhile\u001b[39;00m \u001b[38;5;28;01mTrue\u001b[39;00m:\n\u001b[0;32m--> 331\u001b[0m     version, status, reason \u001b[38;5;241m=\u001b[39m \u001b[38;5;28;43mself\u001b[39;49m\u001b[38;5;241;43m.\u001b[39;49m\u001b[43m_read_status\u001b[49m\u001b[43m(\u001b[49m\u001b[43m)\u001b[49m\n\u001b[1;32m    332\u001b[0m     \u001b[38;5;28;01mif\u001b[39;00m status \u001b[38;5;241m!=\u001b[39m CONTINUE:\n\u001b[1;32m    333\u001b[0m         \u001b[38;5;28;01mbreak\u001b[39;00m\n",
      "File \u001b[0;32m/usr/lib/python3.12/http/client.py:292\u001b[0m, in \u001b[0;36mHTTPResponse._read_status\u001b[0;34m(self)\u001b[0m\n\u001b[1;32m    291\u001b[0m \u001b[38;5;28;01mdef\u001b[39;00m\u001b[38;5;250m \u001b[39m\u001b[38;5;21m_read_status\u001b[39m(\u001b[38;5;28mself\u001b[39m):\n\u001b[0;32m--> 292\u001b[0m     line \u001b[38;5;241m=\u001b[39m \u001b[38;5;28mstr\u001b[39m(\u001b[38;5;28;43mself\u001b[39;49m\u001b[38;5;241;43m.\u001b[39;49m\u001b[43mfp\u001b[49m\u001b[38;5;241;43m.\u001b[39;49m\u001b[43mreadline\u001b[49m\u001b[43m(\u001b[49m\u001b[43m_MAXLINE\u001b[49m\u001b[43m \u001b[49m\u001b[38;5;241;43m+\u001b[39;49m\u001b[43m \u001b[49m\u001b[38;5;241;43m1\u001b[39;49m\u001b[43m)\u001b[49m, \u001b[38;5;124m\"\u001b[39m\u001b[38;5;124miso-8859-1\u001b[39m\u001b[38;5;124m\"\u001b[39m)\n\u001b[1;32m    293\u001b[0m     \u001b[38;5;28;01mif\u001b[39;00m \u001b[38;5;28mlen\u001b[39m(line) \u001b[38;5;241m>\u001b[39m _MAXLINE:\n\u001b[1;32m    294\u001b[0m         \u001b[38;5;28;01mraise\u001b[39;00m LineTooLong(\u001b[38;5;124m\"\u001b[39m\u001b[38;5;124mstatus line\u001b[39m\u001b[38;5;124m\"\u001b[39m)\n",
      "File \u001b[0;32m/usr/lib/python3.12/socket.py:707\u001b[0m, in \u001b[0;36mSocketIO.readinto\u001b[0;34m(self, b)\u001b[0m\n\u001b[1;32m    705\u001b[0m \u001b[38;5;28;01mwhile\u001b[39;00m \u001b[38;5;28;01mTrue\u001b[39;00m:\n\u001b[1;32m    706\u001b[0m     \u001b[38;5;28;01mtry\u001b[39;00m:\n\u001b[0;32m--> 707\u001b[0m         \u001b[38;5;28;01mreturn\u001b[39;00m \u001b[38;5;28;43mself\u001b[39;49m\u001b[38;5;241;43m.\u001b[39;49m\u001b[43m_sock\u001b[49m\u001b[38;5;241;43m.\u001b[39;49m\u001b[43mrecv_into\u001b[49m\u001b[43m(\u001b[49m\u001b[43mb\u001b[49m\u001b[43m)\u001b[49m\n\u001b[1;32m    708\u001b[0m     \u001b[38;5;28;01mexcept\u001b[39;00m timeout:\n\u001b[1;32m    709\u001b[0m         \u001b[38;5;28mself\u001b[39m\u001b[38;5;241m.\u001b[39m_timeout_occurred \u001b[38;5;241m=\u001b[39m \u001b[38;5;28;01mTrue\u001b[39;00m\n",
      "\u001b[0;31mKeyboardInterrupt\u001b[0m: "
     ]
    }
   ],
   "source": [
    "import psutil\n",
    "from datetime import datetime\n",
    "\n",
    "index_alias = 'cpu_example_template'\n",
    "while True:\n",
    "    document = {\n",
    "        '@timestamp': datetime.utcnow(),\n",
    "        'cpu_usage': psutil.cpu_percent(interval=0.1),\n",
    "        'cpu_name': 'i7-13650HX'\n",
    "    }\n",
    "    es.index(index=index_alias, document=document, refresh=True)"
   ]
  },
  {
   "cell_type": "markdown",
   "id": "9d26197a-49a7-4f43-8863-ba982b482992",
   "metadata": {},
   "source": [
    "### Analyzers\n",
    "\n",
    "**character filters**\n",
    "\n",
    "zaczynamy od html strip character filter"
   ]
  },
  {
   "cell_type": "code",
   "execution_count": 12,
   "id": "001ed38c-9a94-45fa-910b-cc71e6e4f930",
   "metadata": {},
   "outputs": [
    {
     "name": "stdout",
     "output_type": "stream",
     "text": [
      "{'tokens': [{'end_offset': 26,\n",
      "             'position': 0,\n",
      "             'start_offset': 0,\n",
      "             'token': \"I'm so happy!\\n\",\n",
      "             'type': 'word'}]}\n"
     ]
    }
   ],
   "source": [
    "response = es.indices.analyze(\n",
    "    char_filter=[\n",
    "        \"html_strip\"\n",
    "    ],\n",
    "    text=\"I&apos;m so happy</b>!</p>\",\n",
    ")\n",
    "pprint(response.body)"
   ]
  },
  {
   "cell_type": "markdown",
   "id": "f294cf97-564f-46f1-ab6e-222539366e97",
   "metadata": {},
   "source": [
    "**Mapping character filter**\n",
    "\n",
    "to jest po prostu podmiana"
   ]
  },
  {
   "cell_type": "code",
   "execution_count": 14,
   "id": "ece6172e-9b5c-48ba-ba63-dfc505e26c32",
   "metadata": {},
   "outputs": [
    {
     "name": "stdout",
     "output_type": "stream",
     "text": [
      "{'tokens': [{'end_offset': 17,\n",
      "             'position': 0,\n",
      "             'start_offset': 0,\n",
      "             'token': 'OLEK Homa nie',\n",
      "             'type': 'word'}]}\n"
     ]
    }
   ],
   "source": [
    "response = es.indices.analyze(\n",
    "    tokenizer=\"keyword\",\n",
    "    char_filter=[\n",
    "        {\n",
    "            \"type\": \"mapping\",\n",
    "            \"mappings\": [\n",
    "                \"olek => OLEK\",\n",
    "                \"homa => Homa\",\n",
    "                \"agencik => nie\"\n",
    "            ]\n",
    "    }\n",
    "    ],\n",
    "    text=\"olek homa agencik\"\n",
    ")\n",
    "pprint(response.body)"
   ]
  },
  {
   "cell_type": "markdown",
   "id": "f74e14d6-d8e9-4407-88e2-000d24d4f70e",
   "metadata": {},
   "source": [
    "**Tokenizer**\n",
    "\n",
    "najpierw standard\n",
    "\n",
    "jak widać, podzielil nam tekst na tokeny, gdzie kazdy z nich ma swoj typ"
   ]
  },
  {
   "cell_type": "code",
   "execution_count": 17,
   "id": "8c580cac-6e45-484b-99fc-51d23435fab5",
   "metadata": {},
   "outputs": [
    {
     "name": "stdout",
     "output_type": "stream",
     "text": [
      "Token: The, Type: <ALPHANUM>\n",
      "Token: 2, Type: <NUM>\n",
      "Token: QUICK, Type: <ALPHANUM>\n",
      "Token: Brown, Type: <ALPHANUM>\n",
      "Token: Foxes, Type: <ALPHANUM>\n",
      "Token: jumped, Type: <ALPHANUM>\n",
      "Token: over, Type: <ALPHANUM>\n",
      "Token: the, Type: <ALPHANUM>\n",
      "Token: lazy, Type: <ALPHANUM>\n",
      "Token: dog's, Type: <ALPHANUM>\n",
      "Token: bone, Type: <ALPHANUM>\n"
     ]
    }
   ],
   "source": [
    "response = es.indices.analyze(\n",
    "    tokenizer=\"standard\",\n",
    "    text=\"The 2 QUICK Brown-Foxes jumped over the lazy dog's bone.\"\n",
    ")\n",
    "tokens = response.body['tokens']\n",
    "for token in tokens:\n",
    "    print(f'Token: {token['token']}, Type: {token['type']}')"
   ]
  },
  {
   "cell_type": "markdown",
   "id": "2e783cab-f0bb-4c18-8f81-ee0910359f7b",
   "metadata": {},
   "source": [
    "teraz lowercase\n",
    "\n",
    "jak widać prawie to samo tylko mamy lowercased napis, plus usuniete sa liczby"
   ]
  },
  {
   "cell_type": "code",
   "execution_count": 19,
   "id": "d666c4c2-655b-4c10-ae38-f7eccca9605b",
   "metadata": {},
   "outputs": [
    {
     "name": "stdout",
     "output_type": "stream",
     "text": [
      "Token: the, Type: word\n",
      "Token: quick, Type: word\n",
      "Token: brown, Type: word\n",
      "Token: foxes, Type: word\n",
      "Token: jumped, Type: word\n",
      "Token: over, Type: word\n",
      "Token: the, Type: word\n",
      "Token: lazy, Type: word\n",
      "Token: dog, Type: word\n",
      "Token: s, Type: word\n",
      "Token: bone, Type: word\n"
     ]
    }
   ],
   "source": [
    "response = es.indices.analyze(\n",
    "    tokenizer=\"lowercase\",\n",
    "    text=\"The 2 QUICK Brown-Foxes jumped over the lazy dog's bone.\"\n",
    ")\n",
    "tokens = response.body['tokens']\n",
    "for token in tokens:\n",
    "    print(f'Token: {token['token']}, Type: {token['type']}')"
   ]
  },
  {
   "cell_type": "markdown",
   "id": "02c5c2e2-187c-4e3d-a44c-93001b022bc7",
   "metadata": {},
   "source": [
    "whitespace\n",
    "\n",
    "to po prostu laczy tekst w tokeny na podstawie bialych znakow"
   ]
  },
  {
   "cell_type": "code",
   "execution_count": 21,
   "id": "df53fc75-6a43-422d-bf74-5e8cae2cfc2c",
   "metadata": {},
   "outputs": [
    {
     "name": "stdout",
     "output_type": "stream",
     "text": [
      "Token: The, Type: word\n",
      "Token: 2, Type: word\n",
      "Token: QUICK, Type: word\n",
      "Token: Brown-Foxes, Type: word\n",
      "Token: jumped, Type: word\n",
      "Token: over, Type: word\n",
      "Token: the, Type: word\n",
      "Token: lazy, Type: word\n",
      "Token: dog's, Type: word\n",
      "Token: bone., Type: word\n"
     ]
    }
   ],
   "source": [
    "response = es.indices.analyze(\n",
    "    tokenizer=\"whitespace\",\n",
    "    text=\"The 2 QUICK Brown-Foxes jumped over the lazy dog's bone.\"\n",
    ")\n",
    "tokens = response.body['tokens']\n",
    "for token in tokens:\n",
    "    print(f'Token: {token['token']}, Type: {token['type']}')"
   ]
  },
  {
   "cell_type": "markdown",
   "id": "f75c2ca9-60fa-4b09-81f2-55b17dd76141",
   "metadata": {},
   "source": [
    "**token filter**\n",
    "\n",
    "apostrophe\n",
    "\n",
    "tutaj najpierw dzielimy text na tokeny tak jak wczesniej, a potem na nich dzialamy"
   ]
  },
  {
   "cell_type": "code",
   "execution_count": 23,
   "id": "4853287b-f0be-4fd7-b4a3-844997e45362",
   "metadata": {},
   "outputs": [
    {
     "name": "stdout",
     "output_type": "stream",
     "text": [
      "Token: The, Type: <ALPHANUM>\n",
      "Token: 2, Type: <NUM>\n",
      "Token: QUICK, Type: <ALPHANUM>\n",
      "Token: Brown, Type: <ALPHANUM>\n",
      "Token: Foxes, Type: <ALPHANUM>\n",
      "Token: jumped, Type: <ALPHANUM>\n",
      "Token: over, Type: <ALPHANUM>\n",
      "Token: the, Type: <ALPHANUM>\n",
      "Token: lazy, Type: <ALPHANUM>\n",
      "Token: dog, Type: <ALPHANUM>\n",
      "Token: bone, Type: <ALPHANUM>\n"
     ]
    }
   ],
   "source": [
    "response = es.indices.analyze(\n",
    "    tokenizer=\"standard\",\n",
    "    filter=[\n",
    "        \"apostrophe\"\n",
    "    ],\n",
    "    text=\"The 2 QUICK Brown-Foxes jumped over the lazy dog's bone.\"\n",
    ")\n",
    "tokens = response.body['tokens']\n",
    "for token in tokens:\n",
    "    print(f'Token: {token['token']}, Type: {token['type']}')"
   ]
  },
  {
   "cell_type": "markdown",
   "id": "f9a7e77d-9bd6-4977-802f-0e02d628ef57",
   "metadata": {},
   "source": [
    "### Built-in analyzers\n",
    "\n",
    "standardowy lowercases i splits"
   ]
  },
  {
   "cell_type": "code",
   "execution_count": 26,
   "id": "c1fb1d20-8263-40d9-9692-da00f56946e8",
   "metadata": {},
   "outputs": [
    {
     "name": "stdout",
     "output_type": "stream",
     "text": [
      "Token: i\n",
      "Token: saw\n",
      "Token: comet\n",
      "Token: tsuchinshan\n",
      "Token: atlas\n",
      "Token: in\n",
      "Token: 2025\n"
     ]
    }
   ],
   "source": [
    "response = es.indices.analyze(\n",
    "    analyzer=\"standard\",\n",
    "    text=\"I saw comet Tsuchinshan Atlas in 2025\"\n",
    ")\n",
    "tokens = response.body['tokens']\n",
    "for token in tokens:\n",
    "    print(f'Token: {token['token']}')"
   ]
  },
  {
   "cell_type": "markdown",
   "id": "be82c9e6-45a4-48a0-9193-e528f593636e",
   "metadata": {},
   "source": [
    "STop analyzer usuwa stop words plus lowercase"
   ]
  },
  {
   "cell_type": "code",
   "execution_count": 27,
   "id": "6f8a1039-296f-48fc-905d-69dc24071232",
   "metadata": {},
   "outputs": [
    {
     "name": "stdout",
     "output_type": "stream",
     "text": [
      "Token: i\n",
      "Token: saw\n",
      "Token: comet\n",
      "Token: tsuchinshan\n",
      "Token: atlas\n"
     ]
    }
   ],
   "source": [
    "response = es.indices.analyze(\n",
    "    analyzer=\"stop\",\n",
    "    text=\"I saw comet Tsuchinshan Atlas in 2025\"\n",
    ")\n",
    "tokens = response.body['tokens']\n",
    "for token in tokens:\n",
    "    print(f'Token: {token['token']}')"
   ]
  },
  {
   "cell_type": "markdown",
   "id": "134ff5e4-e56f-4236-9ab0-c1d0430f8f79",
   "metadata": {},
   "source": [
    "keyword\n",
    "\n",
    "traktuje cały tekst jako jeden token"
   ]
  },
  {
   "cell_type": "code",
   "execution_count": 28,
   "id": "e9028a70-3b33-42af-b4eb-c00315ef96d2",
   "metadata": {},
   "outputs": [
    {
     "name": "stdout",
     "output_type": "stream",
     "text": [
      "Token: I saw comet Tsuchinshan Atlas in 2025\n"
     ]
    }
   ],
   "source": [
    "response = es.indices.analyze(\n",
    "    analyzer=\"keyword\",\n",
    "    text=\"I saw comet Tsuchinshan Atlas in 2025\"\n",
    ")\n",
    "tokens = response.body['tokens']\n",
    "for token in tokens:\n",
    "    print(f'Token: {token['token']}')"
   ]
  },
  {
   "cell_type": "markdown",
   "id": "0cde6ae7-6264-4dda-8c32-5d686d4db49c",
   "metadata": {},
   "source": [
    "wiadomo, że analyzes is done both in index time and search time, pora poznac różnice\n",
    "\n",
    "zrobimy sobie index-time analysis, w settings dictionary mamy analysis faze, ktora pokazuje jak sb radzic z tekstem <br>\n",
    "**Index time**"
   ]
  },
  {
   "cell_type": "code",
   "execution_count": 30,
   "id": "82df0327-1f66-431e-9cd7-7a55b3687e4f",
   "metadata": {},
   "outputs": [
    {
     "name": "stdout",
     "output_type": "stream",
     "text": [
      "{'_id': '1',\n",
      " '_index': 'index_time_example',\n",
      " '_primary_term': 1,\n",
      " '_seq_no': 0,\n",
      " '_shards': {'failed': 0, 'successful': 1, 'total': 2},\n",
      " '_version': 1,\n",
      " 'result': 'created'}\n"
     ]
    }
   ],
   "source": [
    "index_name = \"index_time_example\"\n",
    "settings = {\n",
    "    \"settings\": { # tworzymy settings dictionary\n",
    "        \"analysis\": { # tu bedzie analysis\n",
    "            \"char_filter\": { # robimy char_filter\n",
    "                \"ampersand_replacement\": { # o nazwie takiej \n",
    "                    \"type\": \"mapping\", # ktora robi mapping \n",
    "                    \"mappings\": [\"& => and\"] # robiac taka zamiane\n",
    "                }\n",
    "            },\n",
    "            \"analyzer\": { # pozniej kolejny analyzer\n",
    "                \"custom_index_analyzer\": { # o takiej nazwie, nasz customowy\n",
    "                    \"type\": \"custom\", # customowy typ, bo to nasz analyzer jest\n",
    "                    \"char_filter\": [\"html_strip\", \"ampersand_replacement\"], # ktory robi te dwie rzeczy\n",
    "                    \"tokenizer\": \"standard\", # standardowo tokenizujemy\n",
    "                    \"filter\": [\"lowercase\"] # i robimy lowercase tez\n",
    "                }\n",
    "            }\n",
    "        }\n",
    "    },\n",
    "    \"mappings\": { # tu po prostu robimy mapping do tworzenia indexu\n",
    "        \"properties\": {\n",
    "            \"content\": {\n",
    "                \"type\": \"text\",\n",
    "                \"analyzer\": \"custom_index_analyzer\"\n",
    "            }\n",
    "        }\n",
    "    }\n",
    "}\n",
    "\n",
    "es.indices.delete(index=index_name, ignore_unavailable=True)\n",
    "es.indices.create(index=index_name, body=settings)\n",
    "\n",
    "document = {\n",
    "    \"content\": \"Visit my website https://myuniversehub.com/ & like some images!\"}\n",
    "response = es.index(index=index_name, id=1, body=document)\n",
    "pprint(response.body)"
   ]
  },
  {
   "cell_type": "markdown",
   "id": "c9de9e2c-f545-4b20-8eab-71ef0130e974",
   "metadata": {},
   "source": [
    "teraz jak wyszukamy ten nasz dokument, to okaże się że nie ma w nim żadnej zmiany. \n",
    "\n",
    "Ponieważ ES trzyma zmienione dokumenty w inverted index oryginalny zostawiając ten sam"
   ]
  },
  {
   "cell_type": "code",
   "execution_count": 32,
   "id": "9e1fd5be-87a2-4b55-ba69-f42461b6a594",
   "metadata": {},
   "outputs": [
    {
     "name": "stdout",
     "output_type": "stream",
     "text": [
      "{'content': 'Visit my website https://myuniversehub.com/ & like some images!'}\n"
     ]
    }
   ],
   "source": [
    "response = es.search(index=index_name, body={\"query\": {\"match_all\": {}}})\n",
    "hits = response.body['hits']['hits']\n",
    "\n",
    "for hit in hits:\n",
    "    pprint(hit['_source'])"
   ]
  },
  {
   "cell_type": "markdown",
   "id": "a57adf1b-0052-421b-9fa3-3a89eb91191f",
   "metadata": {},
   "source": [
    "teraz możemy użyć analyzera, ktory sami wczesniej stworzylismy poprzez index_name"
   ]
  },
  {
   "cell_type": "code",
   "execution_count": 33,
   "id": "c0892ac4-b497-446b-adf5-c405c8beb598",
   "metadata": {},
   "outputs": [
    {
     "name": "stdout",
     "output_type": "stream",
     "text": [
      "Token: visit\n",
      "Token: my\n",
      "Token: website\n",
      "Token: https\n",
      "Token: myuniversehub.com\n",
      "Token: and\n",
      "Token: like\n",
      "Token: some\n",
      "Token: images\n"
     ]
    }
   ],
   "source": [
    "response = es.indices.analyze(\n",
    "    index=index_name,\n",
    "    body={\n",
    "        \"field\": \"content\",\n",
    "        \"text\": \"Visit my website https://myuniversehub.com/ & like some images!\"\n",
    "    }\n",
    ")\n",
    "\n",
    "tokens = response.body['tokens']\n",
    "for token in tokens:\n",
    "    print(f'Token: {token['token']}')"
   ]
  },
  {
   "cell_type": "markdown",
   "id": "78e98576-4a21-40a3-b7ba-012f8444f75d",
   "metadata": {},
   "source": [
    "teraz jest gites"
   ]
  },
  {
   "cell_type": "markdown",
   "id": "43d9dcfb-1978-4e6e-a9a5-b3f02742e4ff",
   "metadata": {},
   "source": [
    "**Search time**\n",
    "\n",
    "search-time analysis transforms text tylko gdy wykonywane jest jakieś zapytanie, a nie gdy dane są indeksowae. <br>\n",
    "Tutaj zrobimy search z search-time analyzer "
   ]
  },
  {
   "cell_type": "code",
   "execution_count": 37,
   "id": "20a5c74b-d297-4d82-aba4-4f41f8d87587",
   "metadata": {},
   "outputs": [
    {
     "name": "stdout",
     "output_type": "stream",
     "text": [
      "{'content': 'Visit my website https://myuniversehub.com/ & like some images!'}\n"
     ]
    }
   ],
   "source": [
    "response = es.search(index=index_name, body={\n",
    "    \"query\": {\n",
    "        \"match\": {\n",
    "            \"content\": {\n",
    "                \"query\": \"myuniversehub.com\",\n",
    "                \"analyzer\": \"standard\"\n",
    "            }\n",
    "        }\n",
    "    }\n",
    "}\n",
    "                    )\n",
    "\n",
    "hits = response.body['hits']['hits']\n",
    "for hit in hits:\n",
    "    print(hit['_source'])"
   ]
  },
  {
   "cell_type": "code",
   "execution_count": 35,
   "id": "a1209cd5-dc82-4919-9f0d-c9b8f13ed726",
   "metadata": {},
   "outputs": [
    {
     "name": "stdout",
     "output_type": "stream",
     "text": [
      "{'content': 'Visit my website https://myuniversehub.com/ & like some images!'}\n"
     ]
    }
   ],
   "source": [
    "response = es.search(index=index_name, body=\n",
    "                     {\n",
    "                         \"query\": {\n",
    "                             \"match_all\" : {}}})\n",
    "hits = response.body['hits']['hits']\n",
    "for hit in hits:\n",
    "    print(hit['_source'])"
   ]
  },
  {
   "cell_type": "markdown",
   "id": "f73cc372-7e38-4882-898a-8884bb379e40",
   "metadata": {},
   "source": [
    "### Synonyms\n",
    "\n",
    "najpierw musimy je ustawić"
   ]
  },
  {
   "cell_type": "code",
   "execution_count": 40,
   "id": "cc4d76ef-f542-4fe3-b6e3-7ee8fb9f2fd6",
   "metadata": {},
   "outputs": [
    {
     "name": "stdout",
     "output_type": "stream",
     "text": [
      "{'acknowledged': True, 'index': 'my_synonym_index', 'shards_acknowledged': True}\n"
     ]
    }
   ],
   "source": [
    "settings = {\n",
    "    \"settings\": {\n",
    "        \"analysis\": {\n",
    "            \"filter\": {\n",
    "                \"synonym_filter\": {\n",
    "                    \"type\": \"synonym\",\n",
    "                    \"synonyms\": [\n",
    "                        \"car, automobile, vehicle\",\n",
    "                        \"tv, television\",\n",
    "                        \"smartphone, mobile, cell phone\",\n",
    "                        \"jupyter, jupyter notebook, jupyterlab\",\n",
    "                        \"jupiter, mars, earth, venus, mercury, saturn, uranus, neptune => planet\"\n",
    "                    ]\n",
    "                }\n",
    "            },\n",
    "            \"analyzer\": {\n",
    "                \"synonym_analyzer\": {\n",
    "                    \"tokenizer\": \"standard\",\n",
    "                    \"filter\": [\n",
    "                        \"lowercase\",\n",
    "                        \"synonym_filter\"\n",
    "                    ]\n",
    "                }\n",
    "            }\n",
    "        }\n",
    "    },\n",
    "    \"mappings\": {\n",
    "        \"properties\": {\n",
    "            \"description\": {\n",
    "                \"type\": \"text\",\n",
    "                \"analyzer\": \"synonym_analyzer\"\n",
    "            }\n",
    "        }\n",
    "    }\n",
    "}\n",
    "\n",
    "index_name = \"my_synonym_index\"\n",
    "es.indices.delete(index=index_name, ignore_unavailable=True)\n",
    "response = es.indices.create(index=index_name, body=settings)\n",
    "pprint(response.body)"
   ]
  },
  {
   "cell_type": "markdown",
   "id": "2b2f271b-38f4-44c6-9a36-60bc782acc4d",
   "metadata": {},
   "source": [
    "mając stworzony index musimy dodać dokumenty, oczywiscie uzywajac bulk api"
   ]
  },
  {
   "cell_type": "code",
   "execution_count": 42,
   "id": "3f7fd23b-edd5-436a-9a58-9f5fce271823",
   "metadata": {},
   "outputs": [
    {
     "name": "stdout",
     "output_type": "stream",
     "text": [
      "{'errors': False,\n",
      " 'items': [{'index': {'_id': '154lC5UBI2TJsjHOAbB6',\n",
      "                      '_index': 'my_synonym_index',\n",
      "                      '_primary_term': 1,\n",
      "                      '_seq_no': 0,\n",
      "                      '_shards': {'failed': 0, 'successful': 1, 'total': 2},\n",
      "                      '_version': 1,\n",
      "                      'result': 'created',\n",
      "                      'status': 201}},\n",
      "           {'index': {'_id': '2J4lC5UBI2TJsjHOAbB6',\n",
      "                      '_index': 'my_synonym_index',\n",
      "                      '_primary_term': 1,\n",
      "                      '_seq_no': 1,\n",
      "                      '_shards': {'failed': 0, 'successful': 1, 'total': 2},\n",
      "                      '_version': 1,\n",
      "                      'result': 'created',\n",
      "                      'status': 201}},\n",
      "           {'index': {'_id': '2Z4lC5UBI2TJsjHOAbB6',\n",
      "                      '_index': 'my_synonym_index',\n",
      "                      '_primary_term': 1,\n",
      "                      '_seq_no': 2,\n",
      "                      '_shards': {'failed': 0, 'successful': 1, 'total': 2},\n",
      "                      '_version': 1,\n",
      "                      'result': 'created',\n",
      "                      'status': 201}},\n",
      "           {'index': {'_id': '2p4lC5UBI2TJsjHOAbB6',\n",
      "                      '_index': 'my_synonym_index',\n",
      "                      '_primary_term': 1,\n",
      "                      '_seq_no': 3,\n",
      "                      '_shards': {'failed': 0, 'successful': 1, 'total': 2},\n",
      "                      '_version': 1,\n",
      "                      'result': 'created',\n",
      "                      'status': 201}},\n",
      "           {'index': {'_id': '254lC5UBI2TJsjHOAbB6',\n",
      "                      '_index': 'my_synonym_index',\n",
      "                      '_primary_term': 1,\n",
      "                      '_seq_no': 4,\n",
      "                      '_shards': {'failed': 0, 'successful': 1, 'total': 2},\n",
      "                      '_version': 1,\n",
      "                      'result': 'created',\n",
      "                      'status': 201}}],\n",
      " 'took': 22079373}\n"
     ]
    }
   ],
   "source": [
    "import json\n",
    "\n",
    "operations = []\n",
    "dummy_data = json.load(open('synonyms.json'))\n",
    "for document in dummy_data:\n",
    "    operations.append({\"index\": {\"_index\": index_name}})\n",
    "    operations.append(document)\n",
    "response = es.bulk(operations=operations)\n",
    "pprint(response.body)"
   ]
  },
  {
   "cell_type": "code",
   "execution_count": 43,
   "id": "001ed63d-985f-4a0e-937a-83a563511747",
   "metadata": {},
   "outputs": [
    {
     "name": "stdout",
     "output_type": "stream",
     "text": [
      "[{'index': {'_index': 'my_synonym_index'}}, {'description': 'I love my car and television.'}, {'index': {'_index': 'my_synonym_index'}}, {'description': 'My smartphone is amazing.'}, {'index': {'_index': 'my_synonym_index'}}, {'description': 'I love working with Jupyter notebooks.'}, {'index': {'_index': 'my_synonym_index'}}, {'description': 'I want to go to Mars.'}, {'index': {'_index': 'my_synonym_index'}}, {'description': 'I want to go to Venus.'}]\n"
     ]
    }
   ],
   "source": [
    "print(operations)"
   ]
  },
  {
   "cell_type": "markdown",
   "id": "3b0a244d-3dd2-4095-a656-138e7870e1c5",
   "metadata": {},
   "source": [
    "**Searching with synonyms**\n",
    "\n"
   ]
  },
  {
   "cell_type": "code",
   "execution_count": 44,
   "id": "d9054190-46dd-46dc-9848-1b465c0dd092",
   "metadata": {},
   "outputs": [
    {
     "name": "stdout",
     "output_type": "stream",
     "text": [
      "{'description': 'I love my car and television.'}\n"
     ]
    }
   ],
   "source": [
    "query = {\n",
    "    \"query\": {\n",
    "        \"match\": {\n",
    "            \"description\": \"vehicle\"\n",
    "        }\n",
    "    }\n",
    "}\n",
    "\n",
    "response = es.search(index=index_name, body=query)\n",
    "hits = response['hits']['hits']\n",
    "for hit in hits:\n",
    "    print(hit['_source'])\n"
   ]
  },
  {
   "cell_type": "markdown",
   "id": "efe861aa-3c3b-434e-b955-746ff15644af",
   "metadata": {},
   "source": [
    "**Expanding synonyms for search time only** <br>\n",
    "mozemy uzyc synonimow tylko dla wyszukiwania, zamiast indexowania <br>\n",
    "\n",
    "tworzymy sobie indeks, ale bez synonimow, za to z dwoma analizerami <br>\n",
    "jeden index_analyzer i drugi search_analyzer"
   ]
  },
  {
   "cell_type": "code",
   "execution_count": 45,
   "id": "6c9baa67-43da-4891-9f08-d7fcb7073b49",
   "metadata": {},
   "outputs": [
    {
     "name": "stdout",
     "output_type": "stream",
     "text": [
      "{'acknowledged': True, 'index': 'my_synonym_index', 'shards_acknowledged': True}\n"
     ]
    }
   ],
   "source": [
    "settings = {\n",
    "    \"settings\": {\n",
    "        \"analysis\": {\n",
    "            \"filter\": {\n",
    "                \"synonym_filter\": {\n",
    "                    \"type\": \"synonym\",\n",
    "                    \"synonyms\": [\n",
    "                        \"car, automobile, vehicle\",\n",
    "                        \"tv, television\"\n",
    "                    ]\n",
    "                }\n",
    "            },\n",
    "            \"analyzer\": {\n",
    "                \"index_analyzer\": {\n",
    "                    \"tokenizer\": \"standard\",\n",
    "                    \"filter\": [\"lowercase\"]\n",
    "                },\n",
    "                \"search_analyzer\": {\n",
    "                    \"tokenizer\": \"standard\",\n",
    "                    \"filter\": [\"lowercase\", \"synonym_filter\"]\n",
    "                }\n",
    "            }\n",
    "        }\n",
    "    },\n",
    "    \"mappings\": {\n",
    "        \"properties\": {\n",
    "            \"description\": {\n",
    "                \"type\": \"text\",\n",
    "                \"analyzer\": \"index_analyzer\",\n",
    "                \"search_analyzer\": \"search_analyzer\"\n",
    "            }\n",
    "        }\n",
    "    }\n",
    "}\n",
    "\n",
    "es.indices.delete(index=index_name)\n",
    "response = es.indices.create(index=index_name, body=settings)\n",
    "pprint(response.body)"
   ]
  },
  {
   "cell_type": "code",
   "execution_count": 46,
   "id": "f8e02ee9-ffae-4240-9074-60d773fe3a13",
   "metadata": {},
   "outputs": [
    {
     "name": "stdout",
     "output_type": "stream",
     "text": [
      "{'errors': False,\n",
      " 'items': [{'index': {'_id': '3J4uC5UBI2TJsjHOILD5',\n",
      "                      '_index': 'my_synonym_index',\n",
      "                      '_primary_term': 1,\n",
      "                      '_seq_no': 0,\n",
      "                      '_shards': {'failed': 0, 'successful': 1, 'total': 2},\n",
      "                      '_version': 1,\n",
      "                      'result': 'created',\n",
      "                      'status': 201}},\n",
      "           {'index': {'_id': '3Z4uC5UBI2TJsjHOILD5',\n",
      "                      '_index': 'my_synonym_index',\n",
      "                      '_primary_term': 1,\n",
      "                      '_seq_no': 1,\n",
      "                      '_shards': {'failed': 0, 'successful': 1, 'total': 2},\n",
      "                      '_version': 1,\n",
      "                      'result': 'created',\n",
      "                      'status': 201}},\n",
      "           {'index': {'_id': '3p4uC5UBI2TJsjHOILD5',\n",
      "                      '_index': 'my_synonym_index',\n",
      "                      '_primary_term': 1,\n",
      "                      '_seq_no': 2,\n",
      "                      '_shards': {'failed': 0, 'successful': 1, 'total': 2},\n",
      "                      '_version': 1,\n",
      "                      'result': 'created',\n",
      "                      'status': 201}},\n",
      "           {'index': {'_id': '354uC5UBI2TJsjHOILD5',\n",
      "                      '_index': 'my_synonym_index',\n",
      "                      '_primary_term': 1,\n",
      "                      '_seq_no': 3,\n",
      "                      '_shards': {'failed': 0, 'successful': 1, 'total': 2},\n",
      "                      '_version': 1,\n",
      "                      'result': 'created',\n",
      "                      'status': 201}},\n",
      "           {'index': {'_id': '4J4uC5UBI2TJsjHOILD5',\n",
      "                      '_index': 'my_synonym_index',\n",
      "                      '_primary_term': 1,\n",
      "                      '_seq_no': 4,\n",
      "                      '_shards': {'failed': 0, 'successful': 1, 'total': 2},\n",
      "                      '_version': 1,\n",
      "                      'result': 'created',\n",
      "                      'status': 201}}],\n",
      " 'took': 22692583}\n"
     ]
    }
   ],
   "source": [
    "operations = []\n",
    "dummy_data = json.load(open('synonyms.json'))\n",
    "for document in dummy_data:\n",
    "    operations.append({\"index\": {\"_index\": index_name}})\n",
    "    operations.append(document)\n",
    "response = es.bulk(operations=operations)\n",
    "pprint(response.body)"
   ]
  },
  {
   "cell_type": "code",
   "execution_count": 47,
   "id": "745a4194-5180-47b1-9148-f3905a4928ba",
   "metadata": {},
   "outputs": [
    {
     "name": "stdout",
     "output_type": "stream",
     "text": [
      "Search results\n",
      "{'description': 'I love my car and television.'}\n"
     ]
    }
   ],
   "source": [
    "query = {\n",
    "    \"query\": {\n",
    "        \"match\": {\n",
    "            \"description\": \"vehicle\"\n",
    "        }\n",
    "    }\n",
    "}\n",
    "\n",
    "response = es.search(index=index_name, body=query)\n",
    "\n",
    "print(\"Search results\")\n",
    "for hit in response['hits']['hits']:\n",
    "    print(hit['_source'])"
   ]
  },
  {
   "cell_type": "code",
   "execution_count": 48,
   "id": "0a03f7ed-3edd-4257-953d-97bc3ac5224e",
   "metadata": {},
   "outputs": [],
   "source": [
    "# tez dziala i spoko"
   ]
  },
  {
   "cell_type": "markdown",
   "id": "e321c566-77cc-422e-97fd-03a96de327aa",
   "metadata": {},
   "source": [
    "### Common options\n",
    "\n",
    "**human-readable output**"
   ]
  },
  {
   "cell_type": "code",
   "execution_count": 49,
   "id": "6671f94d-9617-4b30-957a-598794a05fc7",
   "metadata": {},
   "outputs": [
    {
     "name": "stdout",
     "output_type": "stream",
     "text": [
      "{'max_uptime': '6.6h',\n",
      " 'max_uptime_in_millis': 24081846,\n",
      " 'mem': {'heap_max': '3.7gb',\n",
      "         'heap_max_in_bytes': 4001366016,\n",
      "         'heap_used': '584mb',\n",
      "         'heap_used_in_bytes': 612370608},\n",
      " 'threads': 93,\n",
      " 'versions': [{'bundled_jdk': True,\n",
      "               'count': 1,\n",
      "               'using_bundled_jdk': True,\n",
      "               'version': '22.0.1',\n",
      "               'vm_name': 'OpenJDK 64-Bit Server VM',\n",
      "               'vm_vendor': 'Oracle Corporation',\n",
      "               'vm_version': '22.0.1+8-16'}]}\n"
     ]
    }
   ],
   "source": [
    "response = es.cluster.stats(human=True)\n",
    "pprint(response['nodes']['jvm'])"
   ]
  },
  {
   "cell_type": "markdown",
   "id": "3668901b-66c0-47d4-a112-117ff9cf6c2c",
   "metadata": {},
   "source": [
    "### Response filtering\n",
    "\n",
    "Najpierw **inclusive filtering**"
   ]
  },
  {
   "cell_type": "code",
   "execution_count": 51,
   "id": "b826b0dd-ca66-4760-b662-76fb1ca369ac",
   "metadata": {},
   "outputs": [
    {
     "name": "stdout",
     "output_type": "stream",
     "text": [
      "{'_shards': {'failed': 0, 'skipped': 0, 'successful': 1, 'total': 1},\n",
      " 'hits': {'hits': [{'_id': '3J4uC5UBI2TJsjHOILD5',\n",
      "                    '_index': 'my_synonym_index',\n",
      "                    '_score': 1.0,\n",
      "                    '_source': {'description': 'I love my car and '\n",
      "                                               'television.'}},\n",
      "                   {'_id': '3Z4uC5UBI2TJsjHOILD5',\n",
      "                    '_index': 'my_synonym_index',\n",
      "                    '_score': 1.0,\n",
      "                    '_source': {'description': 'My smartphone is amazing.'}},\n",
      "                   {'_id': '3p4uC5UBI2TJsjHOILD5',\n",
      "                    '_index': 'my_synonym_index',\n",
      "                    '_score': 1.0,\n",
      "                    '_source': {'description': 'I love working with Jupyter '\n",
      "                                               'notebooks.'}},\n",
      "                   {'_id': '354uC5UBI2TJsjHOILD5',\n",
      "                    '_index': 'my_synonym_index',\n",
      "                    '_score': 1.0,\n",
      "                    '_source': {'description': 'I want to go to Mars.'}},\n",
      "                   {'_id': '4J4uC5UBI2TJsjHOILD5',\n",
      "                    '_index': 'my_synonym_index',\n",
      "                    '_score': 1.0,\n",
      "                    '_source': {'description': 'I want to go to Venus.'}}],\n",
      "          'max_score': 1.0,\n",
      "          'total': {'relation': 'eq', 'value': 5}},\n",
      " 'timed_out': False,\n",
      " 'took': 28}\n"
     ]
    }
   ],
   "source": [
    "# najpierw najpierw to wszystko xd\n",
    "response = es.search(\n",
    "    index=index_name,\n",
    "    body={\n",
    "        \"query\": {\n",
    "            \"match_all\": {}\n",
    "        }\n",
    "    }\n",
    ")\n",
    "pprint(response.body)"
   ]
  },
  {
   "cell_type": "code",
   "execution_count": 52,
   "id": "0a4fed2c-7a5d-4e2e-b663-9a92b9bc7b85",
   "metadata": {},
   "outputs": [
    {
     "name": "stdout",
     "output_type": "stream",
     "text": [
      "{'hits': {'hits': [{'_id': '3J4uC5UBI2TJsjHOILD5',\n",
      "                    '_source': {'description': 'I love my car and '\n",
      "                                               'television.'}},\n",
      "                   {'_id': '3Z4uC5UBI2TJsjHOILD5',\n",
      "                    '_source': {'description': 'My smartphone is amazing.'}},\n",
      "                   {'_id': '3p4uC5UBI2TJsjHOILD5',\n",
      "                    '_source': {'description': 'I love working with Jupyter '\n",
      "                                               'notebooks.'}},\n",
      "                   {'_id': '354uC5UBI2TJsjHOILD5',\n",
      "                    '_source': {'description': 'I want to go to Mars.'}},\n",
      "                   {'_id': '4J4uC5UBI2TJsjHOILD5',\n",
      "                    '_source': {'description': 'I want to go to Venus.'}}]}}\n"
     ]
    }
   ],
   "source": [
    "# teraz juz prawdziwe inclusive filtering\n",
    "response = es.search(\n",
    "    index=index_name,\n",
    "    body={\n",
    "        \"query\": {\n",
    "            \"match_all\": {}\n",
    "        }\n",
    "    },\n",
    "    filter_path=\"hits.hits._id,hits.hits._source\"\n",
    ")\n",
    "pprint(response.body)"
   ]
  },
  {
   "cell_type": "markdown",
   "id": "d6ed0c14-cbd1-4c89-b5ba-74a2f687a4c0",
   "metadata": {},
   "source": [
    "**Exclusive filtering** to dodaje sie minus przed diltrem"
   ]
  },
  {
   "cell_type": "code",
   "execution_count": null,
   "id": "3f435d08-4c10-4f6e-b370-318346adda20",
   "metadata": {},
   "outputs": [],
   "source": []
  }
 ],
 "metadata": {
  "kernelspec": {
   "display_name": "Python 3 (ipykernel)",
   "language": "python",
   "name": "python3"
  },
  "language_info": {
   "codemirror_mode": {
    "name": "ipython",
    "version": 3
   },
   "file_extension": ".py",
   "mimetype": "text/x-python",
   "name": "python",
   "nbconvert_exporter": "python",
   "pygments_lexer": "ipython3",
   "version": "3.12.3"
  }
 },
 "nbformat": 4,
 "nbformat_minor": 5
}
